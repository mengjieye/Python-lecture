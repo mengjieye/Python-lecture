{
 "cells": [
  {
   "cell_type": "markdown",
   "metadata": {},
   "source": [
    "## 第1题 绘制神经元网络中常见激活函数的图形。\n",
    "\n",
    "1. sigmod函数  \n",
    " $\\sigma (x) = \\frac{1}{1+e^{-x}}$\n",
    "2. tanh函数  \n",
    " $\\tanh (x) = \\frac{e^{x}- e^{-x}}{e^{x}+ e^{-x}} $\n",
    "3. ReLU函数  \n",
    " $ReLU(x) = max(0,x)$\n",
    "4. softplus函数  \n",
    " $softplus(x) = log(1+e^x)$"
   ]
  },
  {
   "cell_type": "code",
   "execution_count": null,
   "metadata": {},
   "outputs": [],
   "source": []
  },
  {
   "cell_type": "markdown",
   "metadata": {},
   "source": [
    "## 第2题 绘制swish函数图形\n",
    "$swish(x) = x\\sigma(\\beta x)$\n",
    "绘制当$\\beta = 0,0.5,1,100$时的图形，其中$\\sigma (x) = \\frac{1}{1+e^{-x}}$."
   ]
  },
  {
   "cell_type": "code",
   "execution_count": null,
   "metadata": {},
   "outputs": [],
   "source": []
  }
 ],
 "metadata": {
  "kernelspec": {
   "display_name": "Python 3",
   "language": "python",
   "name": "python3"
  },
  "language_info": {
   "codemirror_mode": {
    "name": "ipython",
    "version": 3
   },
   "file_extension": ".py",
   "mimetype": "text/x-python",
   "name": "python",
   "nbconvert_exporter": "python",
   "pygments_lexer": "ipython3",
   "version": "3.8.3"
  },
  "toc": {
   "base_numbering": 1,
   "nav_menu": {},
   "number_sections": true,
   "sideBar": true,
   "skip_h1_title": false,
   "title_cell": "Table of Contents",
   "title_sidebar": "Contents",
   "toc_cell": false,
   "toc_position": {},
   "toc_section_display": true,
   "toc_window_display": false
  }
 },
 "nbformat": 4,
 "nbformat_minor": 4
}
