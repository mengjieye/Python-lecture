{
 "cells": [
  {
   "cell_type": "markdown",
   "metadata": {},
   "source": [
    "1. 写一个函数func1()，这样它可以接受可变长度的参数并打印所有参数的值。\n",
    "   > 调用 func1(20, 40, 60),输出：\n",
    "        20\n",
    "        40\n",
    "        60\n",
    "\n",
    "    > 调用  func1(80, 100)，输出\n",
    "        80\n",
    "        100"
   ]
  },
  {
   "cell_type": "markdown",
   "metadata": {},
   "source": [
    "2. 编写一个函数calculation()，输入两个变量并计算它的加法和减法，同时在一个返回调用中返回加和减法的运算结果。\n",
    "   > 调用 \n",
    "         res = calculation(40, 10)  \n",
    "         print(res)  \n",
    "    输出：\n",
    "         50, 30"
   ]
  },
  {
   "cell_type": "markdown",
   "metadata": {},
   "source": [
    "3. 编写一个show_employee()函数，它应该接受雇员的姓名和它的薪水，并同时显示两者，如果函数调用中缺少薪水，它应该显示为9000。\n",
    "   > 调用：  \n",
    "        show_employee(\"Ben\", 9000)\n",
    "        show_employee(\"Ben\")  \n",
    "    输出\n",
    "        Employee Ben salary is: 9000\n",
    "        Employee Ben salary is: 9000"
   ]
  },
  {
   "cell_type": "markdown",
   "metadata": {},
   "source": [
    "4. 编写一个sort_words()函数，输入是连字符分隔的单词序列，并在按字母顺序排序后以连字符分隔的顺序输出单词。\n",
    "   > 样例输入  \n",
    "         green-red-yellow-black-white\n",
    "    样例输出\n",
    "         black-green-red-white-yellow"
   ]
  },
  {
   "cell_type": "markdown",
   "metadata": {},
   "source": [
    "5. 编写一个程序来检查用户输入密码是否符合规则。以下是检查密码的准则:\n",
    " - 至少有一个[a-z]之间的字母\n",
    " - 至少有一个[A-Z]之间的字母\n",
    " - 至少有一个[0-9]之间的数字\n",
    " - 至少包含[\\$\\#\\@]中的一个字符\n",
    " - 密码最小长度:6\n",
    " - 密码最大长度:12\n",
    "你的程序应该接受逗号分隔的密码序列，并将根据上述条件检查它们。将打印符合条件的密码，每个密码之间用逗号分隔。\n",
    "    >样例输入： ABd1234@1,a F1#,2w3E*,2We3345  \n",
    "    样例输出：ABd1234@1"
   ]
  }
 ],
 "metadata": {
  "kernelspec": {
   "display_name": "Python 3",
   "language": "python",
   "name": "python3"
  },
  "language_info": {
   "codemirror_mode": {
    "name": "ipython",
    "version": 3
   },
   "file_extension": ".py",
   "mimetype": "text/x-python",
   "name": "python",
   "nbconvert_exporter": "python",
   "pygments_lexer": "ipython3",
   "version": "3.8.3"
  },
  "toc": {
   "base_numbering": 1,
   "nav_menu": {},
   "number_sections": true,
   "sideBar": true,
   "skip_h1_title": false,
   "title_cell": "Table of Contents",
   "title_sidebar": "Contents",
   "toc_cell": false,
   "toc_position": {},
   "toc_section_display": true,
   "toc_window_display": false
  }
 },
 "nbformat": 4,
 "nbformat_minor": 4
}
