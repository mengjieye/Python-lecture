{
 "cells": [
  {
   "cell_type": "markdown",
   "metadata": {},
   "source": [
    "# Pandas作业"
   ]
  },
  {
   "cell_type": "code",
   "execution_count": 2,
   "metadata": {
    "ExecuteTime": {
     "end_time": "2020-11-23T14:57:11.200540Z",
     "start_time": "2020-11-23T14:57:09.275654Z"
    }
   },
   "outputs": [
    {
     "name": "stdout",
     "output_type": "stream",
     "text": [
      "1.0.5\n"
     ]
    }
   ],
   "source": [
    "import pandas as pd\n",
    "import numpy as np\n",
    "print(pd.__version__)\n"
   ]
  },
  {
   "cell_type": "markdown",
   "metadata": {},
   "source": [
    "## 1. 创建一个如下所示的DataFrame\n",
    "\n",
    " `| Apple | Banana\n",
    "---|:---|:---\n",
    "2017 Sale | 35 | 21\n",
    "2018 Sale | 41 | 34"
   ]
  },
  {
   "cell_type": "code",
   "execution_count": 6,
   "metadata": {},
   "outputs": [
    {
     "name": "stdout",
     "output_type": "stream",
     "text": [
      "           Apple  Banana\n",
      "2017 Sale     35      21\n",
      "2018 Sale     41      34\n"
     ]
    }
   ],
   "source": [
    "df = pd.DataFrame(data = {\"Apple\":[35,41], \"Banana\":[21,34]}, index=[\"2017 Sale\", \"2018 Sale\"])\n",
    "print(df)"
   ]
  },
  {
   "cell_type": "markdown",
   "metadata": {},
   "source": [
    "## 2. 从list，dict，numpy array 创建Series"
   ]
  },
  {
   "cell_type": "code",
   "execution_count": 4,
   "metadata": {
    "ExecuteTime": {
     "end_time": "2020-11-23T14:57:16.598464Z",
     "start_time": "2020-11-23T14:57:16.594502Z"
    }
   },
   "outputs": [],
   "source": [
    "#输入\n",
    "import numpy as np\n",
    "a_list = list(\"abcdefg\")\n",
    "numpy_array = np.arange(1, 10)\n",
    "dictionary = {\"A\":  0, \"B\":1, \"C\":2, \"D\":3, \"E\":5}"
   ]
  },
  {
   "cell_type": "markdown",
   "metadata": {},
   "source": [
    "## 3. 将系列Series转换为一个DataFrame，并将其索引作为该DataFrame上的另一列"
   ]
  },
  {
   "cell_type": "code",
   "execution_count": 6,
   "metadata": {
    "ExecuteTime": {
     "end_time": "2020-11-23T14:57:21.299821Z",
     "start_time": "2020-11-23T14:57:21.294836Z"
    }
   },
   "outputs": [],
   "source": [
    "#输入\n",
    "mylist = list('abcedfghijklmnopqrstuvwxyz')\n",
    "myarr = np.arange(26)\n",
    "mydict = dict(zip(mylist, myarr))\n",
    "ser = pd.Series(mydict)\n"
   ]
  },
  {
   "cell_type": "markdown",
   "metadata": {},
   "source": [
    "## 4. 合并ser1和ser2形成一个DataFrame"
   ]
  },
  {
   "cell_type": "code",
   "execution_count": 7,
   "metadata": {
    "ExecuteTime": {
     "end_time": "2020-11-23T14:58:44.501911Z",
     "start_time": "2020-11-23T14:58:44.497923Z"
    }
   },
   "outputs": [],
   "source": [
    "#输入\n",
    "ser1 = pd.Series(list('abcedfghijklmnopqrstuvwxyz'))\n",
    "ser2 = pd.Series(np.arange(26))"
   ]
  },
  {
   "cell_type": "markdown",
   "metadata": {},
   "source": [
    "## 5. 计算ser的最小值、第25百分位数、中位数、第75百分位数和最大值"
   ]
  },
  {
   "cell_type": "code",
   "execution_count": 10,
   "metadata": {
    "ExecuteTime": {
     "end_time": "2020-11-23T15:01:48.346124Z",
     "start_time": "2020-11-23T15:01:48.340109Z"
    }
   },
   "outputs": [
    {
     "name": "stdout",
     "output_type": "stream",
     "text": [
      "0      1.251173\n",
      "1     11.713402\n",
      "2     15.765179\n",
      "3      8.737820\n",
      "4     14.906604\n",
      "5     12.571094\n",
      "6     11.105898\n",
      "7      4.649783\n",
      "8      9.052521\n",
      "9     11.275007\n",
      "10     7.709865\n",
      "11    12.175817\n",
      "12     7.082025\n",
      "13    14.084235\n",
      "14    13.363604\n",
      "15     9.477944\n",
      "16     7.343598\n",
      "17    15.148663\n",
      "18     7.809322\n",
      "19     4.408409\n",
      "20    18.094908\n",
      "21    17.708026\n",
      "22     8.740604\n",
      "23     5.787821\n",
      "24    10.922593\n",
      "dtype: float64\n"
     ]
    }
   ],
   "source": [
    "#输入\n",
    "state = np.random.RandomState(100)\n",
    "ser = pd.Series(state.normal(10, 5, 25))\n",
    "print(ser)"
   ]
  },
  {
   "cell_type": "markdown",
   "metadata": {},
   "source": [
    "## 6. 计算两个序列的欧氏距离\n"
   ]
  },
  {
   "cell_type": "code",
   "execution_count": 11,
   "metadata": {
    "ExecuteTime": {
     "end_time": "2020-11-23T15:07:43.453953Z",
     "start_time": "2020-11-23T15:07:43.440480Z"
    }
   },
   "outputs": [
    {
     "data": {
      "text/plain": [
       "'\\n应该输出\\n\\n18.165\\n'"
      ]
     },
     "execution_count": 11,
     "metadata": {},
     "output_type": "execute_result"
    }
   ],
   "source": [
    "#输入\n",
    "p = pd.Series([1, 2, 3, 4, 5, 6, 7, 8, 9, 10])\n",
    "q = pd.Series([10, 9, 8, 7, 6, 5, 4, 3, 2, 1])\n",
    "'''\n",
    "应该输出\n",
    "\n",
    "18.165\n",
    "'''\n"
   ]
  },
  {
   "cell_type": "code",
   "execution_count": null,
   "metadata": {},
   "outputs": [],
   "source": []
  },
  {
   "cell_type": "markdown",
   "metadata": {},
   "source": [
    "## 7. 从df1中删除df2中存在的行。所有三列必须相同。"
   ]
  },
  {
   "cell_type": "code",
   "execution_count": 7,
   "metadata": {},
   "outputs": [
    {
     "name": "stdout",
     "output_type": "stream",
     "text": [
      "    fruit  weight  price\n",
      "0   apple    high      8\n",
      "1  banana  medium      1\n",
      "2  orange     low      8\n",
      "3   apple    high      6\n",
      "4  banana  medium      0\n",
      "5  orange     low      5\n",
      "6   apple    high      0\n",
      "7  banana  medium      7\n",
      "8  orange     low      7\n",
      "   pazham  kilo  price\n",
      "0   apple  high      9\n",
      "1  orange   low      8\n",
      "2    pine  high      2\n",
      "3   apple   low      6\n",
      "4  orange  high      9\n",
      "5    pine   low      9\n"
     ]
    }
   ],
   "source": [
    "# 输入\n",
    "df1 = pd.DataFrame({'fruit': ['apple', 'banana', 'orange'] * 3,\n",
    "                    'weight': ['high', 'medium', 'low'] * 3,\n",
    "                    'price': np.random.randint(0, 10, 9)})\n",
    "\n",
    "df2 = pd.DataFrame({'pazham': ['apple', 'orange', 'pine'] * 2,\n",
    "                    'kilo': ['high', 'low'] * 3,\n",
    "                    'price': np.random.randint(0, 10, 6)})\n",
    "\n",
    "print(df1)\n",
    "print(df2)"
   ]
  },
  {
   "cell_type": "code",
   "execution_count": 9,
   "metadata": {},
   "outputs": [
    {
     "data": {
      "text/html": [
       "<div>\n",
       "<style scoped>\n",
       "    .dataframe tbody tr th:only-of-type {\n",
       "        vertical-align: middle;\n",
       "    }\n",
       "\n",
       "    .dataframe tbody tr th {\n",
       "        vertical-align: top;\n",
       "    }\n",
       "\n",
       "    .dataframe thead th {\n",
       "        text-align: right;\n",
       "    }\n",
       "</style>\n",
       "<table border=\"1\" class=\"dataframe\">\n",
       "  <thead>\n",
       "    <tr style=\"text-align: right;\">\n",
       "      <th></th>\n",
       "      <th>fruit</th>\n",
       "      <th>weight</th>\n",
       "      <th>price</th>\n",
       "    </tr>\n",
       "  </thead>\n",
       "  <tbody>\n",
       "    <tr>\n",
       "      <th>0</th>\n",
       "      <td>apple</td>\n",
       "      <td>high</td>\n",
       "      <td>8</td>\n",
       "    </tr>\n",
       "    <tr>\n",
       "      <th>1</th>\n",
       "      <td>banana</td>\n",
       "      <td>medium</td>\n",
       "      <td>1</td>\n",
       "    </tr>\n",
       "    <tr>\n",
       "      <th>3</th>\n",
       "      <td>apple</td>\n",
       "      <td>high</td>\n",
       "      <td>6</td>\n",
       "    </tr>\n",
       "    <tr>\n",
       "      <th>4</th>\n",
       "      <td>banana</td>\n",
       "      <td>medium</td>\n",
       "      <td>0</td>\n",
       "    </tr>\n",
       "    <tr>\n",
       "      <th>5</th>\n",
       "      <td>orange</td>\n",
       "      <td>low</td>\n",
       "      <td>5</td>\n",
       "    </tr>\n",
       "    <tr>\n",
       "      <th>6</th>\n",
       "      <td>apple</td>\n",
       "      <td>high</td>\n",
       "      <td>0</td>\n",
       "    </tr>\n",
       "    <tr>\n",
       "      <th>7</th>\n",
       "      <td>banana</td>\n",
       "      <td>medium</td>\n",
       "      <td>7</td>\n",
       "    </tr>\n",
       "    <tr>\n",
       "      <th>8</th>\n",
       "      <td>orange</td>\n",
       "      <td>low</td>\n",
       "      <td>7</td>\n",
       "    </tr>\n",
       "  </tbody>\n",
       "</table>\n",
       "</div>"
      ],
      "text/plain": [
       "    fruit  weight  price\n",
       "0   apple    high      8\n",
       "1  banana  medium      1\n",
       "3   apple    high      6\n",
       "4  banana  medium      0\n",
       "5  orange     low      5\n",
       "6   apple    high      0\n",
       "7  banana  medium      7\n",
       "8  orange     low      7"
      ]
     },
     "execution_count": 9,
     "metadata": {},
     "output_type": "execute_result"
    }
   ],
   "source": [
    "# We might use pandas merge\n",
    "#df1.merge(df2, how = \"inner\", left_on = [\"fruit\", \"weight\", \"price\"], right_on = [\"pazham\", \"kilo\", \"price\"])\n",
    "\n",
    "df1[\"concat\"] = df1[\"fruit\"].astype(str) + df1[\"weight\"].astype(str) + df1[\"price\"].astype(str)\n",
    "#df1\n",
    "\n",
    "df2[\"concat\"] = df2[\"pazham\"].astype(str) + df2[\"kilo\"].astype(str) + df2[\"price\"].astype(str)\n",
    "#df2\n",
    "\n",
    "df1 = df1[~df1[\"concat\"].isin(df2[\"concat\"])]\n",
    "df1.drop(\"concat\", inplace = True, axis = 1)\n",
    "df1\n",
    "\n",
    "# Solution from the webpage, IMHO it's incorrect\n",
    "#df1[~df1.isin(df2).all(1)]"
   ]
  },
  {
   "cell_type": "markdown",
   "metadata": {},
   "source": [
    "## 8. 绘制df1每一列的直方图。\n"
   ]
  },
  {
   "cell_type": "code",
   "execution_count": 11,
   "metadata": {},
   "outputs": [
    {
     "data": {
      "text/html": [
       "<div>\n",
       "<style scoped>\n",
       "    .dataframe tbody tr th:only-of-type {\n",
       "        vertical-align: middle;\n",
       "    }\n",
       "\n",
       "    .dataframe tbody tr th {\n",
       "        vertical-align: top;\n",
       "    }\n",
       "\n",
       "    .dataframe thead th {\n",
       "        text-align: right;\n",
       "    }\n",
       "</style>\n",
       "<table border=\"1\" class=\"dataframe\">\n",
       "  <thead>\n",
       "    <tr style=\"text-align: right;\">\n",
       "      <th></th>\n",
       "      <th>col1</th>\n",
       "      <th>col2</th>\n",
       "      <th>col3</th>\n",
       "    </tr>\n",
       "  </thead>\n",
       "  <tbody>\n",
       "    <tr>\n",
       "      <th>0</th>\n",
       "      <td>-1.733422</td>\n",
       "      <td>2.061203</td>\n",
       "      <td>-0.073592</td>\n",
       "    </tr>\n",
       "    <tr>\n",
       "      <th>1</th>\n",
       "      <td>1.272635</td>\n",
       "      <td>0.118228</td>\n",
       "      <td>0.586241</td>\n",
       "    </tr>\n",
       "    <tr>\n",
       "      <th>2</th>\n",
       "      <td>0.212250</td>\n",
       "      <td>-0.144470</td>\n",
       "      <td>-0.047197</td>\n",
       "    </tr>\n",
       "    <tr>\n",
       "      <th>3</th>\n",
       "      <td>-0.638723</td>\n",
       "      <td>1.069621</td>\n",
       "      <td>1.351317</td>\n",
       "    </tr>\n",
       "    <tr>\n",
       "      <th>4</th>\n",
       "      <td>1.101307</td>\n",
       "      <td>0.190287</td>\n",
       "      <td>0.005486</td>\n",
       "    </tr>\n",
       "    <tr>\n",
       "      <th>...</th>\n",
       "      <td>...</td>\n",
       "      <td>...</td>\n",
       "      <td>...</td>\n",
       "    </tr>\n",
       "    <tr>\n",
       "      <th>95</th>\n",
       "      <td>2.106585</td>\n",
       "      <td>-0.900802</td>\n",
       "      <td>-0.740514</td>\n",
       "    </tr>\n",
       "    <tr>\n",
       "      <th>96</th>\n",
       "      <td>1.145984</td>\n",
       "      <td>1.419618</td>\n",
       "      <td>-2.490572</td>\n",
       "    </tr>\n",
       "    <tr>\n",
       "      <th>97</th>\n",
       "      <td>-1.087502</td>\n",
       "      <td>0.088586</td>\n",
       "      <td>-0.234220</td>\n",
       "    </tr>\n",
       "    <tr>\n",
       "      <th>98</th>\n",
       "      <td>-0.211859</td>\n",
       "      <td>-0.972010</td>\n",
       "      <td>-0.488526</td>\n",
       "    </tr>\n",
       "    <tr>\n",
       "      <th>99</th>\n",
       "      <td>0.620926</td>\n",
       "      <td>0.318384</td>\n",
       "      <td>-0.962460</td>\n",
       "    </tr>\n",
       "  </tbody>\n",
       "</table>\n",
       "<p>100 rows × 3 columns</p>\n",
       "</div>"
      ],
      "text/plain": [
       "        col1      col2      col3\n",
       "0  -1.733422  2.061203 -0.073592\n",
       "1   1.272635  0.118228  0.586241\n",
       "2   0.212250 -0.144470 -0.047197\n",
       "3  -0.638723  1.069621  1.351317\n",
       "4   1.101307  0.190287  0.005486\n",
       "..       ...       ...       ...\n",
       "95  2.106585 -0.900802 -0.740514\n",
       "96  1.145984  1.419618 -2.490572\n",
       "97 -1.087502  0.088586 -0.234220\n",
       "98 -0.211859 -0.972010 -0.488526\n",
       "99  0.620926  0.318384 -0.962460\n",
       "\n",
       "[100 rows x 3 columns]"
      ]
     },
     "execution_count": 11,
     "metadata": {},
     "output_type": "execute_result"
    }
   ],
   "source": [
    "# 输入\n",
    "df1 = pd.DataFrame(np.random.randn(100,3), columns=[\"col1\", \"col2\", \"col3\"])\n",
    "\n",
    "df1\n"
   ]
  },
  {
   "cell_type": "code",
   "execution_count": 18,
   "metadata": {},
   "outputs": [
    {
     "data": {
      "text/plain": [
       "(array([ 2.,  2.,  8., 13., 13., 14., 16., 14., 14.,  4.]),\n",
       " array([-2.49057176, -2.03704988, -1.583528  , -1.13000612, -0.67648423,\n",
       "        -0.22296235,  0.23055953,  0.68408141,  1.13760329,  1.59112518,\n",
       "         2.04464706]),\n",
       " <a list of 10 Patch objects>)"
      ]
     },
     "execution_count": 18,
     "metadata": {},
     "output_type": "execute_result"
    },
    {
     "data": {
      "image/png": "[encoded data removed]",
      "text/plain": [
       "<Figure size 432x288 with 1 Axes>"
      ]
     },
     "metadata": {
      "needs_background": "light"
     },
     "output_type": "display_data"
    }
   ],
   "source": []
  },
  {
   "cell_type": "code",
   "execution_count": null,
   "metadata": {},
   "outputs": [],
   "source": []
  },
  {
   "cell_type": "markdown",
   "metadata": {},
   "source": [
    "## 9. 从文件list.xlsx读取数据，统计每个学校的人数。"
   ]
  },
  {
   "cell_type": "code",
   "execution_count": 44,
   "metadata": {},
   "outputs": [
    {
     "data": {
      "text/plain": [
       "([0,\n",
       "  1,\n",
       "  2,\n",
       "  3,\n",
       "  4,\n",
       "  5,\n",
       "  6,\n",
       "  7,\n",
       "  8,\n",
       "  9,\n",
       "  10,\n",
       "  11,\n",
       "  12,\n",
       "  13,\n",
       "  14,\n",
       "  15,\n",
       "  16,\n",
       "  17,\n",
       "  18,\n",
       "  19,\n",
       "  20,\n",
       "  21,\n",
       "  22,\n",
       "  23,\n",
       "  24,\n",
       "  25,\n",
       "  26,\n",
       "  27,\n",
       "  28,\n",
       "  29,\n",
       "  30,\n",
       "  31],\n",
       " <a list of 32 Text major ticklabel objects>)"
      ]
     },
     "execution_count": 44,
     "metadata": {},
     "output_type": "execute_result"
    },
    {
     "data": {
      "image/png": "[encoded data removed]",
      "text/plain": [
       "<Figure size 432x288 with 1 Axes>"
      ]
     },
     "metadata": {},
     "output_type": "display_data"
    }
   ],
   "source": [
    "df = pd.read_excel(r\"./excel/list.xlsx\")\n",
    "cnt = df['学校名称'].value_counts()\n",
    "from matplotlib.pylab import style\n",
    "\n",
    "style.use('ggplot')    \n",
    "plt.rcParams['font.sans-serif'] = ['SimHei'] \n",
    "plt.rcParams['axes.unicode_minus'] = False \n",
    "plt.plot(cnt[0:32])\n",
    "plt.xticks(rotation=30)"
   ]
  },
  {
   "cell_type": "code",
   "execution_count": null,
   "metadata": {},
   "outputs": [],
   "source": []
  }
 ],
 "metadata": {
  "kernelspec": {
   "display_name": "Python 3",
   "language": "python",
   "name": "python3"
  },
  "language_info": {
   "codemirror_mode": {
    "name": "ipython",
    "version": 3
   },
   "file_extension": ".py",
   "mimetype": "text/x-python",
   "name": "python",
   "nbconvert_exporter": "python",
   "pygments_lexer": "ipython3",
   "version": "3.8.3"
  },
  "toc": {
   "base_numbering": 1,
   "nav_menu": {},
   "number_sections": true,
   "sideBar": true,
   "skip_h1_title": false,
   "title_cell": "Table of Contents",
   "title_sidebar": "Contents",
   "toc_cell": false,
   "toc_position": {},
   "toc_section_display": true,
   "toc_window_display": false
  }
 },
 "nbformat": 4,
 "nbformat_minor": 4
}
