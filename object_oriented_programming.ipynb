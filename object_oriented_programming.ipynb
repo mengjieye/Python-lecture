{
 "cells": [
  {
   "cell_type": "markdown",
   "metadata": {},
   "source": [
    "# 面向对象\n",
    "Python从设计之初就已经是一门面向对象的语言，正因为如此，在Python中创建一个类和对象是很容易的。本章节我们将详细介绍Python的面向对象编程。\n",
    "\n",
    "如果你以前没有接触过面向对象的编程语言，那你可能需要先了解一些面向对象语言的一些基本特征，在头脑里头形成一个基本的面向对象的概念，这样有助于你更容易的学习Python的面向对象编程。\n",
    "\n",
    "接下来我们先来简单的了解下面向对象的一些基本特征。"
   ]
  },
  {
   "cell_type": "markdown",
   "metadata": {},
   "source": [
    "## 面向对象简介\n",
    "* <b>类(Class):</b> 用来描述具有相同的属性和方法的对象的集合。它定义了该集合中每个对象所共有的属性和方法。对象是类的实例。\n",
    "* <b>方法：</b>类中定义的函数。\n",
    "* <b>类属性：</b>类属性在整个实例化的对象中是公用的。类变量定义在类中且在函数体之外。类变量通常不作为实例属性使用。\n",
    "* <b>数据成员：</b>类变量或者实例变量用于处理类及其实例对象的相关的数据。\n",
    "* <b>方法重写：</b>如果从父类继承的方法不能满足子类的需求，可以对其进行改写，这个过程叫方法的覆盖（override），也称为方法的重写。\n",
    "* <b>实例属性：</b>定义在方法中的属性，只作用于当前实例的类。\n",
    "* <b>继承：</b>即一个派生类（derived class）继承基类（base class）的字段和方法。继承也允许把一个派生类的对象作为一个基类对象对待。例如，有这样一个设计：一个Dog类型的对象派生自Animal类，这是模拟\"是一个（is-a）\"关系（例图，Dog是一个Animal）。\n",
    "* <b>实例化：</b>创建一个类的实例，类的具体对象。\n",
    "* <b>对象：</b>通过类定义的数据结构实例。对象包括两个数据成员（类变量和实例变量）和方法。"
   ]
  },
  {
   "cell_type": "markdown",
   "metadata": {},
   "source": [
    "和其它编程语言相比，Python 在尽可能不增加新的语法和语义的情况下加入了类机制。\n",
    "\n",
    "Python中的类提供了面向对象编程的所有基本功能：类的继承机制允许多个基类，派生类可以覆盖基类中的任何方法，方法中可以调用基类中的同名方法。\n",
    "\n",
    "对象可以包含任意数量和类型的数据。"
   ]
  },
  {
   "cell_type": "markdown",
   "metadata": {},
   "source": [
    "## 类定义"
   ]
  },
  {
   "cell_type": "code",
   "execution_count": 54,
   "metadata": {
    "ExecuteTime": {
     "end_time": "2020-10-19T16:29:57.915075Z",
     "start_time": "2020-10-19T16:29:57.911074Z"
    }
   },
   "outputs": [],
   "source": [
    "class Person:\n",
    "    def set_name(self, name):\n",
    "        self.name = name\n",
    "        \n",
    "    def print_name(self):\n",
    "        print(self.name)"
   ]
  },
  {
   "cell_type": "markdown",
   "metadata": {},
   "source": [
    "class后直接跟类名，通常大写字母开头，并且采用单数。\n",
    "\n",
    "对于新式的类，一般要加上括号，紧接着是object（表示该类是从哪个类继承下来的）。通常，没有合适的继承类，就用object类，适合所有类最终都会被继承的类。例如：\n",
    "> class Person(object):"
   ]
  },
  {
   "cell_type": "markdown",
   "metadata": {},
   "source": [
    "类实例化后，可以使用其属性，实际上，创建一个类之后，可以通过类名访问其属性。"
   ]
  },
  {
   "cell_type": "markdown",
   "metadata": {},
   "source": [
    "类对象支持两种操作：属性引用和实例化。\n",
    "\n",
    "属性引用使用和 Python 中所有的属性引用一样的标准语法：obj.name。\n",
    "\n",
    "类对象创建后，类命名空间中所有的命名都是有效属性名。"
   ]
  },
  {
   "cell_type": "code",
   "execution_count": 57,
   "metadata": {
    "ExecuteTime": {
     "end_time": "2020-10-19T16:39:24.056492Z",
     "start_time": "2020-10-19T16:39:24.051651Z"
    }
   },
   "outputs": [
    {
     "name": "stdout",
     "output_type": "stream",
     "text": [
      "yemengjie\n"
     ]
    }
   ],
   "source": [
    "person = Person() # 创建实例person\n",
    "\n",
    "# 调用实例方法\n",
    "person.set_name(\"yemengjie\") \n",
    "person.print_name()"
   ]
  },
  {
   "cell_type": "markdown",
   "metadata": {},
   "source": [
    "### self代表类的实例，而非类"
   ]
  },
  {
   "cell_type": "markdown",
   "metadata": {},
   "source": [
    "类的方法与普通的函数只有一个特别的区别——它们必须有一个额外的第一个参数名称，按照惯例它的名称是 self。\n",
    "**注意**  \n",
    "类的实例方法中第一个参数是代表实例本身的参数self，但是调用时并不需要手动将实例参数传入进方法，而是由解释器自动传入。"
   ]
  },
  {
   "cell_type": "markdown",
   "metadata": {},
   "source": [
    "## 构造函数与析构函数"
   ]
  },
  {
   "cell_type": "markdown",
   "metadata": {},
   "source": [
    "Python中，构造函数由魔法方法\\_\\_init\\_\\_()来实现，类的实例化操作会自动调用\\_\\_init\\_\\_()方法。"
   ]
  },
  {
   "cell_type": "markdown",
   "metadata": {},
   "source": [
    "\\_\\_init\\_\\_()方法的第一个参数永远是self，表示创建的实例本身，因此，在\\_\\_init\\_\\_()方法内部，就可以将各种属性绑定到self，因为self就指向创建的实例本身。"
   ]
  },
  {
   "cell_type": "code",
   "execution_count": 59,
   "metadata": {},
   "outputs": [],
   "source": [
    "class Person:\n",
    "    def __init__(self, name):\n",
    "        self.name = name\n",
    "        \n",
    "    def print_name(self):\n",
    "        print(self.name)"
   ]
  },
  {
   "cell_type": "code",
   "execution_count": 60,
   "metadata": {},
   "outputs": [
    {
     "name": "stdout",
     "output_type": "stream",
     "text": [
      "yemengjie\n"
     ]
    }
   ],
   "source": [
    "# 实例化时直接给定参数name\n",
    "person = Person(\"yemengjie\")\n",
    "person.print_name()"
   ]
  },
  {
   "cell_type": "markdown",
   "metadata": {},
   "source": [
    "python3的class有两个构造函数，\\__new\\__和\\__init\\__。它们的调用顺序是先\\__new\\__，然后\\__init\\__。\n",
    "\n",
    "其中\\__new\\__首先被调用，其第一个参数是类型，需要返回该类型的值。\n",
    "\n",
    "然后\\__init\\__被调用，其第一个参数是实例，不需要显式地返回。\n",
    "\n",
    "注意啦！假设有一个class，同时有这两个构造函数，创建其实例时提供的参数，其实会使用两次，先后被提供给\\__new\\__和\\__init\\__使用。\n",
    "\n",
    "\\__new\\__有个很重要的地方：它的返回值必须是返回自身class类型的值，一般来说，如果class直接继承至object，则使用object.\\__new\\__来生成；如果继承自某个类，比如str，就应使用str.\\__new\\__来生成。如果\\__new\\__不返回自身class类型的值，那么\\__init\\__将不会被执行！（注意如果是使用\\__new\\__方法返回的其他class类型的值，该值的生成也不会执行该class的\\__init\\__方法）\n",
    "\n",
    "\\__new\\__的好处是啥呢？最大的好处是让class的值也可以包含一个默认值，也就是不关联到实例属性的一个值。这样我们就可以对基本类型进行“增强”。"
   ]
  },
  {
   "cell_type": "code",
   "execution_count": 8,
   "metadata": {},
   "outputs": [
    {
     "name": "stdout",
     "output_type": "stream",
     "text": [
      "call __new__\n",
      "call __init__\n",
      "delete something!\n",
      "yemengjie\n",
      "delete something!\n"
     ]
    }
   ],
   "source": [
    "class Person(object):\n",
    "    \"\"\"比较__init__和__new__方法。\"\"\"\n",
    "    \n",
    "    def __new__(cls, name):\n",
    "        '''\n",
    "        __new__ 返回当前类cls的实例，是一个类方法， 返回的实例恰好是__init__方法输入参数self\n",
    "        如果没有返回值，将不会执行__init__方法。\n",
    "        \n",
    "        '''\n",
    "        print(\"call __new__\")\n",
    "        return super(Person, cls).__new__(cls)\n",
    "\n",
    "    def __init__(self, name):\n",
    "        print(\"call __init__\")\n",
    "        self.name = name\n",
    "        \n",
    "    def print_name(self):\n",
    "        print(self.name)\n",
    "    \n",
    "    def __del__(self):\n",
    "        print(\"delete something!\")\n",
    "        \n",
    "person = Person(\"yemengjie\")\n",
    "person.print_name()\n",
    "del person"
   ]
  },
  {
   "cell_type": "markdown",
   "metadata": {},
   "source": [
    "***\n",
    "**析构函数**  \n",
    "\\__del\\__就是一个析构函数了，当使用del 删除对象时，会调用他本身的析构函数，另外当对象在某个作用域中调用完毕，在跳出其作用域的同时析构函数也会被调用一次，这样可以用来释放内存空间。　　\n",
    "\n",
    "\\__del\\__只接受一个self参数。但是要注意，\\__del\\__的调用时间是不确定的！并不是你不用某个变量了（出了作用域或者显式del了），它就一定会被调用的，它的调用也是有可能一直延时到Python清理垃圾的时候。\n",
    "\n",
    "\\__del\\__也是可选的，如果不提供，则Python 会在后台提供默认析构函数。\n",
    "\n",
    "如果要显式的调用析构函数，可以使用del关键字： del obj"
   ]
  },
  {
   "cell_type": "markdown",
   "metadata": {},
   "source": [
    "## 属性、函数和方法"
   ]
  },
  {
   "cell_type": "markdown",
   "metadata": {},
   "source": [
    "- **实例属性**  \n",
    "    > 属于某个对象或实例的属性\n",
    "- **类属性**  \n",
    "    > 不独属于某个实例，而是由所有实例共享的属性。\n"
   ]
  },
  {
   "cell_type": "code",
   "execution_count": 25,
   "metadata": {},
   "outputs": [],
   "source": [
    "class Person(object):\n",
    "    \"\"\"比较__init__和__new__方法。\"\"\"\n",
    "    \n",
    "    # 类属性\n",
    "    \n",
    "    type = 'human'\n",
    "    \n",
    "    def __new__(cls, name):\n",
    "        '''\n",
    "        __new__ 返回当前类cls的实例，是一个类方法， 返回的实例恰好是__init__方法输入参数self\n",
    "        如果没有返回值，将不会执行__init__方法。\n",
    "        \n",
    "        '''\n",
    "        print(\"call __new__\")\n",
    "        return super(Person, cls).__new__(cls)\n",
    "\n",
    "    def __init__(self, name):\n",
    "        print(\"call __init__\")\n",
    "        self.name = name   \n",
    "     \n"
   ]
  },
  {
   "cell_type": "markdown",
   "metadata": {},
   "source": [
    "- 类方法 \n",
    "    > 类对象所拥有的方法，需要用修饰器@classmethod来标识其为类方法，对于类方法，第一个参数必须是类对象，一般以cls作为第一个参数（当然可以用其他名称的变量作为其第一个参数，但是大部分人都习惯以'cls'作为第一个参数的名字，就最好用'cls'了），能够通过实例对象和类对象去访问。\n",
    "- 实例方法 \n",
    "    > 实例方法的第一个参数是实例对象self。\n",
    "- 静态方法 \n",
    "    > 没有任何参数的方法，修饰器@staticmethod来进行修饰。\n",
    "\n",
    "\n"
   ]
  },
  {
   "cell_type": "code",
   "execution_count": null,
   "metadata": {},
   "outputs": [],
   "source": []
  },
  {
   "cell_type": "markdown",
   "metadata": {},
   "source": [
    "* staticmethod 不需要任何类和实例的信息, classmethod 需要类的信息, 普通方法需要实例信息。\n",
    "* 一般情况下，要使用某个类的方法，需要先实例化一个对象再调用方法。\n",
    "* 而使用 @staticmethod 或 @classmethod，就可以不用构造实例，直接使用 classname.methodname() 来调用。\n",
    "* staticmethod 可以被用来组织类之间有逻辑关系的函数。\n",
    "* 在很多情况下，一些函数与类相关，但不需要任何类或实例变量就可以实现一些功能。比如设置环境变量，修改另一个类的属性等等。假如我们想仅实现类之间的交互而不是通过实例，我们可以在类之外建立一个简单的函数来实现这个功能，但是这会使代码扩散到类之外，可能对未来代码维护产生问题。\n",
    "\n",
    "* Python 中使用工厂模式（alternative constructor）是最典型的使用 classmethod 的场景。\n",
    "classmethod尤其适合用在当我们需要在创建真正的类实例之前做一些预设置的情况下，因为实例建立之前显然你是不能使用实例方法的，你只能使用classmethod.\n",
    "这样做的另一个好处就是你以后重构类的时候不必要修改构造函数，只需要额外添加你要处理的函数，然后使用装饰符 @classmethod 就可以了。相当于我们拥有了多样化的构造函数。"
   ]
  },
  {
   "cell_type": "markdown",
   "metadata": {},
   "source": [
    "\n",
    "### 类的私有成员\n",
    "\\_\\_private\\_attrs：两个下划线开头，声明该属性为私有属性，不能在类外部被使用或直接访问。在类内部的方法中使用时 self.\\_\\_private_attrs。 \n",
    "\\_\\_private\\_method：两个下划线开头，声明该方法为私有方法，只能在类的内部调用 ，不能在类地外部调用。self.\\_\\_private\\_methods。\n",
    "### 类的受保护成员\n",
    "\\_private\\_attrs：一个下划线开头，声明该属性为受保护属性，只能在类或子类内部使用，不能在类外部被使用或直接访问。  \n",
    "\\_private\\_method：一个下划线开头，声明该方法为受保护方法，只能在类或子类内部调用 ，不能在类地外部调用。"
   ]
  },
  {
   "cell_type": "code",
   "execution_count": null,
   "metadata": {},
   "outputs": [],
   "source": []
  },
  {
   "cell_type": "code",
   "execution_count": null,
   "metadata": {},
   "outputs": [],
   "source": []
  },
  {
   "cell_type": "markdown",
   "metadata": {},
   "source": [
    "### 构造函数重载"
   ]
  },
  {
   "cell_type": "code",
   "execution_count": null,
   "metadata": {},
   "outputs": [],
   "source": []
  },
  {
   "cell_type": "markdown",
   "metadata": {},
   "source": [
    "## 给类添加更多功能"
   ]
  },
  {
   "cell_type": "markdown",
   "metadata": {},
   "source": [
    "类的专有方法：\n",
    "* \\_\\_init\\_\\_ : 构造函数，在生成对象时调用\n",
    "* \\_\\_del\\_\\_ : 析构函数，释放对象时使用\n",
    "* \\_\\_str\\_\\_ : 打印，转换\n",
    "* \\_\\_setitem\\_\\_ : 按照索引赋值\n",
    "* \\_\\_getitem\\_\\_: 按照索引获取值\n",
    "* \\_\\_len\\_\\_: 获得长度\n",
    "* \\_\\_cmp\\_\\_: 比较运算\n",
    "* \\_\\_call\\_\\_: 函数调用\n",
    "* \\_\\_add\\_\\_: 加运算\n",
    "* \\_\\_sub\\_\\_: 减运算\n",
    "* \\_\\_mul\\_\\_: 乘运算\n",
    "* \\_\\_div\\_\\_: 除运算\n",
    "* \\_\\_mod\\_\\_: 求余运算\n",
    "* \\_\\_pow\\_\\_: 乘方"
   ]
  },
  {
   "cell_type": "markdown",
   "metadata": {},
   "source": [
    "### 运算符重载\n",
    "Python同样支持运算符重载，我们可以对类的专有方法进行重载，实例如下："
   ]
  },
  {
   "cell_type": "code",
   "execution_count": 35,
   "metadata": {},
   "outputs": [],
   "source": [
    "class Vector:\n",
    "   pass"
   ]
  },
  {
   "cell_type": "code",
   "execution_count": null,
   "metadata": {},
   "outputs": [],
   "source": []
  },
  {
   "cell_type": "code",
   "execution_count": null,
   "metadata": {},
   "outputs": [],
   "source": []
  },
  {
   "cell_type": "code",
   "execution_count": null,
   "metadata": {},
   "outputs": [],
   "source": []
  },
  {
   "cell_type": "markdown",
   "metadata": {},
   "source": [
    "## 继承\n",
    "Python 同样支持类的继承，如果一种语言不支持继承，类就没有什么意义。派生类的定义如下所示:\n",
    "```\n",
    "class DerivedClassName(BaseClassName1):\n",
    "    <statement-1>\n",
    "    .\n",
    "    .\n",
    "    .\n",
    "    <statement-N>\n",
    "```"
   ]
  },
  {
   "cell_type": "markdown",
   "metadata": {},
   "source": [
    "需要注意圆括号中基类的顺序，若是基类中有相同的方法名，而在子类使用时未指定，python从左至右搜索 即方法在子类中未找到时，从左到右查找基类中是否包含方法。\n",
    "\n",
    "BaseClassName（示例中的基类名）必须与派生类定义在一个作用域内。除了类，还可以用表达式，基类定义在另一个模块中时这一点非常有用:"
   ]
  },
  {
   "cell_type": "code",
   "execution_count": null,
   "metadata": {},
   "outputs": [],
   "source": [
    "class Person(object):\n",
    "    #定义构造方法\n",
    "    def __init__(self,name,age,weight):\n",
    "        self.name = name\n",
    "        self.age = age\n",
    "        self.__weight = weight\n",
    "        \n",
    "    def show_basic_info(self):\n",
    "        print(\"{0} 说: 我 {1} 岁, 体重:{2}公斤。\".format(self.name,self.age, self.__weight))\n",
    " #单继承示例\n",
    "class Student(Person):\n",
    "    grade = ''\n",
    "    def __init__(self,name,age,weight,grade):\n",
    "        #调用父类的构造函数\n",
    "        Person.__init__(self,name,age,weight)\n",
    "        self.grade = grade\n",
    "        \n",
    "    def show_student_info(self):\n",
    "        print(\"{0} 说: 我 {1} 岁, 在读 {2} 年级\".format(self.name, self.age, self.grade))\n",
    "\n",
    "        \n",
    "s = Student('ken',10,30,3)\n",
    "s.show_basic_info()\n",
    "print(s.show_basic_info)\n",
    "s.show_student_info()\n",
    "print(s.show_student_info)"
   ]
  },
  {
   "cell_type": "markdown",
   "metadata": {},
   "source": [
    "## 多继承\n",
    "Python同样有限的支持多继承形式。多继承的类定义形如下例:\n",
    "```\n",
    "class DerivedClassName(Base1, Base2, Base3):\n",
    "    <statement-1>\n",
    "    .\n",
    "    .\n",
    "    .\n",
    "    <statement-N>\n",
    "```"
   ]
  },
  {
   "cell_type": "markdown",
   "metadata": {},
   "source": [
    "需要注意圆括号中父类的顺序，若是父类中有相同的方法名，而在子类使用时未指定，Python从左至右搜索 即方法在子类中未找到时，从左到右查找父类中是否包含方法。"
   ]
  },
  {
   "cell_type": "code",
   "execution_count": 31,
   "metadata": {},
   "outputs": [
    {
     "name": "stdout",
     "output_type": "stream",
     "text": [
      "init Sample\n",
      "init Student\n",
      "init Person\n",
      "init Speaker\n",
      "我叫 Tim，我是一个演说家，我演讲的主题是 Python\n"
     ]
    }
   ],
   "source": [
    "# 类定义\n",
    "class Person(object):\n",
    "\n",
    "    # 定义构造方法\n",
    "    def __init__(self, name, age, weight):\n",
    "        print('init Person')\n",
    "        self.name = name\n",
    "        self.age = age\n",
    "        self.__weight = weight\n",
    "        \n",
    "    def show_basic_info(self):\n",
    "        print(\"{0} 说: 我 {1} 岁, 体重:{2}公斤。\".format(self.name,self.age, self.__weight))\n",
    "\n",
    "# 单继承示例\n",
    "class Student(Person):\n",
    "    grade = ''\n",
    "    def __init__(self, name, age, weight, grade):\n",
    "        print('init Student')\n",
    "        # 调用父类的构造函数\n",
    "        Person.__init__(self,name,age,weight)\n",
    "        self.grade = grade\n",
    "        \n",
    "    def show_student_info(self):\n",
    "        print(\"{0} 说: 我 {1} 岁, 在读 {2} 年级\".format(self.name, self.age, self.grade))\n",
    "\n",
    "\n",
    "#另一个类，多重继承之前的准备\n",
    "class Speaker():\n",
    "    topic = 'dd'\n",
    "    name = ''\n",
    "    def __init__(self, name, topic):\n",
    "        print('init Speaker')\n",
    "        self.name = name\n",
    "        self.topic = topic\n",
    "    def speak(self):\n",
    "        print(\"我叫 %s，我是一个演说家，我演讲的主题是 %s\"%(self.name, self.topic))\n",
    "\n",
    "        \n",
    "#多重继承\n",
    "class Sample(Student, Speaker):\n",
    "    a =''\n",
    "    def __init__(self,name, age, weight, grade, topic):\n",
    "        print('init Sample')\n",
    "        Student.__init__(self, name, age, weight, grade)\n",
    "        Speaker.__init__(self, name, topic)\n",
    "\n",
    "test = Sample(\"Tim\", 25, 80, 4, \"Python\")\n",
    "#方法名同，默认调用的是在括号中排前的父类的方法\n",
    "# 但是这种多继承的方式，强烈不推荐。\n",
    "test.speak()\n"
   ]
  },
  {
   "cell_type": "markdown",
   "metadata": {},
   "source": [
    "实际上，考虑到可维护性，不是很建议使用多继承，更多的情况下使用组合"
   ]
  },
  {
   "cell_type": "code",
   "execution_count": 31,
   "metadata": {},
   "outputs": [
    {
     "name": "stdout",
     "output_type": "stream",
     "text": [
      "我叫 Tim，我是一个演说家，我演讲的主题是 Python\n",
      "person\\'s name is Tim, age is 30, topic is Python\n"
     ]
    }
   ],
   "source": [
    "#类定义\n",
    "class Person:\n",
    "    #定义构造方法\n",
    "    def __init__(self,name,age,weight):\n",
    "        self.name = name\n",
    "        self.age = age\n",
    "        self.__weight = weight\n",
    "    def speak(self):\n",
    "        print(\"%s 说: 我 %d 岁。\" %(self.name,self.age))\n",
    "\n",
    "class Speaker(Person):\n",
    "    topic = ''\n",
    "    def __init__(self, name, age, weight, topic):\n",
    "        Person.__init__(self, name, age, weight)\n",
    "        self.topic = topic\n",
    "    def speak(self):\n",
    "        print(\"我叫 %s，我是一个演说家，我演讲的主题是 %s\"%(self.name, self.topic))\n",
    "\n",
    "#定义一个类，通过组合方式使用speaker类\n",
    "class Sample():\n",
    "    def __init__(self, name, age, weight, topic):\n",
    "        self.speaker = Speaker(name, age, weight, topic)\n",
    "    \n",
    "        \n",
    "test = Sample(\"Tim\", 30, 60, \"Python\")\n",
    "test.speaker.speak()\n",
    "print(r\"person\\'s name is {0}, age is {1}, topic is {2}\"\n",
    "      .format(test.speaker.name, \n",
    "              test.speaker.age, \n",
    "              test.speaker.topic))"
   ]
  },
  {
   "cell_type": "markdown",
   "metadata": {},
   "source": [
    "## 方法重写\n",
    "如果你的父类方法的功能不能满足你的需求，你可以在子类重写你父类的方法，实例如下："
   ]
  },
  {
   "cell_type": "code",
   "execution_count": null,
   "metadata": {},
   "outputs": [],
   "source": [
    "class Parent:        # 定义父类\n",
    "    def myMethod(self):\n",
    "        print ('调用父类方法')\n",
    "\n",
    "class Child(Parent): # 定义子类\n",
    "    def myMethod(self):\n",
    "        print ('调用子类方法')\n",
    "\n",
    "child = Child()          # 子类实例\n",
    "child.myMethod()         # 子类调用重写方法\n",
    "super(Child, child).myMethod() #用子类对象调用父类已被覆盖的方法"
   ]
  },
  {
   "cell_type": "markdown",
   "metadata": {},
   "source": [
    "super() 函数是用于调用父类(超类)的一个方法。"
   ]
  },
  {
   "cell_type": "markdown",
   "metadata": {},
   "source": [
    "### Python子类继承父类构造函数说明"
   ]
  },
  {
   "cell_type": "markdown",
   "metadata": {},
   "source": [
    "如果在子类中需要父类的构造方法就需要显示的调用父类的构造方法，或者不重写父类的构造方法。\n",
    "\n",
    "子类不重写 \\_\\_init\\_\\_，实例化子类时，会自动调用父类定义的 \\_\\_init\\_\\_。"
   ]
  },
  {
   "cell_type": "code",
   "execution_count": 32,
   "metadata": {},
   "outputs": [
    {
     "name": "stdout",
     "output_type": "stream",
     "text": [
      "name: morningstar\n",
      "Son morningstar\n"
     ]
    }
   ],
   "source": [
    "class Father(object):\n",
    "    def __init__(self, name):\n",
    "        self.name = name\n",
    "        print ( \"name: %s\" %(self.name))\n",
    "    def getName(self):\n",
    "        return 'Father ' + self.name\n",
    "\n",
    "class Son(Father):\n",
    "    def getName(self):\n",
    "        return 'Son '+ self.name\n",
    "\n",
    "if __name__== '__main__':\n",
    "    son = Son('morningstar')\n",
    "    print (son.getName())"
   ]
  },
  {
   "cell_type": "markdown",
   "metadata": {},
   "source": [
    "如果重写了\\_\\_init\\_\\_ 时，实例化子类，就不会调用父类已经定义的 \\_\\_init\\_\\_，语法格式如下："
   ]
  },
  {
   "cell_type": "code",
   "execution_count": null,
   "metadata": {},
   "outputs": [],
   "source": [
    "class Father(object):\n",
    "    def __init__(self, name):\n",
    "        self.name=name\n",
    "        print ( \"name: %s\" %( self.name) )\n",
    "    def getName(self):\n",
    "        return 'Father ' + self.name\n",
    "\n",
    "class Son(Father):\n",
    "    def __init__(self, name):\n",
    "        print ( \"hi\" )\n",
    "        print(Father)\n",
    "        Father.__init__(self,name)\n",
    "\n",
    "    def getName(self):\n",
    "        return 'Son '+self.name\n",
    "\n",
    "if __name__=='__main__':\n",
    "    son=Son('morningstar')\n",
    "    print ( son.getName() )"
   ]
  },
  {
   "cell_type": "markdown",
   "metadata": {},
   "source": [
    "如果重写了\\_\\_init\\_\\_ 时，要继承父类的构造方法，可以使用 super 关键字：\n",
    "```\n",
    "super(子类，self).__init__(参数1，参数2，....)\n",
    "```\n",
    "还有一种经典写法：\n",
    "```\n",
    "父类名称.__init__(self,参数1，参数2，...)\n",
    "```"
   ]
  },
  {
   "cell_type": "code",
   "execution_count": null,
   "metadata": {},
   "outputs": [],
   "source": [
    "class Father(object):\n",
    "    def __init__(self, name):\n",
    "        self.name=name\n",
    "        print ( \"father name: %s\" %( self.name))\n",
    "    def getName(self):\n",
    "        return 'Father ' + self.name\n",
    "\n",
    "class Son(Father):\n",
    "    def __init__(self, name):\n",
    "        print(type(super(Son, self)))\n",
    "        super(Son, self).__init__(name)\n",
    "#         Father.__init__(self,name)\n",
    "        print (\"Son init\")\n",
    "        self.name =  name\n",
    "    def getName(self):\n",
    "        return 'Son '+self.name\n",
    "\n",
    "if __name__=='__main__':\n",
    "    son=Son('morningstar')\n",
    "    print ( son.getName() )"
   ]
  },
  {
   "cell_type": "markdown",
   "metadata": {},
   "source": [
    "## 练习"
   ]
  },
  {
   "cell_type": "markdown",
   "metadata": {},
   "source": [
    "# 第1题\n",
    "1. 创建一个Triangle类。其\\_\\_init\\_\\_()方法应该采用self、angle1、angle2和angle3作为参数，表示三角形的三个内角。  \n",
    "2. 创建一个名为number_of_sides的变量，并将其设置为3。  \n",
    "3. 创建一个名为check_angles的方法。如果三角形的三个角的和等于180，返回True，否则为False。 \n",
    "4. 创建一个名为my_triangle的变量，并将其设置为三角形类的一个新实例(例如90、30、60)。\n",
    "5. 打印出my_triangle，number_of_sides；并打印my_triangle.check_angles()。"
   ]
  },
  {
   "cell_type": "markdown",
   "metadata": {},
   "source": [
    "### 第2题\n",
    "\n",
    "1. 定义一个名为Songs的类，它将显示一首歌曲的歌词。其剩余的init__()方法应该有两个参数:selfanf lyrics。lyricsis一个列表。在类中创建一个名为sing_me_a_song的方法，它将打印lyricson的每个元素。定义一个变量:\n",
    ">  happy_bday = Song([\"May god bless you, \", \"Have a sunshine on you,\", \"Happy Birthday to you !\"]）\n",
    "\n",
    "在这个变量上调用sing_me_song方法。"
   ]
  },
  {
   "cell_type": "markdown",
   "metadata": {},
   "source": [
    "### 第3题\n",
    "1. 定义一个Point3D类，定义一个\\_\\_init\\_\\_()函数，该函数接受self、x、y和z，并将这些数字分配给成员变量self.x、self.y、self.z。定义剩余的repr__()方法，返回“(%d， %d， %d)”%(self.x、self.y、self.z)。在类定义之外，创建一个名为my_point的变量，它包含一个新的Point3D实例，x=1, y=2, z=3。最后,打印my_point。"
   ]
  }
 ],
 "metadata": {
  "kernelspec": {
   "display_name": "Python 3",
   "language": "python",
   "name": "python3"
  },
  "language_info": {
   "codemirror_mode": {
    "name": "ipython",
    "version": 3
   },
   "file_extension": ".py",
   "mimetype": "text/x-python",
   "name": "python",
   "nbconvert_exporter": "python",
   "pygments_lexer": "ipython3",
   "version": "3.8.3"
  },
  "latex_envs": {
   "LaTeX_envs_menu_present": true,
   "autoclose": false,
   "autocomplete": true,
   "bibliofile": "biblio.bib",
   "cite_by": "apalike",
   "current_citInitial": 1,
   "eqLabelWithNumbers": true,
   "eqNumInitial": 1,
   "hotkeys": {
    "equation": "Ctrl-E",
    "itemize": "Ctrl-I"
   },
   "labels_anchors": false,
   "latex_user_defs": false,
   "report_style_numbering": false,
   "user_envs_cfg": false
  },
  "toc": {
   "base_numbering": 1,
   "nav_menu": {},
   "number_sections": false,
   "sideBar": true,
   "skip_h1_title": false,
   "title_cell": "Table of Contents",
   "title_sidebar": "Contents",
   "toc_cell": false,
   "toc_position": {},
   "toc_section_display": true,
   "toc_window_display": false
  },
  "varInspector": {
   "cols": {
    "lenName": 16,
    "lenType": 16,
    "lenVar": 40
   },
   "kernels_config": {
    "python": {
     "delete_cmd_postfix": "",
     "delete_cmd_prefix": "del ",
     "library": "var_list.py",
     "varRefreshCmd": "print(var_dic_list())"
    },
    "r": {
     "delete_cmd_postfix": ") ",
     "delete_cmd_prefix": "rm(",
     "library": "var_list.r",
     "varRefreshCmd": "cat(var_dic_list()) "
    }
   },
   "types_to_exclude": [
    "module",
    "function",
    "builtin_function_or_method",
    "instance",
    "_Feature"
   ],
   "window_display": false
  }
 },
 "nbformat": 4,
 "nbformat_minor": 4
}
