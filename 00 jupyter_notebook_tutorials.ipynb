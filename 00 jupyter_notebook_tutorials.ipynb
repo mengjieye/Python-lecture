{
 "cells": [
  {
   "cell_type": "markdown",
   "metadata": {},
   "source": [
    "# Jupyter Notebook简易入门说明"
   ]
  },
  {
   "cell_type": "markdown",
   "metadata": {
    "slideshow": {
     "slide_type": "slide"
    }
   },
   "source": [
    "## 什么是Jupyter Notebook？"
   ]
  },
  {
   "cell_type": "markdown",
   "metadata": {},
   "source": [
    "> Jupyter NoteBook是基于网页的用于交互式计算的应用程序。其可被应用于全过程计算：开发、文档编写、运行代码和展示结果——[Jupyter Notebook官方介绍](https://jupyter-notebook.readthedocs.io/en/stable/notebook.html)。"
   ]
  },
  {
   "cell_type": "markdown",
   "metadata": {
    "slideshow": {
     "slide_type": "slide"
    }
   },
   "source": [
    "到底什么是Jupyter Notebook？按照Jupyter 创始人 Fernando Pérez的说法，他最初的梦想是做一个综合 Ju （Julia）、Py （Python）和 R 三种科学运算语言的计算工具平台，所以将其命名为Ju-Py-te-R。发展到现在，Jupyter 已经成为一个几乎支持所有语言，能够把软件代码、计算输出、解释文档、多媒体资源整合在一起的多功能科学运算平台。"
   ]
  },
  {
   "cell_type": "code",
   "execution_count": 1,
   "metadata": {},
   "outputs": [
    {
     "data": {
      "image/png": "[encoded data removed]",
      "text/plain": [
       "<Figure size 432x288 with 1 Axes>"
      ]
     },
     "metadata": {
      "needs_background": "light"
     },
     "output_type": "display_data"
    }
   ],
   "source": [
    "import numpy as np\n",
    "from matplotlib import pyplot as plt\n",
    "y = np.random.randn(100)\n",
    "x = range(len(y))\n",
    "\n",
    "plt.plot(x,y)\n",
    "plt.show()"
   ]
  },
  {
   "cell_type": "markdown",
   "metadata": {},
   "source": [
    "## Jupyter notebook安装"
   ]
  },
  {
   "cell_type": "markdown",
   "metadata": {},
   "source": [
    "### 安装前提\n",
    "\n",
    "安装Jupyter Notebook的前提是需要安装Python(**3.3**版本及以上，或**2.7**版本)."
   ]
  },
  {
   "cell_type": "markdown",
   "metadata": {},
   "source": [
    "### 使用Anaconda安装"
   ]
  },
  {
   "cell_type": "markdown",
   "metadata": {},
   "source": [
    "一般建议通过安装Anaconda来解决Jupyter Notebook安装问题(对小白比较友好)。通常情况下，安装了Anaconda时会自动为你安装Jupyter Notebook。如果因为未知原因确实没有安装，可以通过Windows的“Anaconda Prompt”终端输入一下命令安装："
   ]
  },
  {
   "cell_type": "markdown",
   "metadata": {
    "ExecuteTime": {
     "end_time": "2020-09-05T00:37:59.334382Z",
     "start_time": "2020-09-05T00:37:59.329397Z"
    }
   },
   "source": [
    "><font color=red > conda install jupyter notebook "
   ]
  },
  {
   "cell_type": "markdown",
   "metadata": {},
   "source": [
    "### 通过pip命令安装"
   ]
  },
  {
   "cell_type": "markdown",
   "metadata": {},
   "source": [
    "1. 升级pip版本\n",
    "  > pip install --upgrade pip\n",
    "2. 安装Jupyter Notebook\n",
    "  > pip install jupyter\n",
    "\n",
    "    ***建议先升级pip到最新版本.***"
   ]
  },
  {
   "cell_type": "markdown",
   "metadata": {},
   "source": [
    "### 安装插件"
   ]
  },
  {
   "cell_type": "markdown",
   "metadata": {},
   "source": [
    "Jupyter本身功能已经很强大，但是代码折叠，显示大纲提要等功能，需要安装插件，才能愉快玩耍。"
   ]
  },
  {
   "cell_type": "markdown",
   "metadata": {},
   "source": [
    "1. 安装插件包：\n",
    "\n",
    ">pip install jupyter_contrib_nbextensions\n",
    " \n",
    ">>pip install jupyter_nbextensions_configurator "
   ]
  },
  {
   "cell_type": "markdown",
   "metadata": {},
   "source": [
    "2. 激活插件包"
   ]
  },
  {
   "cell_type": "markdown",
   "metadata": {},
   "source": [
    "> jupyter contrib nbextension install --user\n",
    "\n",
    "> jupyter nbextensions_configurator enable --user"
   ]
  },
  {
   "cell_type": "markdown",
   "metadata": {},
   "source": [
    "3. 使用NbExtensions菜单，并激活各个插件"
   ]
  },
  {
   "cell_type": "markdown",
   "metadata": {},
   "source": [
    "<img src='./image/plugin.png'></img>"
   ]
  },
  {
   "cell_type": "markdown",
   "metadata": {},
   "source": [
    "## Jupyter Notebook使用"
   ]
  },
  {
   "cell_type": "code",
   "execution_count": 5,
   "metadata": {},
   "outputs": [
    {
     "name": "stdout",
     "output_type": "stream",
     "text": [
      "1 1 2\n"
     ]
    }
   ],
   "source": [
    "a = 1\n",
    "b = 1\n",
    "c = a + b\n",
    "print(a,b,c)"
   ]
  },
  {
   "cell_type": "code",
   "execution_count": null,
   "metadata": {},
   "outputs": [],
   "source": []
  },
  {
   "cell_type": "code",
   "execution_count": null,
   "metadata": {},
   "outputs": [],
   "source": []
  },
  {
   "cell_type": "markdown",
   "metadata": {},
   "source": [
    "### 运行模式"
   ]
  },
  {
   "cell_type": "markdown",
   "metadata": {
    "ExecuteTime": {
     "end_time": "2020-09-05T01:16:43.501034Z",
     "start_time": "2020-09-05T01:16:43.495650Z"
    }
   },
   "source": [
    "- Jupyter notebook有两种模式：运行模式和编辑模式。**Enter**和**Esc**\n",
    "\n",
    " - 命令模式：单元格边框为蓝色（快捷键需要在命令模式使用）\n",
    " ![1](https://pic3.zhimg.com/80/v2-049f148e7193e30baf9967d91e2b4449_720w.jpg)\n",
    "\n",
    " - 编辑模式：Enter进入单元格 边框为绿色（可以写代码或者markdown文本）\n",
    " ![1](https://pic4.zhimg.com/80/v2-5f8b2667f08bf4057a199199af028161_720w.jpg)\n",
    "- 从编辑模式回到命令模式 按esc 返回。"
   ]
  },
  {
   "cell_type": "markdown",
   "metadata": {},
   "source": [
    "### 编辑模式 (shift+tab 可以调出帮助提示)"
   ]
  },
  {
   "cell_type": "markdown",
   "metadata": {},
   "source": [
    "- 编写内容的时候有两种常见模式 （code\\markdown）\n",
    "\n",
    " - 第一种code 代码，就是熟悉的环境用来写Python代码，快捷键y代码模式。\n",
    " ![3](https://pic3.zhimg.com/80/v2-dc6685b56f6faba5f07eef18b0fff75f_720w.jpg)\n",
    "\n",
    " - 另外一种是Markdown 文本编辑模式，在命令模式按M转为Markdown格式，按快捷键Y返回code 代码格式\n",
    " ![4](https://pic1.zhimg.com/80/v2-c7124f547039a5870868f45c3647642b_720w.jpg)\n",
    "\n",
    "- 写函数 不知道里面有哪些参数的时候 可以选择帮助。\n",
    " ![5](https://pic1.zhimg.com/80/v2-1e90d7f8397355e5532a62354c997103_720w.jpg)        \n",
    "\n"
   ]
  },
  {
   "cell_type": "markdown",
   "metadata": {
    "ExecuteTime": {
     "end_time": "2020-09-05T01:24:22.523786Z",
     "start_time": "2020-09-05T01:24:22.520790Z"
    }
   },
   "source": [
    "### 单元格快捷键"
   ]
  },
  {
   "cell_type": "markdown",
   "metadata": {},
   "source": [
    "1. 运行单元格的快捷键\n",
    "\n",
    "    **Ctrl + Enter** 运行本单元\n",
    "\n",
    "    **Shift + Enter** 运行本单元并进入下一个单元\n",
    "\n",
    "\n",
    "\n",
    "2. 插入单元格快捷键：在命令模式 a b\n",
    "\n",
    "    **A a** 不区分大小写 在当前行上面插入单元格\n",
    "\n",
    "    **B b** 不区分大小写 在当前行下面插入单元格\n",
    "\n",
    "\n",
    "\n",
    "3. 单元格操作：复制、粘贴、删除\n",
    "\n",
    "    复制粘贴快捷操作，在命令模式，编辑模式按ESC返回命令模式\n",
    "\n",
    "    **C** 复制单元格 ,X剪切单元格\n",
    "\n",
    "    **V** 粘贴单元格（粘贴在下面）\n",
    "\n",
    "    **shift+v** 粘贴到上方单元格\n",
    "\n",
    "    **dd** 删除单元格"
   ]
  },
  {
   "cell_type": "markdown",
   "metadata": {},
   "source": [
    "4. 在命令模式下，按**H**键可以调出所有的快捷方式\n",
    "![](https://pic1.zhimg.com/v2-aa890de09598d0e04aa058f1e7d0fcc1_r.jpg)\n",
    "![](https://pic1.zhimg.com/v2-7e51dbd23f0c23fc173c3536fda93bca_r.jpg)\n"
   ]
  },
  {
   "cell_type": "markdown",
   "metadata": {},
   "source": [
    "## Markdown语法\n",
    "### Markdown语法\n",
    "#### Markdown语法\n",
    "##### Markdown语法\n",
    "###### Markdown语法"
   ]
  },
  {
   "cell_type": "markdown",
   "metadata": {},
   "source": [
    "![](https://pic2.zhimg.com/80/v2-2caebc8b19fdc9217bee2b753d0d920c_720w.jpg)"
   ]
  },
  {
   "cell_type": "markdown",
   "metadata": {
    "ExecuteTime": {
     "end_time": "2020-09-05T04:21:07.093362Z",
     "start_time": "2020-09-05T04:21:07.087396Z"
    }
   },
   "source": [
    "### 标题\n",
    "在写Markdown的时候我们需要几级标题就在文本前面加几个#号，最多到6级。\n",
    "\n",
    "**标题快捷键**：在命令模式按123456 按几个数字出对应几个#号1代表1个#号\n",
    "\n",
    "12代表两个#号，123代表三个#号以此类推）"
   ]
  },
  {
   "cell_type": "markdown",
   "metadata": {},
   "source": [
    "文本：\n",
    "![](https://pic3.zhimg.com/80/v2-658dc2556a918532c128421e130d8006_720w.jpg)\n",
    "运行效果：\n",
    "![](https://pic2.zhimg.com/80/v2-255f61fcac0ea34b0c84139b91fd9a9f_720w.jpg)\n"
   ]
  },
  {
   "cell_type": "markdown",
   "metadata": {},
   "source": [
    "### 字体和分割线\n",
    "斜体的写法：文字的前后各加1个**号，或者一个下划线\n",
    "\n",
    "粗体的写法：文字的前后各加2个*号，或者两个下划线*\n",
    "\n",
    "---\n",
    "\n",
    "> 删除体写法：文字的前后各加1个或2个波浪~~我是删除体~~\n",
    "\n",
    ">> 分割线的写法：加3个*** 表示分割线\n",
    "\n",
    "补充：**我是粗斜体***（三个星号）\n",
    "![](https://pic1.zhimg.com/80/v2-f147304a5200e3584febd73a5a907fbc_720w.jpg)\n",
    "![](https://picb.zhimg.com/80/v2-0baf27eec94ddaafd609dd167ecefabe_720w.jpg)"
   ]
  },
  {
   "cell_type": "markdown",
   "metadata": {
    "ExecuteTime": {
     "end_time": "2020-09-04T17:14:28.264732Z",
     "start_time": "2020-09-04T17:14:28.259760Z"
    }
   },
   "source": [
    "### 超链接与图片"
   ]
  },
  {
   "cell_type": "raw",
   "metadata": {},
   "source": [
    "1. 插入超链接\n",
    "方括号+括号[超链接的文字](www.baidu.com括号里面是链接)\n",
    "\n",
    "引用式：文字+方括号+数字 空一行 方括号数字 +链接_[连接名称]\n",
    "2. 插入图片\n",
    "感叹号+方括号里面图片名称+括号里面链接或者路径\n",
    "\n",
    "第一种：插入有链接的图片：![序号](图片url)\n",
    "\n",
    "第二种：插入本地图片：本地路径"
   ]
  },
  {
   "cell_type": "markdown",
   "metadata": {},
   "source": [
    "![](https://ss0.bdstatic.com/70cFuHSh_Q1YnxGkpoWK1HF6hhy/it/u=708466553,1412775593&fm=11&gp=0.jpg)\n",
    "![](./image/pcj1.png)"
   ]
  },
  {
   "cell_type": "markdown",
   "metadata": {},
   "source": [
    "### 列表"
   ]
  },
  {
   "cell_type": "markdown",
   "metadata": {},
   "source": [
    "- 有序列表和无需列表，其中有序列表可以自动校正比如1,2,4,7会自动输出成1,2,3,4\n",
    "\n",
    "***\n",
    "\n",
    "- 有序列表：直接在文字后面1. 空格 文字（记得空格）\n",
    "***\n",
    "- 无序列表：文字前面加*号或者+号，或者-号，*记得打个空格 否则会变成斜体"
   ]
  },
  {
   "cell_type": "markdown",
   "metadata": {},
   "source": [
    "例如：\n",
    "![](https://pic4.zhimg.com/80/v2-d83ba3e6ee411dec6642b54a47a997f3_720w.jpg)\n",
    "运行效果：\n",
    "![](https://pic1.zhimg.com/80/v2-48c28988c577de25b29f92bcb8f6fd8d_720w.jpg)"
   ]
  },
  {
   "cell_type": "markdown",
   "metadata": {},
   "source": [
    "### 引用\n"
   ]
  },
  {
   "cell_type": "markdown",
   "metadata": {},
   "source": [
    "<font size = 4>引用 >号 两行引用之间空一行，多级引用使用多个>\n",
    "例如：\n",
    "![](https://pic1.zhimg.com/80/v2-74602b6bc63f110aff6175568305dff2_720w.jpg)\n",
    "运行效果：\n",
    "![](https://pic2.zhimg.com/80/v2-ba13863d297f5b90cd30218483b580b7_720w.jpg)"
   ]
  },
  {
   "cell_type": "markdown",
   "metadata": {},
   "source": [
    "### 表格\n",
    "表格||||| 每一行中间加|-|-|-|多少行加多少个\n",
    "\n",
    "|学号 | 姓名|\n",
    "|---|---|\n",
    "| 1 | 看奥德赛星朗AFDS|\n",
    "| 2  | 梁衣君 |\n",
    "\n",
    "![](https://picb.zhimg.com/80/v2-86814ef647ad0c8b76a6b23aab4c0a7f_720w.jpg)\n",
    "运行效果：\n",
    "![](https://pic2.zhimg.com/80/v2-3748c5adfe6b71b34b483b92fbed8794_720w.jpg)"
   ]
  },
  {
   "cell_type": "markdown",
   "metadata": {},
   "source": [
    "### 练习\n",
    "按照上述教程自己熟悉基本操作。"
   ]
  }
 ],
 "metadata": {
  "kernelspec": {
   "display_name": "Python 3",
   "language": "python",
   "name": "python3"
  },
  "language_info": {
   "codemirror_mode": {
    "name": "ipython",
    "version": 3
   },
   "file_extension": ".py",
   "mimetype": "text/x-python",
   "name": "python",
   "nbconvert_exporter": "python",
   "pygments_lexer": "ipython3",
   "version": "3.7.3"
  },
  "latex_envs": {
   "LaTeX_envs_menu_present": true,
   "autoclose": false,
   "autocomplete": true,
   "bibliofile": "biblio.bib",
   "cite_by": "apalike",
   "current_citInitial": 1,
   "eqLabelWithNumbers": true,
   "eqNumInitial": 1,
   "hotkeys": {
    "equation": "Ctrl-E",
    "itemize": "Ctrl-I"
   },
   "labels_anchors": false,
   "latex_user_defs": false,
   "report_style_numbering": false,
   "user_envs_cfg": false
  },
  "toc": {
   "base_numbering": 1,
   "nav_menu": {},
   "number_sections": true,
   "sideBar": true,
   "skip_h1_title": true,
   "title_cell": "Table of Contents",
   "title_sidebar": "Contents",
   "toc_cell": false,
   "toc_position": {},
   "toc_section_display": true,
   "toc_window_display": true
  },
  "varInspector": {
   "cols": {
    "lenName": 16,
    "lenType": 16,
    "lenVar": 40
   },
   "kernels_config": {
    "python": {
     "delete_cmd_postfix": "",
     "delete_cmd_prefix": "del ",
     "library": "var_list.py",
     "varRefreshCmd": "print(var_dic_list())"
    },
    "r": {
     "delete_cmd_postfix": ") ",
     "delete_cmd_prefix": "rm(",
     "library": "var_list.r",
     "varRefreshCmd": "cat(var_dic_list()) "
    }
   },
   "types_to_exclude": [
    "module",
    "function",
    "builtin_function_or_method",
    "instance",
    "_Feature"
   ],
   "window_display": false
  }
 },
 "nbformat": 4,
 "nbformat_minor": 2
}
