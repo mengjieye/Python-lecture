{
 "cells": [
  {
   "cell_type": "markdown",
   "metadata": {},
   "source": [
    "# 文件操作"
   ]
  },
  {
   "cell_type": "markdown",
   "metadata": {},
   "source": [
    "Python使用文件对象与计算机上的外部文件交互。这些文件对象可以是你电脑上的任何类型的文件，无论是音频文件、文本文件、电子邮件、Excel文档等等。注意:您可能需要安装某些库或模块来与这些不同的文件类型交互，但它们很容易获得。\n",
    "\n",
    "在本教程中，您将学习如何使用Python处理文件。\n",
    "用任何编程语言读写文件都是一个重要的特性。如果没有它，所有的变量和信息都存储在易失性内存中，当计算机关闭或程序结束时，这些内存就会丢失。当您将数据保存到永久文件时，您可以在以后检索它而不用担心。\n"
   ]
  },
  {
   "cell_type": "markdown",
   "metadata": {
    "ExecuteTime": {
     "end_time": "2020-10-13T05:43:29.814624Z",
     "start_time": "2020-10-13T05:43:29.808643Z"
    }
   },
   "source": [
    "- 二进制文件和文本文件之间的区别\n",
    "- 在哪里可以找到Python的内置文件I/O函数和工具\n",
    "- 如何在Python中打开和关闭文件\n",
    "- 在Python中从文件读取数据的各种方法\n",
    "- 如何写数据到一个文件对象在Python\n",
    "- 文件寻找在Python和移动读/写指针\n",
    "- 用Python编辑现有的文本文件"
   ]
  },
  {
   "cell_type": "markdown",
   "metadata": {},
   "source": [
    "## 二进制文件与文本文件"
   ]
  },
  {
   "cell_type": "markdown",
   "metadata": {},
   "source": [
    "Python可以处理两种不同类型的文件:二进制文件和文本文件。了解两者之间的区别是很重要的。  \n",
    "在正常计算机使用期间使用的大多数文件实际上是二进制文件，而不是文本。没错，那个Microsoft Word .doc文件实际上是一个二进制文件，即使它里面只有文本。二进制文件的其他例子包括:\n",
    "- 图像文件包括.jpg， .png， .bmp， .gif等\n",
    "- 数据库文件，包括.mdb，.frm，和.sqlite\n",
    "- 文档包括.doc、.xls、.pdf等。"
   ]
  },
  {
   "cell_type": "markdown",
   "metadata": {},
   "source": [
    "这是因为这些文件都需要特殊的处理，并且需要特定类型的软件来打开它。例如，需要Excel来打开一个.xls文件，需要一个数据库程序来打开一个.sqlite文件。  \n",
    "\n",
    "另一方面，文本文件没有特定的编码，可以由标准的文本编辑器打开，无需任何特殊处理。但是，每个文本文件必须遵守一组规则:  \n",
    "- 文本文件必须是可读的。它们可以(而且经常)包含许多特殊的编码，特别是HTML或其他标记语言，但您仍然能够知道它说的是什么\n",
    "- 文本文件中的数据是按行组织的。在大多数情况下，每一行都是一个独立的元素，无论它是一行指令还是一条命令。  \n",
    "\n",
    "此外，文本文件在每一行的末尾都有一个不可见的字符，这让文本编辑器知道应该有一个新行。当通过编程与这些文件交互时，可以利用这种特性。在Python中，它由“\\n”表示。"
   ]
  },
  {
   "cell_type": "markdown",
   "metadata": {},
   "source": [
    "## 打开文件"
   ]
  },
  {
   "cell_type": "markdown",
   "metadata": {},
   "source": [
    "在python2和python3中，open()命令将返回一个在参数中指定的file对象。open()的基本函数用法如下:\n",
    "> file_object = open(filename, mode)"
   ]
  },
  {
   "cell_type": "markdown",
   "metadata": {},
   "source": [
    "在此实例中，filename是要与之交互的文件的名称，其中包含文件扩展名。也就是说，如果有一个名为workData.txt的文本文件，文件名不只是“workData”。而是“workData.txt”。   \n",
    "还可以指定文件所在的确切路径，例如,如果你使用的是Windows，则“C:\\ThisFolder\\workData.txt”。\n",
    "但是请记住，对于Python来说，字符串中的一个反斜杠表示字符串文字的开始。所以这里有个问题，因为这两个意思会冲突…  \n",
    "幸运的是，Python有两种方法来处理这个问题。第一种是使用双反斜杠，像这样:“C:\\\\ThisFolder\\\\workData.txt”。第二种是使用斜杠:“C:/ThisFolder/workData.txt”。"
   ]
  },
  {
   "cell_type": "markdown",
   "metadata": {},
   "source": [
    "open函数中的模式(mode)告诉Python你想对文件做什么。在处理文本文件时，可以指定多种模式。\n",
    "- 'w' -写入模式:当需要更改文件和更改或添加信息时使用此模式。请记住，这将擦除现有文件以创建一个新文件。文件指针位于文件的开头。\n",
    "- 'r' -读取模式:当文件中的信息仅用于读取且不以任何方式更改时使用此模式。文件指针位于文件的开头。\n",
    "- 'a'-附加模式:此模式自动在文件末尾添加信息。文件指针放置在文件的末尾。\n",
    "- 'r+' -读/写模式:当你要对文件进行更改并从中读取信息时使用。文件指针位于文件的开头。\n",
    "- 'a+' -追加和读取模式:打开一个文件，允许数据被添加到文件的末尾，也让你的程序读取信息。文件指针放置在文件的末尾。"
   ]
  },
  {
   "cell_type": "markdown",
   "metadata": {},
   "source": [
    "在使用二进制文件时，将使用相同的模式说明符。但是，在末尾添加一个b。所以二进制文件的写模式说明符是'wb'。其他的分别是'rb'， 'ab'， 'r+b'和'a+b'。"
   ]
  },
  {
   "cell_type": "markdown",
   "metadata": {},
   "source": [
    "在python3中，添加了一个新模式:  \n",
    "'x' -独占创建模式(Exclusive Creation Mode):该模式专门用于创建文件。如果已经存在同名文件，则函数调用将失败。"
   ]
  },
  {
   "cell_type": "markdown",
   "metadata": {},
   "source": [
    "在使用open()函数时，通常会将其结果分配给变量。给定一个名为workData.txt的文件，打开文件进行读写的正确代码如下:"
   ]
  },
  {
   "cell_type": "code",
   "execution_count": 27,
   "metadata": {
    "ExecuteTime": {
     "end_time": "2020-10-13T06:06:31.469687Z",
     "start_time": "2020-10-13T06:06:31.464730Z"
    }
   },
   "outputs": [],
   "source": [
    "data_file = open(\"workData.txt\", \"r+\")"
   ]
  },
  {
   "cell_type": "markdown",
   "metadata": {
    "ExecuteTime": {
     "end_time": "2020-10-13T06:01:36.434525Z",
     "start_time": "2020-10-13T06:01:36.428539Z"
    }
   },
   "source": [
    "这将创建一个名为data_file的对象，然后我们可以使用Pythons文件对象方法对其进行操作。  \n",
    "在这个代码示例中，我们使用了'r+'访问模式，它告诉Python我们要打开文件进行读写。这给了我们很大的灵活性，但通常你可能想限制你的程序只读或只读一个文件，这就是其他模式派上用场的地方。"
   ]
  },
  {
   "cell_type": "code",
   "execution_count": 28,
   "metadata": {
    "ExecuteTime": {
     "end_time": "2020-10-13T06:06:32.572123Z",
     "start_time": "2020-10-13T06:06:32.567127Z"
    }
   },
   "outputs": [
    {
     "data": {
      "text/plain": [
       "'This data is on line 1\\nThis data is on line 2\\nThis data is on line 3'"
      ]
     },
     "execution_count": 28,
     "metadata": {},
     "output_type": "execute_result"
    }
   ],
   "source": [
    "data_file.read()"
   ]
  },
  {
   "cell_type": "markdown",
   "metadata": {},
   "source": [
    "如果再读一遍会发生什么？"
   ]
  },
  {
   "cell_type": "code",
   "execution_count": 29,
   "metadata": {
    "ExecuteTime": {
     "end_time": "2020-10-13T06:06:35.351250Z",
     "start_time": "2020-10-13T06:06:35.346238Z"
    }
   },
   "outputs": [
    {
     "data": {
      "text/plain": [
       "''"
      ]
     },
     "execution_count": 29,
     "metadata": {},
     "output_type": "execute_result"
    }
   ],
   "source": [
    "data_file.read()"
   ]
  },
  {
   "cell_type": "markdown",
   "metadata": {},
   "source": [
    "可以发现再读一遍之后，内容是空的。这是因为在读取文件后，读取的“游标”位于文件的末尾。所以没有什么可读的了。   \n",
    "我们可以这样重置“光标”:"
   ]
  },
  {
   "cell_type": "code",
   "execution_count": 32,
   "metadata": {
    "ExecuteTime": {
     "end_time": "2020-10-13T06:06:52.094564Z",
     "start_time": "2020-10-13T06:06:52.088576Z"
    }
   },
   "outputs": [
    {
     "data": {
      "text/plain": [
       "0"
      ]
     },
     "execution_count": 32,
     "metadata": {},
     "output_type": "execute_result"
    }
   ],
   "source": [
    "data_file.seek(0)"
   ]
  },
  {
   "cell_type": "code",
   "execution_count": 33,
   "metadata": {
    "ExecuteTime": {
     "end_time": "2020-10-13T06:06:53.143877Z",
     "start_time": "2020-10-13T06:06:53.138862Z"
    }
   },
   "outputs": [
    {
     "data": {
      "text/plain": [
       "'This data is on line 1\\nThis data is on line 2\\nThis data is on line 3'"
      ]
     },
     "execution_count": 33,
     "metadata": {},
     "output_type": "execute_result"
    }
   ],
   "source": [
    "#重读一次\n",
    "data_file.read()"
   ]
  },
  {
   "cell_type": "markdown",
   "metadata": {},
   "source": [
    "打开文件一般需要用close关闭文件。"
   ]
  },
  {
   "cell_type": "code",
   "execution_count": 36,
   "metadata": {
    "ExecuteTime": {
     "end_time": "2020-10-13T06:07:07.266982Z",
     "start_time": "2020-10-13T06:07:07.262992Z"
    }
   },
   "outputs": [],
   "source": [
    "data_file.close()"
   ]
  },
  {
   "cell_type": "code",
   "execution_count": 37,
   "metadata": {
    "ExecuteTime": {
     "end_time": "2020-10-13T06:07:08.164253Z",
     "start_time": "2020-10-13T06:07:08.155916Z"
    }
   },
   "outputs": [
    {
     "ename": "ValueError",
     "evalue": "I/O operation on closed file.",
     "output_type": "error",
     "traceback": [
      "\u001b[1;31m---------------------------------------------------------------------------\u001b[0m",
      "\u001b[1;31mValueError\u001b[0m                                Traceback (most recent call last)",
      "\u001b[1;32m<ipython-input-37-25a47d4206fc>\u001b[0m in \u001b[0;36m<module>\u001b[1;34m\u001b[0m\n\u001b[1;32m----> 1\u001b[1;33m \u001b[0mdata_file\u001b[0m\u001b[1;33m.\u001b[0m\u001b[0mread\u001b[0m\u001b[1;33m(\u001b[0m\u001b[1;33m)\u001b[0m\u001b[1;33m\u001b[0m\u001b[1;33m\u001b[0m\u001b[0m\n\u001b[0m",
      "\u001b[1;31mValueError\u001b[0m: I/O operation on closed file."
     ]
    }
   ],
   "source": [
    "data_file.read()"
   ]
  },
  {
   "cell_type": "markdown",
   "metadata": {},
   "source": [
    "在Python中，打开和关闭文件的最佳实践使用with关键字。这个关键字在嵌套代码块完成后自动关闭文件:"
   ]
  },
  {
   "cell_type": "code",
   "execution_count": 39,
   "metadata": {
    "ExecuteTime": {
     "end_time": "2020-10-13T06:08:21.809263Z",
     "start_time": "2020-10-13T06:08:21.804749Z"
    }
   },
   "outputs": [],
   "source": [
    "with open(\"workData.txt\", \"r+\") as workData:\n",
    "    # File object is now open.\n",
    "    # Do stuff with the file:\n",
    "    workData.read()\n",
    "\n",
    "# File object is now closed.\n",
    "# Do other things..."
   ]
  },
  {
   "cell_type": "markdown",
   "metadata": {},
   "source": [
    "如果不使用with关键字或使用fileobject.close()函数，那么Python将通过内置的垃圾收集器自动关闭并销毁文件对象。但是，根据您的代码，这种垃圾收集可以在任何时候发生。\n",
    "因此，建议使用with关键字来控制何时关闭文件——即在内部代码块完成执行之后。"
   ]
  },
  {
   "cell_type": "markdown",
   "metadata": {},
   "source": [
    "## 从Python文件中读取数据"
   ]
  },
  {
   "cell_type": "code",
   "execution_count": 41,
   "metadata": {
    "ExecuteTime": {
     "end_time": "2020-10-13T06:10:09.244398Z",
     "start_time": "2020-10-13T06:10:09.239409Z"
    }
   },
   "outputs": [
    {
     "name": "stdout",
     "output_type": "stream",
     "text": [
      "This is the file name:  workData.txt\n",
      "This data is on line 1\n",
      "This data is on line 2\n",
      "This data is on line 3\n"
     ]
    }
   ],
   "source": [
    "with open(\"workData.txt\", \"r+\") as work_data:\n",
    "    print(\"This is the file name: \", work_data.name)\n",
    "    line = work_data.read()\n",
    "    print(line)"
   ]
  },
  {
   "cell_type": "markdown",
   "metadata": {},
   "source": [
    "### readline()一行一行读"
   ]
  },
  {
   "cell_type": "code",
   "execution_count": 43,
   "metadata": {
    "ExecuteTime": {
     "end_time": "2020-10-13T06:11:57.969903Z",
     "start_time": "2020-10-13T06:11:57.964888Z"
    }
   },
   "outputs": [
    {
     "name": "stdout",
     "output_type": "stream",
     "text": [
      "This is the file name:  workData.txt\n",
      "This data is on line 1\n",
      "\n"
     ]
    }
   ],
   "source": [
    "with open(\"workData.txt\", \"r+\") as work_data:\n",
    "     print(\"This is the file name: \", work_data.name)\n",
    "     line_data = work_data.readline()\n",
    "     print(line_data)"
   ]
  },
  {
   "cell_type": "markdown",
   "metadata": {},
   "source": [
    "你可以不断重复上述过程。\n"
   ]
  },
  {
   "cell_type": "markdown",
   "metadata": {
    "ExecuteTime": {
     "end_time": "2020-10-13T06:12:16.152247Z",
     "start_time": "2020-10-13T06:12:16.147717Z"
    }
   },
   "source": [
    "一个类似的方法是fileobject.readlines()调用(注意复数形式)，它返回文件中所有行的列表："
   ]
  },
  {
   "cell_type": "code",
   "execution_count": 47,
   "metadata": {
    "ExecuteTime": {
     "end_time": "2020-10-13T06:12:52.223434Z",
     "start_time": "2020-10-13T06:12:52.217860Z"
    }
   },
   "outputs": [
    {
     "name": "stdout",
     "output_type": "stream",
     "text": [
      "['This data is on line 1\\n', 'This data is on line 2\\n', 'This data is on line 3']\n"
     ]
    }
   ],
   "source": [
    "with open(\"workData.txt\", \"r+\") as work_data:\n",
    "    print(work_data.readlines())"
   ]
  },
  {
   "cell_type": "markdown",
   "metadata": {
    "ExecuteTime": {
     "end_time": "2020-10-13T06:13:12.308533Z",
     "start_time": "2020-10-13T06:13:12.303549Z"
    }
   },
   "source": [
    "这将把整个文件读入内存，并将其分割为几行。但是这只适用于文本文件。二进制文件只是一团数据——它并没有真正理解一行是什么。"
   ]
  },
  {
   "cell_type": "markdown",
   "metadata": {
    "ExecuteTime": {
     "end_time": "2020-10-13T06:13:45.016220Z",
     "start_time": "2020-10-13T06:13:45.010707Z"
    }
   },
   "source": [
    "在Python中，逐行处理整个文本文件的最简单方法是使用一个简单的循环:"
   ]
  },
  {
   "cell_type": "code",
   "execution_count": 51,
   "metadata": {
    "ExecuteTime": {
     "end_time": "2020-10-13T06:14:32.763572Z",
     "start_time": "2020-10-13T06:14:32.757586Z"
    }
   },
   "outputs": [
    {
     "name": "stdout",
     "output_type": "stream",
     "text": [
      "This data is on line 1\n",
      "\n",
      "This data is on line 2\n",
      "\n",
      "This data is on line 3\n"
     ]
    }
   ],
   "source": [
    "with open(\"workData.txt\", \"r+\") as work_data:\n",
    "    for line in work_data:\n",
    "        print(line)"
   ]
  },
  {
   "cell_type": "markdown",
   "metadata": {},
   "source": [
    "## 写文件"
   ]
  },
  {
   "cell_type": "markdown",
   "metadata": {},
   "source": [
    "如果不能向文件写入数据，文件就没有任何用处。所以我们来讨论一下如何写文件。"
   ]
  },
  {
   "cell_type": "markdown",
   "metadata": {
    "ExecuteTime": {
     "end_time": "2020-10-13T06:15:34.931596Z",
     "start_time": "2020-10-13T06:15:34.925587Z"
    }
   },
   "source": [
    "**当创建一个新的file对象时，如果文件不存在，Python将创建该文件。第一次创建文件时，应该使用a+或w+模式。**"
   ]
  },
  {
   "cell_type": "markdown",
   "metadata": {},
   "source": [
    "通常最好使用a+模式，因为数据将默认添加到文件的末尾。使用w+将清除文件中的任何现有数据，并给你一个空白文件开始。"
   ]
  },
  {
   "cell_type": "code",
   "execution_count": 54,
   "metadata": {
    "ExecuteTime": {
     "end_time": "2020-10-13T06:18:03.258963Z",
     "start_time": "2020-10-13T06:18:03.255092Z"
    }
   },
   "outputs": [],
   "source": [
    "with open(\"workData.txt\", \"a+\") as work_data:\n",
    "    work_data.write(\"This data is on line 4\\n\")"
   ]
  },
  {
   "cell_type": "markdown",
   "metadata": {},
   "source": [
    "如果您想将一些不是字符串的内容写入文本文件，例如一系列数字，您必须使用转换代码将它们转换或“强制转换”为字符串。  \n",
    "例如，如果您想要将整数1234、5678、9012添加到work_data文件中，您需要执行以下操作。首先，你把你的非字符串转换为字符串，然后你写字符串到你的文件对象:"
   ]
  },
  {
   "cell_type": "code",
   "execution_count": 64,
   "metadata": {
    "ExecuteTime": {
     "end_time": "2020-10-13T06:25:51.127370Z",
     "start_time": "2020-10-13T06:25:51.122383Z"
    }
   },
   "outputs": [],
   "source": [
    "values = [1234, 5678, 9012]\n",
    "\n",
    "with open(\"workData1.txt\", \"a+\") as work_data:\n",
    "    for value in values:\n",
    "        str_value = str(value)\n",
    "        work_data.write(str_value)\n",
    "        work_data.write(\"\\n\")"
   ]
  },
  {
   "cell_type": "markdown",
   "metadata": {},
   "source": [
    "## 用Python编辑现有的文本文件"
   ]
  },
  {
   "cell_type": "markdown",
   "metadata": {},
   "source": [
    "有时，您需要编辑现有文件，而不仅仅是向其添加数据。你不能只用w+模式来做。请记住，模式w将完全覆盖文件，因此即使使用fileobject.seek()，也无法做到这一点。而a+总是会在文件的末尾插入任何数据。"
   ]
  },
  {
   "cell_type": "markdown",
   "metadata": {},
   "source": [
    "最简单的方法是取出整个文件并使用它创建一个列表或数组数据类型。一旦创建了列表，就可以使用该列表了。insert(i, x)方法插入新数据。一旦创建了新的列表，您就可以将其合并在一起，并将其写入您的文件。"
   ]
  },
  {
   "cell_type": "markdown",
   "metadata": {},
   "source": [
    "例如，使用我们的\"workData.txt\"文件，假设我们需要在第一行和第二行之间插入文本“This goes between line 1 and 2”。代码是:"
   ]
  },
  {
   "cell_type": "code",
   "execution_count": 72,
   "metadata": {
    "ExecuteTime": {
     "end_time": "2020-10-13T06:31:28.033217Z",
     "start_time": "2020-10-13T06:31:28.027236Z"
    }
   },
   "outputs": [],
   "source": [
    "# Open the file as read-only\n",
    "with open(\"workData.txt\", \"r\") as work_data:\n",
    "    work_data_contents = work_data.readlines()\n",
    "    \n",
    "work_data_contents.insert(1, \"This goes between line 1 and 2\\n\")\n",
    "work_data_contents = \"\".join(work_data_contents)\n",
    "\n",
    "\n",
    "# Re-open in write-only format to overwrite old file\n",
    "with open(\"workData.txt\", \"w\") as work_data:\n",
    "    work_data.write(work_data_contents)"
   ]
  },
  {
   "cell_type": "markdown",
   "metadata": {},
   "source": [
    "# 目录操作"
   ]
  },
  {
   "cell_type": "markdown",
   "metadata": {},
   "source": [
    "## 获取目录"
   ]
  },
  {
   "cell_type": "markdown",
   "metadata": {},
   "source": [
    "假设你当前的工作目录有一个叫 my_directory 的子目录，该目录包含如下内容："
   ]
  },
  {
   "cell_type": "markdown",
   "metadata": {},
   "source": [
    "├── file1.py  \n",
    "├── file2.csv  \n",
    "├── file3.txt  \n",
    "├── sub_dir  \n",
    "│   ├── bar.py  \n",
    "│   └── foo.py  \n",
    "├── sub_dir_b  \n",
    "│   └── file4.txt  \n",
    "└── sub_dir_c  \n",
    "    ├── config.py  \n",
    "    └── file5.txt  "
   ]
  },
  {
   "cell_type": "markdown",
   "metadata": {},
   "source": [
    "Python内置的 os 模块有很多有用的方法能被用来列出目录内容和过滤结果。为了获取文件系统中特定目录的所有文件和文件夹列表，可以在遗留版本的Python中使用 os.listdir() 或 在Python 3.x 中使用 os.scandir() 。 如果你还想获取文件和目录属性(如文件大小和修改日期)，那么 os.scandir() 则是首选的方法。"
   ]
  },
  {
   "cell_type": "code",
   "execution_count": 74,
   "metadata": {
    "ExecuteTime": {
     "end_time": "2020-10-13T06:44:37.201275Z",
     "start_time": "2020-10-13T06:44:37.197240Z"
    }
   },
   "outputs": [
    {
     "name": "stdout",
     "output_type": "stream",
     "text": [
      "['file1.csv', 'file1.py', 'file3.txt', 'sub_dir_a', 'sub_dir_b', 'sub_dir_c']\n"
     ]
    }
   ],
   "source": [
    "import os\n",
    "entries = os.listdir('my_directory')\n",
    "print(entries)"
   ]
  },
  {
   "cell_type": "markdown",
   "metadata": {
    "ExecuteTime": {
     "end_time": "2020-10-13T06:44:51.141837Z",
     "start_time": "2020-10-13T06:44:51.136826Z"
    }
   },
   "source": [
    "目录列表现在看上去不容易阅读，对 os.listdir() 的调用结果使用循环打印有助于查看。"
   ]
  },
  {
   "cell_type": "code",
   "execution_count": 76,
   "metadata": {
    "ExecuteTime": {
     "end_time": "2020-10-13T06:45:05.285526Z",
     "start_time": "2020-10-13T06:45:05.281562Z"
    }
   },
   "outputs": [
    {
     "name": "stdout",
     "output_type": "stream",
     "text": [
      "file1.csv\n",
      "file1.py\n",
      "file3.txt\n",
      "sub_dir_a\n",
      "sub_dir_b\n",
      "sub_dir_c\n"
     ]
    }
   ],
   "source": [
    "for entry in entries:\n",
    "    print(entry)"
   ]
  },
  {
   "cell_type": "markdown",
   "metadata": {},
   "source": [
    "在现代Python版本中，可以使用 os.scandir() 和 pathlib.Path 来替代 os.listdir() 。"
   ]
  },
  {
   "cell_type": "code",
   "execution_count": 78,
   "metadata": {
    "ExecuteTime": {
     "end_time": "2020-10-13T06:45:42.342431Z",
     "start_time": "2020-10-13T06:45:42.338440Z"
    }
   },
   "outputs": [
    {
     "name": "stdout",
     "output_type": "stream",
     "text": [
      "<nt.ScandirIterator object at 0x000001CB3919BB40>\n"
     ]
    }
   ],
   "source": [
    "import os\n",
    "entries = os.scandir('my_directory')\n",
    "print(entries)"
   ]
  },
  {
   "cell_type": "code",
   "execution_count": 79,
   "metadata": {
    "ExecuteTime": {
     "end_time": "2020-10-13T06:45:55.982721Z",
     "start_time": "2020-10-13T06:45:55.976737Z"
    }
   },
   "outputs": [
    {
     "name": "stdout",
     "output_type": "stream",
     "text": [
      "file1.csv\n",
      "file1.py\n",
      "file3.txt\n",
      "sub_dir_a\n",
      "sub_dir_b\n",
      "sub_dir_c\n"
     ]
    }
   ],
   "source": [
    "import os\n",
    "with os.scandir('my_directory') as entries:\n",
    "    for entry in entries:\n",
    "        print(entry.name)"
   ]
  },
  {
   "cell_type": "markdown",
   "metadata": {},
   "source": [
    "这里 os.scandir() 和with语句一起使用，因为它支持上下文管理协议。使用上下文管理器关闭迭代器并在迭代器耗尽后自动释放获取的资源。在 my_directory 打印文件名的结果就和在 os.listdir() 例子中看到的一样"
   ]
  },
  {
   "cell_type": "markdown",
   "metadata": {},
   "source": []
  },
  {
   "cell_type": "markdown",
   "metadata": {},
   "source": [
    "另一个获取目录列表的方法是使用 pathlib 模块："
   ]
  },
  {
   "cell_type": "code",
   "execution_count": 80,
   "metadata": {
    "ExecuteTime": {
     "end_time": "2020-10-13T06:46:47.598405Z",
     "start_time": "2020-10-13T06:46:47.592389Z"
    }
   },
   "outputs": [
    {
     "name": "stdout",
     "output_type": "stream",
     "text": [
      "file1.csv\n",
      "file1.py\n",
      "file3.txt\n",
      "sub_dir_a\n",
      "sub_dir_b\n",
      "sub_dir_c\n"
     ]
    }
   ],
   "source": [
    "from pathlib import Path\n",
    "\n",
    "entries = Path('my_directory')\n",
    "for entry in entries.iterdir():\n",
    "    print(entry.name)"
   ]
  },
  {
   "cell_type": "markdown",
   "metadata": {
    "ExecuteTime": {
     "end_time": "2020-10-13T06:47:10.364286Z",
     "start_time": "2020-10-13T06:47:10.357340Z"
    }
   },
   "source": [
    "pathlib.Path() 返回的是 PosixPath 或 WindowsPath 对象，这取决于操作系统。\n",
    "\n",
    "pathlib.Path() 对象有一个 .iterdir() 的方法用于创建一个迭代器包含该目录下所有文件和目录。由 .iterdir() 生成的每个条目都包含文件或目录的信息，例如其名称和文件属性。pathlib 在Python3.4时被第一次引入，并且是对Python一个很好的加强，它为文件系统提供了面向对象的接口。\n",
    "\n",
    "在上面的例子中，你调用 pathlib.Path() 并传入了一个路径参数。然后调用 .iterdir() 来获取 my_directory 下的所有文件和目录列表。\n",
    "\n",
    "pathlib 提供了一组类，以简单并且面向对象的方式提供了路径上的大多数常见的操作。使用 pathlib 比起使用 os 中的函数更加有效。和 os 相比，使用 pathlib 的另一个好处是减少了操作文件系统路径所导入包或模块的数量。想要了解更多信息，可以阅读 Python 3’s pathlib Module: Taming the File System 。"
   ]
  },
  {
   "cell_type": "markdown",
   "metadata": {},
   "source": [
    "使用 pathlib.Path() 或 os.scandir() 来替代 os.listdir() 是获取目录列表的首选方法，尤其是当你需要获取文件类型和文件属性信息的时候。pathlib.Path() 提供了在 os 和 shutil 中大部分处理文件和路径的功能，并且它的方法比这些模块更加有效。我们将讨论如何快速的获取文件属性。"
   ]
  },
  {
   "cell_type": "markdown",
   "metadata": {},
   "source": [
    "| 函数 | 描述 |\n",
    "| ------------------------ | -------------------------------------------------------- | \n",
    "| os.listdir() | 以列表的方式返回目录中所有的文件和文件夹 | \n",
    "| os.scandir() | 返回一个迭代器包含目录中所有的对象，对象包含文件属性信息 | \n",
    "| pathlib.Path().iterdir() | 返回一个迭代器包含目录中所有的对象，对象包含文件属性信息 |"
   ]
  },
  {
   "cell_type": "markdown",
   "metadata": {},
   "source": [
    "### 列出目录中的所有文件"
   ]
  },
  {
   "cell_type": "markdown",
   "metadata": {},
   "source": [
    "这节将向你展示如何使用 os.listdir() ，os.scandir() 和 pathlib.Path() 打印出目录中文件的名称。为了过滤目录并仅列出 os.listdir() 生成的目录列表的文件，要使用 os.path ："
   ]
  },
  {
   "cell_type": "code",
   "execution_count": 83,
   "metadata": {
    "ExecuteTime": {
     "end_time": "2020-10-13T06:49:17.446400Z",
     "start_time": "2020-10-13T06:49:17.439956Z"
    }
   },
   "outputs": [
    {
     "name": "stdout",
     "output_type": "stream",
     "text": [
      "file1.csv\n",
      "file1.py\n",
      "file3.txt\n"
     ]
    }
   ],
   "source": [
    "import os\n",
    "\n",
    "base_path = 'my_directory'\n",
    "for entry in os.listdir(basepath):\n",
    "    # 使用os.path.isfile判断该路径是否是文件类型\n",
    "    if os.path.isfile(os.path.join(base_path, entry)):\n",
    "        print(entry)"
   ]
  },
  {
   "cell_type": "markdown",
   "metadata": {},
   "source": [
    "在这里调用 os.listdir() 返回指定路径中所有内容的列表，接着使用 os.path.isfile() 过滤列表让其只显示文件类型而非目录类型。代码执行结果如下："
   ]
  },
  {
   "cell_type": "markdown",
   "metadata": {},
   "source": [
    "一个更简单的方式来列出一个目录中所有的文件是使用 os.scandir() 或 pathlib.Path() :\n",
    "\n"
   ]
  },
  {
   "cell_type": "code",
   "execution_count": 84,
   "metadata": {
    "ExecuteTime": {
     "end_time": "2020-10-13T06:49:52.099886Z",
     "start_time": "2020-10-13T06:49:52.094899Z"
    }
   },
   "outputs": [
    {
     "name": "stdout",
     "output_type": "stream",
     "text": [
      "file1.csv\n",
      "file1.py\n",
      "file3.txt\n"
     ]
    }
   ],
   "source": [
    "import os\n",
    "\n",
    "basepath = 'my_directory'\n",
    "with os.scandir(basepath) as entries:\n",
    "    for entry in entries:\n",
    "        if entry.is_file():\n",
    "            print(entry.name)"
   ]
  },
  {
   "cell_type": "markdown",
   "metadata": {},
   "source": [
    "使用 os.scandir() 比起 os.listdir() 看上去更清楚和更容易理解。对 ScandirIterator 的每一项调用 entry.isfile() ，如果返回 True 则表示这一项是一个文件。"
   ]
  },
  {
   "cell_type": "markdown",
   "metadata": {},
   "source": [
    "接着，展示如何使用 pathlib.Path() 列出一个目录中的文件："
   ]
  },
  {
   "cell_type": "code",
   "execution_count": 86,
   "metadata": {
    "ExecuteTime": {
     "end_time": "2020-10-13T06:50:43.277180Z",
     "start_time": "2020-10-13T06:50:43.271185Z"
    }
   },
   "outputs": [
    {
     "name": "stdout",
     "output_type": "stream",
     "text": [
      "file1.csv\n",
      "file1.py\n",
      "file3.txt\n"
     ]
    }
   ],
   "source": [
    "from pathlib import Path\n",
    "\n",
    "base_path = Path('my_directory')\n",
    "for entry in base_path.iterdir():\n",
    "    if entry.is_file():\n",
    "        print(entry.name)"
   ]
  },
  {
   "cell_type": "markdown",
   "metadata": {},
   "source": [
    "如果将for循环和if语句组合成单个生成器表达式，则上述的代码可以更加简洁。"
   ]
  },
  {
   "cell_type": "code",
   "execution_count": 87,
   "metadata": {
    "ExecuteTime": {
     "end_time": "2020-10-13T06:51:17.982346Z",
     "start_time": "2020-10-13T06:51:17.975398Z"
    }
   },
   "outputs": [
    {
     "name": "stdout",
     "output_type": "stream",
     "text": [
      "file1.csv\n",
      "file1.py\n",
      "file3.txt\n"
     ]
    }
   ],
   "source": [
    "from pathlib import Path\n",
    "\n",
    "base_path = Path('my_directory')\n",
    "files_in_basepath = (entry for entry in base_path.iterdir() if entry.is_file())\n",
    "for item in files_in_basepath:\n",
    "    print(item.name)"
   ]
  },
  {
   "cell_type": "markdown",
   "metadata": {},
   "source": [
    "### 列出子目录"
   ]
  },
  {
   "cell_type": "markdown",
   "metadata": {},
   "source": [
    "如果要列出子目录而不是文件，请使用下面的方法。现在展示如何使用 os.listdir() 和 os.path() :"
   ]
  },
  {
   "cell_type": "code",
   "execution_count": 88,
   "metadata": {
    "ExecuteTime": {
     "end_time": "2020-10-13T06:51:52.101516Z",
     "start_time": "2020-10-13T06:51:52.095282Z"
    }
   },
   "outputs": [
    {
     "name": "stdout",
     "output_type": "stream",
     "text": [
      "sub_dir_a\n",
      "sub_dir_b\n",
      "sub_dir_c\n"
     ]
    }
   ],
   "source": [
    "import os\n",
    "\n",
    "basepath = 'my_directory'\n",
    "for entry in os.listdir(basepath):\n",
    "    if os.path.isdir(os.path.join(basepath, entry)):\n",
    "        print(entry)"
   ]
  },
  {
   "cell_type": "markdown",
   "metadata": {},
   "source": [
    "当你多次调用 os.path,join() 时，以这种方式操作文件系统就会变得很笨重。下面是如何使用 os.scandir() ："
   ]
  },
  {
   "cell_type": "code",
   "execution_count": 89,
   "metadata": {
    "ExecuteTime": {
     "end_time": "2020-10-13T06:52:28.717366Z",
     "start_time": "2020-10-13T06:52:28.713398Z"
    }
   },
   "outputs": [
    {
     "name": "stdout",
     "output_type": "stream",
     "text": [
      "sub_dir_a\n",
      "sub_dir_b\n",
      "sub_dir_c\n"
     ]
    }
   ],
   "source": [
    "import os\n",
    "\n",
    "base_path = 'my_directory'\n",
    "with os.scandir(base_pathpath) as entries:\n",
    "    for entry in entries:\n",
    "        if entry.is_dir():\n",
    "            print(entry.name)"
   ]
  },
  {
   "cell_type": "markdown",
   "metadata": {},
   "source": [
    "与文件列表中的示例一样，此处在 os.scandir() 返回的每一项上调用 .is_dir() 。如果这项是目录，则 is_dir() 返回 True，并打印出目录的名称。输出结果和上面相同。"
   ]
  },
  {
   "cell_type": "markdown",
   "metadata": {
    "ExecuteTime": {
     "end_time": "2020-10-13T06:53:04.420692Z",
     "start_time": "2020-10-13T06:53:04.415889Z"
    }
   },
   "source": [
    "下面是如何使用 pathlib.Path() ："
   ]
  },
  {
   "cell_type": "code",
   "execution_count": 92,
   "metadata": {
    "ExecuteTime": {
     "end_time": "2020-10-13T06:53:25.133123Z",
     "start_time": "2020-10-13T06:53:25.126110Z"
    }
   },
   "outputs": [
    {
     "name": "stdout",
     "output_type": "stream",
     "text": [
      "sub_dir_a\n",
      "sub_dir_b\n",
      "sub_dir_c\n"
     ]
    }
   ],
   "source": [
    "from pathlib import Path\n",
    "\n",
    "base_path = Path('my_directory')\n",
    "for entry in base_path.iterdir():\n",
    "    if entry.is_dir():\n",
    "        print(entry.name)"
   ]
  },
  {
   "cell_type": "markdown",
   "metadata": {},
   "source": [
    "## 练习"
   ]
  },
  {
   "cell_type": "markdown",
   "metadata": {},
   "source": [
    "读取test.txt文件，统计文件的行数、大小写字母个数、非字母个数、单词数。"
   ]
  },
  {
   "cell_type": "code",
   "execution_count": null,
   "metadata": {},
   "outputs": [],
   "source": []
  }
 ],
 "metadata": {
  "kernelspec": {
   "display_name": "Python 3",
   "language": "python",
   "name": "python3"
  },
  "language_info": {
   "codemirror_mode": {
    "name": "ipython",
    "version": 3
   },
   "file_extension": ".py",
   "mimetype": "text/x-python",
   "name": "python",
   "nbconvert_exporter": "python",
   "pygments_lexer": "ipython3",
   "version": "3.7.9"
  },
  "latex_envs": {
   "LaTeX_envs_menu_present": true,
   "autoclose": false,
   "autocomplete": true,
   "bibliofile": "biblio.bib",
   "cite_by": "apalike",
   "current_citInitial": 1,
   "eqLabelWithNumbers": true,
   "eqNumInitial": 1,
   "hotkeys": {
    "equation": "Ctrl-E",
    "itemize": "Ctrl-I"
   },
   "labels_anchors": false,
   "latex_user_defs": false,
   "report_style_numbering": false,
   "user_envs_cfg": false
  },
  "toc": {
   "base_numbering": 1,
   "nav_menu": {},
   "number_sections": false,
   "sideBar": true,
   "skip_h1_title": false,
   "title_cell": "Table of Contents",
   "title_sidebar": "Contents",
   "toc_cell": false,
   "toc_position": {},
   "toc_section_display": true,
   "toc_window_display": false
  },
  "varInspector": {
   "cols": {
    "lenName": 16,
    "lenType": 16,
    "lenVar": 40
   },
   "kernels_config": {
    "python": {
     "delete_cmd_postfix": "",
     "delete_cmd_prefix": "del ",
     "library": "var_list.py",
     "varRefreshCmd": "print(var_dic_list())"
    },
    "r": {
     "delete_cmd_postfix": ") ",
     "delete_cmd_prefix": "rm(",
     "library": "var_list.r",
     "varRefreshCmd": "cat(var_dic_list()) "
    }
   },
   "types_to_exclude": [
    "module",
    "function",
    "builtin_function_or_method",
    "instance",
    "_Feature"
   ],
   "window_display": false
  }
 },
 "nbformat": 4,
 "nbformat_minor": 4
}
