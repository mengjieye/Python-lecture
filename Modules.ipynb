{
 "cells": [
  {
   "cell_type": "markdown",
   "metadata": {},
   "source": [
    "\n",
    "# 模块"
   ]
  },
  {
   "cell_type": "code",
   "execution_count": 2,
   "metadata": {},
   "outputs": [
    {
     "name": "stdout",
     "output_type": "stream",
     "text": [
      "ok\n"
     ]
    }
   ],
   "source": [
    "def func():\n",
    "    print('ok')\n",
    "\n",
    "\n",
    "if __name__ == '__main__':\n",
    "    func()"
   ]
  },
  {
   "cell_type": "markdown",
   "metadata": {},
   "source": [
    "这种形式的代码，相信你已经见过很多，在脚本的末尾，出现一个if条件判断，这个if条件判断的作用是什么呢， \\_\\_name__ 事先并没有定义，为什么可以直接使用呢，它从哪里来？ 回答这些问题，必须先了解模块属性。"
   ]
  },
  {
   "cell_type": "markdown",
   "metadata": {},
   "source": [
    "## 模块属性\n",
    "一个python脚本（以.py 结尾的文件）就是一个模块，模块自身有若干属性，其中比较常用的是如下两个\n",
    "1. __name__ 模块的名称\n",
    "2. __file__ 脚本的完整文件路径\n",
    "\n",
    "在任意一个python脚本里，你都可以输出这两个属性"
   ]
  },
  {
   "cell_type": "code",
   "execution_count": 8,
   "metadata": {},
   "outputs": [
    {
     "name": "stdout",
     "output_type": "stream",
     "text": [
      "__main__\n"
     ]
    }
   ],
   "source": [
    "print(__name__)\n",
    "# print(__file__)"
   ]
  },
  {
   "cell_type": "markdown",
   "metadata": {},
   "source": [
    "\\_\\_name__ 的值是 \\_\\_main__ ，这表示模块的名称是\\_\\_main__。  \n",
    "\\_\\_file__ 是文件的完整路径。"
   ]
  },
  {
   "cell_type": "markdown",
   "metadata": {},
   "source": [
    "虽然弄清楚了\\_\\_name__ 是怎么一回事，但也带来了新的疑问，明明\\_\\_name__ 就等于 \\_\\_main__ ，为何还要做if条件判断呢？显然是存在 \\_\\_name__ 不等于\\_\\_main__ 的情况。"
   ]
  },
  {
   "cell_type": "markdown",
   "metadata": {},
   "source": [
    "两个结论:\n",
    "1. 当脚本被直接执行时，模块属性\\_\\_name__ 等于\\_\\_main__\n",
    "2. 当脚本被其他模块引入时，模块属性\\_\\_name__ 等于脚本名称去掉.py 后剩余的部分"
   ]
  },
  {
   "cell_type": "markdown",
   "metadata": {},
   "source": [
    "## 终极目的---测试模块里函数"
   ]
  },
  {
   "cell_type": "markdown",
   "metadata": {},
   "source": [
    "由于一个脚本被引入时，自身的代码会被执行，因此我们在每个脚本里都写上一段if \\_\\_name__ == '\\_\\_main__': 如果你希望一些代码只有在脚本被直接执行时才执行，那么就把这些代码放入到if 语句块中，最常见的情形就是测试代码。"
   ]
  },
  {
   "cell_type": "code",
   "execution_count": 16,
   "metadata": {},
   "outputs": [],
   "source": [
    "from turtle import *\n",
    "color('red', 'yellow')\n",
    "begin_fill()\n",
    "while True:\n",
    "    forward(200)\n",
    "    left(170)\n",
    "    if abs(pos()) < 1:\n",
    "        break\n",
    "end_fill()\n",
    "done()"
   ]
  }
 ],
 "metadata": {
  "kernelspec": {
   "display_name": "Python 3",
   "language": "python",
   "name": "python3"
  },
  "language_info": {
   "codemirror_mode": {
    "name": "ipython",
    "version": 3
   },
   "file_extension": ".py",
   "mimetype": "text/x-python",
   "name": "python",
   "nbconvert_exporter": "python",
   "pygments_lexer": "ipython3",
   "version": "3.8.3"
  },
  "toc": {
   "base_numbering": 1,
   "nav_menu": {},
   "number_sections": true,
   "sideBar": true,
   "skip_h1_title": false,
   "title_cell": "Table of Contents",
   "title_sidebar": "Contents",
   "toc_cell": false,
   "toc_position": {},
   "toc_section_display": true,
   "toc_window_display": false
  }
 },
 "nbformat": 4,
 "nbformat_minor": 4
}
