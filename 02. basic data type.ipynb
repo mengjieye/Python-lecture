{
 "cells": [
  {
   "cell_type": "markdown",
   "metadata": {},
   "source": [
    "# 基本数据类型\n",
    "## 变量\n",
    "Python 中的变量不需要声明。每个变量在使用前都必须赋值，变量赋值以后该变量才会被创建。\n",
    "\n",
    "在 Python 中，变量就是变量，它没有类型，我们所说的\"类型\"是变量所指的内存中对象的类型。\n",
    "\n",
    "等号（=）用来给变量赋值。\n",
    "\n",
    "等号（=）运算符左边是一个变量名，等号（=）运算符右边是存储在变量中的值。例如："
   ]
  },
  {
   "cell_type": "code",
   "execution_count": 1,
   "metadata": {
    "ExecuteTime": {
     "end_time": "2020-09-13T04:00:22.432817Z",
     "start_time": "2020-09-13T04:00:22.426805Z"
    }
   },
   "outputs": [
    {
     "name": "stdout",
     "output_type": "stream",
     "text": [
      "100 76.5 Blade\n",
      "100\n",
      "some string\n"
     ]
    }
   ],
   "source": [
    "counter = 100 #整型变量\n",
    "weight = 76.5 #浮点型变量\n",
    "name = 'Blade' #字符串\n",
    "print(counter, weight, name) \n",
    "age = 100\n",
    "print(age)\n",
    "age = \"some string\"\n",
    "print(age)"
   ]
  },
  {
   "cell_type": "code",
   "execution_count": null,
   "metadata": {
    "ExecuteTime": {
     "end_time": "2020-09-13T04:00:22.445414Z",
     "start_time": "2020-09-13T04:00:22.435457Z"
    }
   },
   "outputs": [],
   "source": [
    "message = \"Hello Python world\"\n",
    "print(message)"
   ]
  },
  {
   "cell_type": "code",
   "execution_count": null,
   "metadata": {
    "ExecuteTime": {
     "end_time": "2020-09-13T04:00:22.455387Z",
     "start_time": "2020-09-13T04:00:22.447408Z"
    }
   },
   "outputs": [],
   "source": [
    "message = \"Hello Python world\"\n",
    "print(message)\n",
    "\n",
    "message = \"Hello Python Crash Course world\"\n",
    "print(message)"
   ]
  },
  {
   "cell_type": "markdown",
   "metadata": {},
   "source": [
    "## 变量的命名\n",
    "Python命名需要遵循一定的规则。\n",
    "- 变量名只能包含字母、数字和下划线。变量名可以下划线或字母开头，但不能以数字开头。\n",
    "- 变量名不可以包含空格，但可以用下划线分隔不同的单词。\n",
    "- 变量名不可以用Python关键字和函数名。\n",
    "- 变量名要具有描述性，意义明确，当然尽可能短。\n",
    "- 慎用小写字母l和大写字母O，不要采用汉语拼音缩写命名。"
   ]
  },
  {
   "cell_type": "markdown",
   "metadata": {},
   "source": [
    "## 多个变量赋值\n",
    "Python允许同时为多个变量赋值"
   ]
  },
  {
   "cell_type": "code",
   "execution_count": null,
   "metadata": {
    "ExecuteTime": {
     "end_time": "2020-09-13T04:00:22.520215Z",
     "start_time": "2020-09-13T04:00:22.515227Z"
    }
   },
   "outputs": [],
   "source": [
    "a = b = c = 100\n",
    "print(a, b, c)\n",
    "# a = 100\n",
    "# b = 100\n",
    "# c = 100"
   ]
  },
  {
   "cell_type": "markdown",
   "metadata": {},
   "source": [
    "这个实例，修改一个整型对象的值，值为200"
   ]
  },
  {
   "cell_type": "code",
   "execution_count": null,
   "metadata": {
    "ExecuteTime": {
     "end_time": "2020-09-13T04:00:22.587762Z",
     "start_time": "2020-09-13T04:00:22.582749Z"
    }
   },
   "outputs": [],
   "source": [
    "b = 200\n",
    "print(a, b, c)"
   ]
  },
  {
   "cell_type": "markdown",
   "metadata": {},
   "source": [
    "我们也可以同时为多个变量赋予不同的值"
   ]
  },
  {
   "cell_type": "code",
   "execution_count": null,
   "metadata": {
    "ExecuteTime": {
     "end_time": "2020-09-13T04:00:22.627628Z",
     "start_time": "2020-09-13T04:00:22.621645Z"
    }
   },
   "outputs": [],
   "source": [
    "a, b, c = 1, 2.0, 'China'\n",
    "print(a, b, c)"
   ]
  },
  {
   "cell_type": "markdown",
   "metadata": {},
   "source": [
    "## 标准数据类型\n",
    "Python3 中有六个标准数据类型\n",
    "* Number（数字）\n",
    "* String（字符串）\n",
    "* List（列表）\n",
    "* Tuple（元组）\n",
    "* Set（集合）\n",
    "* Dictionary（字典）"
   ]
  },
  {
   "cell_type": "markdown",
   "metadata": {},
   "source": [
    "## Number (数字)\n",
    "* Python3 支持 int、float、bool、complex（复数）。\n",
    "* 在Python 3里，只有一种整数类型 int，表示为长整型，没有 python2 中的 Long。\n",
    "* 像大多数语言一样，数值类型的赋值和计算都是很直观的。\n",
    "* 内置的 type() 函数可以用来查询变量所指的对象类型。\n",
    "* 注意：在 Python2 中是没有布尔型的，它用数字 0 表示 False，用 1 表示 True。到 Python3 中，把 True 和 False 定义成关键字了，但它们的值还是 1 和 0，它们可以和数字相加"
   ]
  },
  {
   "cell_type": "code",
   "execution_count": null,
   "metadata": {
    "ExecuteTime": {
     "end_time": "2020-09-13T04:00:22.706610Z",
     "start_time": "2020-09-13T04:00:22.701622Z"
    }
   },
   "outputs": [],
   "source": [
    "a, b, c, d = 20, 5.5, True, 4+3j\n",
    "print(type(a), type(b), type(c), type(d))\n",
    "e = b + c\n",
    "print('e is {0}'.format(e))"
   ]
  },
  {
   "cell_type": "markdown",
   "metadata": {},
   "source": [
    "还可以使用isinstance来判断类型"
   ]
  },
  {
   "cell_type": "code",
   "execution_count": null,
   "metadata": {
    "ExecuteTime": {
     "end_time": "2020-09-13T04:00:22.749520Z",
     "start_time": "2020-09-13T04:00:22.744515Z"
    }
   },
   "outputs": [],
   "source": [
    "a = 111\n",
    "print(isinstance(a, int))\n",
    "print(isinstance(True, float))"
   ]
  },
  {
   "cell_type": "markdown",
   "metadata": {},
   "source": [
    "isinstance和type的区别: \n",
    "* type()不会认为子类是一种父类类型\n",
    "* isinstance()会认为子类是一种父类类型"
   ]
  },
  {
   "cell_type": "markdown",
   "metadata": {},
   "source": [
    "当我们指定一个值时，Number对象就会被创建，此外可以使用del语句删除一些对象引用，如："
   ]
  },
  {
   "cell_type": "code",
   "execution_count": null,
   "metadata": {
    "ExecuteTime": {
     "end_time": "2020-09-13T04:00:22.835745Z",
     "start_time": "2020-09-13T04:00:22.824779Z"
    }
   },
   "outputs": [],
   "source": [
    "a = 100\n",
    "print('a is {0}'.format(a))\n",
    "del a\n",
    "print('a is {0}'.format(a))"
   ]
  },
  {
   "cell_type": "markdown",
   "metadata": {},
   "source": [
    "## 变量无类型，对象有类型\n",
    "### 变量类型"
   ]
  },
  {
   "cell_type": "markdown",
   "metadata": {},
   "source": [
    "在其他语言中，变量是有类型的，比如在C++中，你可能需要像下面这样的例子来定义一个类型。\n",
    "\n",
    "> int a = 3;\n",
    "\n",
    "现在，变量a的类型已经确定下来了，它只能存储int类型的数据，像下面的操作是不允许的。\n",
    "\n",
    "> a = \"hello\"；\n",
    "\n",
    "把字符串赋值给变量a是绝对不行的，在编译阶段就会报错，这是因为，变量a的类型是int，不能把字符串赋值给它。\n",
    "\n",
    "但在Python中，变量是没有类型的，在使用变量之前，你不需要提前声明变量，直接把对象赋值给变量即可，像下面这样\n",
    "\n",
    "> a = 3         # 将3赋值给a  \n",
    "> a = \"hello\"   # 将字符串hello赋值给a  \n",
    "\n",
    "你不能直接使用一个没有赋值的变量。\n",
    "\n",
    "由于变量a没有类型，所以，你可以将任意类型的数据赋值给变量a，这个在那些强类型语言中是做不到的，正因为如此，你可以认为在Python中，变量是没有类型的, 但你可能会产生疑问，下面的语句如何解释呢\n",
    "> a = 3  \n",
    "> print type(a)\n",
    "\n",
    "输出结果为 <type 'int'>， print语句明明打印出了变量a的类型啊，这又是怎么回事？\n",
    "\n",
    " "
   ]
  },
  {
   "cell_type": "markdown",
   "metadata": {},
   "source": [
    "### 引用\n",
    "Python中，所有的变量都是指向内存中对象的指针，都是值的引用。\n",
    "![](./image/ref.png)\n",
    "\n"
   ]
  },
  {
   "cell_type": "markdown",
   "metadata": {},
   "source": [
    "对象，是内存中存储数据的实体，而变量指向这些对象，这样，我们就可以操作内存里的数据了， 当执行a = 3这条语句时，在内存中创建了一个对象实体，然后让a指向了这个对象实体，这个就是引用，当你执行print type(a) 时，你以为得到的是变量a的类型，其实你得到的是 3 这个对象的类型，a 指向了内存中的 3。"
   ]
  },
  {
   "cell_type": "markdown",
   "metadata": {},
   "source": [
    "### 可变对象与不可变对象(mutable vs. immutable)\n",
    "\n",
    "- 不可变（3 个）：Number（数字）、String（字符串）、Tuple（元组）；\n",
    "- 可变（3 个）：List（列表）、Dictionary（字典）、Set（集合）。\n",
    "\n",
    "所谓不可变，指的是值不可变，对于不可变类型的变量，如果改变变量，会创建一个新的值。"
   ]
  },
  {
   "cell_type": "code",
   "execution_count": null,
   "metadata": {
    "ExecuteTime": {
     "end_time": "2020-09-13T04:00:23.052061Z",
     "start_time": "2020-09-13T04:00:23.047075Z"
    }
   },
   "outputs": [],
   "source": [
    "a = 3\n",
    "print( hex(id(a)))\n",
    "a = 5\n",
    "print( hex(id(a)))"
   ]
  },
  {
   "cell_type": "markdown",
   "metadata": {
    "ExecuteTime": {
     "end_time": "2020-09-13T02:58:22.244423Z",
     "start_time": "2020-09-13T02:58:22.240431Z"
    }
   },
   "source": [
    "id() 返回变量的内存地址，hex() 返回的是16进制值， 上面这段程序执行结果可以发现，两个变量的地址是不同的。当执行a = 3时，在内存中创建了一个对象，值为3，让后让变量a指向内存中的3，当执行a = 5时，还是一样的操作，由于在内存中新创建了一个对象，所以，两次输出的对象地址是不一样的。 "
   ]
  },
  {
   "cell_type": "code",
   "execution_count": null,
   "metadata": {
    "ExecuteTime": {
     "end_time": "2020-09-13T04:00:23.093947Z",
     "start_time": "2020-09-13T04:00:23.087964Z"
    }
   },
   "outputs": [],
   "source": [
    "a = {'name': 'c++'}\n",
    "print( hex(id(a)))\n",
    "a['name'] = 'python'\n",
    "print( hex(id(a)))"
   ]
  },
  {
   "cell_type": "markdown",
   "metadata": {},
   "source": [
    "变量a 最初指向了内存中的一个字典，key是name， value是c++，当执行a['anme'] = 'python'时，内存中的这个字典里的内容发生了变化，但字典本身的内存地址没有发生变化，你可以理解为这个字典由于值发生了变化，所以在内存中的区域有所变化，但是在内存中的起始地址没有发生变化，而现在，a仍然指向这个地址，所以两次print的值是一样的。"
   ]
  },
  {
   "cell_type": "markdown",
   "metadata": {},
   "source": [
    "## 运算符\n",
    "### 算术运算符\n",
    "- +加 两个对象相加\n",
    "- -减 得到负数或是一个数减去另一个数\n",
    "- *乘 两个数相乘或是返回一个被重复若干次的字符串\n",
    "- /除 x 除以 y\n",
    "- %取模 返回除法的余数\n",
    "- ** 幂 返回x的y次幂\n",
    "- //取整除 返回商的整数部分"
   ]
  },
  {
   "cell_type": "code",
   "execution_count": null,
   "metadata": {
    "ExecuteTime": {
     "end_time": "2020-09-13T04:00:23.176726Z",
     "start_time": "2020-09-13T04:00:23.167753Z"
    }
   },
   "outputs": [],
   "source": [
    "a = 24\n",
    "b = 5\n",
    "c = 0\n",
    "\n",
    "print(\"a的值为：\", a, \"\\nb的值为：\", b)\n",
    "\n",
    "c = a + b\n",
    "print (\"1. a + b = \", c)\n",
    " \n",
    "c = a - b\n",
    "print (\"2. a - b = ：\", c)\n",
    " \n",
    "c = a * b\n",
    "print (\"3. a * b = \", c)\n",
    " \n",
    "c = a / b\n",
    "print (\"4. a / b = \", c)\n",
    "\n",
    "c = a // b\n",
    "print (\"4.1 a // b = \", c)\n",
    " \n",
    "c = a % b\n",
    "print (\"5. a % b = \", c)\n",
    " \n",
    "# 修改变量 a 、b 、c\n",
    "a = 2\n",
    "b = 3\n",
    "c = a**b \n",
    "print (\"6. a ** b = \", c)\n",
    " \n",
    "a = 10\n",
    "b = 5\n",
    "c = a//b \n",
    "print (\"7. a // b = \", c)"
   ]
  },
  {
   "cell_type": "code",
   "execution_count": null,
   "metadata": {
    "ExecuteTime": {
     "end_time": "2020-09-13T04:00:23.190689Z",
     "start_time": "2020-09-13T04:00:23.179719Z"
    }
   },
   "outputs": [],
   "source": [
    "a = 10\n",
    "print(a)\n",
    "a = 'String'\n",
    "print(a)"
   ]
  },
  {
   "cell_type": "markdown",
   "metadata": {},
   "source": [
    "注意：\n",
    "1. Python可以同时为多个变量赋值，如a, b = 1, 2。\n",
    "2. 一个变量可以通过赋值指向不同类型的对象。\n",
    "3. 数值的除法包含两个运算符：/ 返回一个浮点数，// 返回一个整数(**向下取整**)。\n",
    "4. 取余公式r=a-n*[a//n]，r是余数，a是被除数，n是除数。\n",
    "4. 在混合计算时，Python会把整型转换成为浮点数。"
   ]
  },
  {
   "cell_type": "code",
   "execution_count": null,
   "metadata": {
    "ExecuteTime": {
     "end_time": "2020-09-13T04:00:23.224603Z",
     "start_time": "2020-09-13T04:00:23.217618Z"
    }
   },
   "outputs": [],
   "source": [
    "print(5//2)\n",
    "print(-5//2)\n",
    "print(123%10)\n",
    "print(-123%10)\n",
    "print(123%-10)"
   ]
  },
  {
   "cell_type": "markdown",
   "metadata": {},
   "source": [
    "### 比较(关系)运算符\n",
    "* == 等于 - 比较对象是否相等\n",
    "* != 不等于 - 比较两个对象是否不相等(***Python3.x 取消了<>关系运算符***)\n",
    "* \\> 大于 - 返回x是否大于y\n",
    "* < 小于 - 返回x是否小于y。所有比较运算符返回1表示真，返回0表示假。这分别与特殊的变量True和False等价\n",
    "* \\>= 大于等于 - 返回x是否大于等于y\n",
    "* <= 小于等于 - 返回x是否小于等于y"
   ]
  },
  {
   "cell_type": "code",
   "execution_count": null,
   "metadata": {
    "ExecuteTime": {
     "end_time": "2020-09-13T04:00:23.275463Z",
     "start_time": "2020-09-13T04:00:23.265491Z"
    }
   },
   "outputs": [],
   "source": [
    "a = 21\n",
    "b = 10\n",
    "print(\"a is {0}, b is {1}\".format(a, b))\n",
    "\n",
    "if ( a == b ):\n",
    "    print (\"1. a 等于 b\")\n",
    "else:\n",
    "    print (\"1. a 不等于 b\")\n",
    "\n",
    "if ( a != b ):\n",
    "    print (\"2. a 不等于 b\")\n",
    "else:\n",
    "    print (\"2. a 等于 b\")\n",
    "\n",
    "if ( a < b ):\n",
    "    print (\"3. a 小于 b\")\n",
    "else:\n",
    "    print (\"3. a 大于等于 b\")\n",
    "    \n",
    "if ( a > b ):\n",
    "    print (\"4. a 大于 b\")\n",
    "else:\n",
    "    print (\"4. a 小于等于 b\")\n",
    "\n",
    "# 修改变量 a 和 b 的值\n",
    "a = 5;\n",
    "b = 20;\n",
    "print(\"a is {0}, b is {1}\".format(a, b))\n",
    "if ( a <= b ):\n",
    "    print (\"5. a 小于等于 b\")\n",
    "else:\n",
    "    print (\"5. a 大于  b\")\n",
    "\n",
    "if ( b >= a ):\n",
    "    print (\"6. b 大于等于 a\")\n",
    "else:\n",
    "    print (\"6. b 小于 a\")"
   ]
  },
  {
   "cell_type": "markdown",
   "metadata": {},
   "source": [
    "### 赋值运算符\n",
    "* = 简单的赋值运算符 c = a + b 将 a + b 的运算结果赋值为 c\n",
    "* \\+= 加法赋值运算符 c += a 等效于 c = c + a\n",
    "* \\-= 减法赋值运算符 c -= a 等效于 c = c - a\n",
    "* \\*= 乘法赋值运算符 c \\*= a 等效于 c = c \\* a\n",
    "* /= 除法赋值运算符 c /= a 等效于 c = c / a\n",
    "* %= 取模赋值运算符 c %= a 等效于 c = c % a\n",
    "* \\*\\*= 幂赋值运算符 c \\*\\*= a 等效于 c = c \\*\\* a\n",
    "* //= 取整除赋值运算符 c //= a 等效于 c = c // a"
   ]
  },
  {
   "cell_type": "code",
   "execution_count": null,
   "metadata": {
    "ExecuteTime": {
     "end_time": "2020-09-13T04:00:23.322341Z",
     "start_time": "2020-09-13T04:00:23.313367Z"
    }
   },
   "outputs": [],
   "source": [
    "a = 21\n",
    "b = 10\n",
    "c = 0\n",
    "print(\"a is {0}, b is {1}, c is {2}\".format(a, b, c))\n",
    "  \n",
    "c = a + b\n",
    "print (\"1. c 的值为：\", c)\n",
    " \n",
    "c += a\n",
    "print (\"2. c 的值为：\", c)\n",
    " \n",
    "c *= a\n",
    "print (\"3. c 的值为：\", c)\n",
    " \n",
    "c /= a \n",
    "print (\"4. c 的值为：\", c)\n",
    " \n",
    "c = 2\n",
    "c %= a\n",
    "print (\"5. c 的值为：\", c)\n",
    " \n",
    "c **= a\n",
    "print (\"6. c 的值为：\", c)\n",
    "c //= a\n",
    "print('c //= a is {0}'.format(c))\n",
    "# c //= a\n",
    "print (\"7. c 的值为：\", c)"
   ]
  },
  {
   "cell_type": "markdown",
   "metadata": {},
   "source": [
    "### 位运算符\n",
    "* 按位运算符是把数字看作二进制来进行计算的\n",
    "* & 按位与运算符：参与运算的两个值,如果两个相应位都为1,则该位的结果为1,否则为0\n",
    "    * (a & b) 输出结果 12 ，二进制解释： 0000 1100\n",
    "* | 按位或运算符：只要对应的二个二进位有一个为1时，结果位就为1。\n",
    "    * (a | b) 输出结果 61 ，二进制解释： 0011 1101\n",
    "* ^ 按位异或运算符：当两对应的二进位相异时，结果为1\n",
    "    * (a ^ b) 输出结果 49 ，二进制解释： 0011 0001\n",
    "* ~ 按位取反运算符：对数据的每个二进制位取反,即把1变为0,把0变为1 。~x 类似于 -x-1\n",
    "    * (~a ) 输出结果 -61 ，二进制解释： 1100 0011，在一个有符号二进制数的补码形式。\n",
    "* << 左移动运算符：运算数的各二进位全部左移若干位，由 << 右边的数字指定了移动的位数，高位丢弃，低位补0。\n",
    "    * a << 2 输出结果 240 ，二进制解释： 1111 0000\n",
    "* \\>\\> 右移动运算符：把\"\\>\\>\"左边的运算数的各二进位全部右移若干位，\\>\\> 右边的数字指定了移动的位数\n",
    "    * a\\>\\> 2 输出结果 15 ，二进制解释： 0000 1111"
   ]
  },
  {
   "cell_type": "code",
   "execution_count": 6,
   "metadata": {
    "ExecuteTime": {
     "end_time": "2020-09-13T04:00:23.362240Z",
     "start_time": "2020-09-13T04:00:23.356273Z"
    }
   },
   "outputs": [
    {
     "name": "stdout",
     "output_type": "stream",
     "text": [
      "1. c 的值为： 12\n",
      "2. c 的值为： 61\n",
      "3. c 的值为： 49\n",
      "4. c 的值为： -61\n",
      "5. c 的值为： 240\n",
      "6. c 的值为： 15\n",
      "-1\n"
     ]
    }
   ],
   "source": [
    "a = 60            # 60 = 0011 1100 \n",
    "b = 13            # 13 = 0000 1101 \n",
    "c = 0\n",
    " \n",
    "c = a & b        # 12 = 0000 1100\n",
    "print (\"1. c 的值为：\", c)\n",
    " \n",
    "c = a | b        # 61 = 0011 1101 \n",
    "print (\"2. c 的值为：\", c)\n",
    " \n",
    "c = a ^ b        # 49 = 0011 0001\n",
    "print (\"3. c 的值为：\", c)\n",
    " \n",
    "c = ~a           # -61 = 1100 0011\n",
    "print (\"4. c 的值为：\", c)\n",
    " \n",
    "c = a << 2       # 240 = 1111 0000\n",
    "print (\"5. c 的值为：\", c)\n",
    " \n",
    "c = a >> 2       # 15 = 0000 1111\n",
    "print (\"6. c 的值为：\", c)"
   ]
  },
  {
   "cell_type": "markdown",
   "metadata": {},
   "source": [
    "### 逻辑运算符\n",
    "* 加入变量a =10, b = 20\n",
    "* and x and y 布尔\"与\" - 如果 x 为 False，x and y 返回 False，否则它返回 y 的计算值\n",
    "    * (a and b) 返回 20\n",
    "* or x or y 布尔\"或\" - 如果 x 是 True，它返回 x 的值，否则它返回 y 的计算值\n",
    "    * (a or b) 返回 10\n",
    "* not not x 布尔\"非\" - 如果 x 为 True，返回 False 。如果 x 为 False，它返回 True\n",
    "    * not (a and b) 返回False"
   ]
  },
  {
   "cell_type": "code",
   "execution_count": null,
   "metadata": {
    "ExecuteTime": {
     "end_time": "2020-09-13T04:00:23.414120Z",
     "start_time": "2020-09-13T04:00:23.404119Z"
    }
   },
   "outputs": [],
   "source": [
    "a = 10\n",
    "b = 20\n",
    "# if -1:\n",
    "#     print('ok')\n",
    "print('a = {0}, b = {1}'.format(a, b))\n",
    "if  a and b :\n",
    "    print (\"1. 变量 a 和 b 都为 true\")\n",
    "else:\n",
    "    print (\"1. 变量 a 和 b 有一个不为 true\")\n",
    "if ( a or b ):\n",
    "    print (\"2. 变量 a 和 b 都为 true，或其中一个变量为 true\")\n",
    "else:\n",
    "    print (\"2. 变量 a 和 b 都不为 true\")\n",
    "    \n",
    "# 修改变量 a 的值\n",
    "a = 0\n",
    "print('a = {0}, b = {1}'.format(a, b))\n",
    "if ( a and b ):\n",
    "    print (\"3. 变量 a 和 b 都为 true\")\n",
    "else:\n",
    "    print (\"3. 变量 a 和 b 有一个不为 true\")\n",
    "    \n",
    "if ( a or b):\n",
    "    print (\"4. 变量 a 和 b 都为 true，或其中一个变量为 true\")\n",
    "else:\n",
    "    print (\"4. 变量 a 和 b 都不为 true\")\n",
    "if not( a and b ):\n",
    "    print (\"5. 变量 a 和 b 都为 false，或其中一个变量为 false\")\n",
    "else:\n",
    "    print (\"5. 变量 a 和 b 都为 true\")"
   ]
  },
  {
   "cell_type": "markdown",
   "metadata": {},
   "source": [
    "### 成员运算符\n",
    "* in 如果在指定的序列中找到值返回 True，否则返回 False\n",
    "    * x 在 y 序列中 , 如果 x 在 y 序列中返回 True\n",
    "* not in 如果在指定的序列中没有找到值返回 True，否则返回 False\n",
    "    * x 不在 y 序列中 , 如果 x 不在 y 序列中返回 True"
   ]
  },
  {
   "cell_type": "code",
   "execution_count": null,
   "metadata": {
    "ExecuteTime": {
     "end_time": "2020-09-13T04:00:23.454990Z",
     "start_time": "2020-09-13T04:00:23.449001Z"
    }
   },
   "outputs": [],
   "source": [
    "a = 10\n",
    "b = 20\n",
    "print('a is {0}, b is {1}'.format(a, b))\n",
    "mylist = [1, 2, 3, 4, 5 ];\n",
    " \n",
    "if ( a in mylist ):\n",
    "   print (\"1. 变量 a 在给定的列表中 list 中\")\n",
    "else:\n",
    "   print (\"1. 变量 a 不在给定的列表中 list 中\")\n",
    " \n",
    "if ( b not in mylist ):\n",
    "   print (\"2. 变量 b 不在给定的列表中 list 中\")\n",
    "else:\n",
    "   print (\"2. 变量 b 在给定的列表中 list 中\")\n",
    " \n",
    "# 修改变量 a 的值\n",
    "a = 2\n",
    "print('a is {0}, b is {1}'.format(a, b))\n",
    "if ( a in mylist ):\n",
    "   print (\"3. 变量 a 在给定的列表中 list 中\")\n",
    "else:\n",
    "   print (\"3. 变量 a 不在给定的列表中 list 中\")"
   ]
  },
  {
   "cell_type": "markdown",
   "metadata": {},
   "source": [
    "### 身份运算符\n",
    "* is is 是判断两个标识符是不是引用自一个对象\n",
    "    * x is y, 类似 id(x) == id(y) , 如果引用的是同一个对象则返回 True，否则返回 False\n",
    "* is not is not 是判断两个标识符是不是引用自不同对象\n",
    "    * x is not y ， 类似 id(a) != id(b)。如果引用的不是同一个对象则返回结果 True，否则返回 False"
   ]
  },
  {
   "cell_type": "code",
   "execution_count": null,
   "metadata": {
    "ExecuteTime": {
     "end_time": "2020-09-13T04:00:23.503853Z",
     "start_time": "2020-09-13T04:00:23.491884Z"
    }
   },
   "outputs": [],
   "source": [
    "# < 256的整数，如果值相等，则分配同样的内存id，所以用is，他们返回true\n",
    "a = 20\n",
    "b = 20\n",
    "print('a is {0}, b is {1}, id of a is {2}, id of b is {3}'.format(a, b, id(a), id(b)))\n",
    "\n",
    "if ( a is b ):\n",
    "   print (\"1. a 和 b 有相同的标识\")\n",
    "else:\n",
    "   print (\"1. a 和 b 没有相同的标识\")\n",
    " \n",
    "if ( id(a) == id(b) ):\n",
    "   print (\"2. a 和 b 有相同的标识\")\n",
    "else:\n",
    "   print (\"2. a 和 b 没有相同的标识\")\n",
    " \n",
    "# 修改变量 b 的值\n",
    "b = 30\n",
    "print('a is {0}, b is {1}, id of a is {2}, id of b is {3}'.format(a, b, id(a), id(b)))\n",
    "if ( a is b ):\n",
    "   print (\"3. a 和 b 有相同的标识\")\n",
    "else:\n",
    "   print (\"3. a 和 b 没有相同的标识\")\n",
    " \n",
    "if ( a is not b ):\n",
    "   print (\"4. a 和 b 没有相同的标识\")\n",
    "else:\n",
    "   print (\"4. a 和 b 有相同的标识\")\n",
    "\n",
    "# > 256的整数，比如257，如果两个整数都是257，根据位数分配原理，id地址不同，所以哪怕值相同，但是>256,用is\n",
    "# 也是得到False的值\n",
    "a = 257\n",
    "b = 257\n",
    "print( 'a is b', a is b)\n",
    "print(id(a))\n",
    "print(id(b))\n",
    "\n",
    "# 整数相比，必须用 ==\n",
    "print(a is b)\n",
    "print(a == b)"
   ]
  },
  {
   "cell_type": "markdown",
   "metadata": {},
   "source": [
    "### 运算符优先级\n",
    "从高到低优先级的运算符如下：\n",
    "* \\*\\*\t指数 (最高优先级)\n",
    "* ~ \\+ \\-\t按位翻转, 一元加号和减号 (最后两个的方法名为 +@ 和 -@)\n",
    "* \\* / % //\t乘，除，取模和取整除\n",
    "* \\+ \\-\t加法减法\n",
    "* \\>\\> <<\t右移，左移运算符\n",
    "* &\t位 'AND'\n",
    "* ^ |\t位运算符\n",
    "* <= < \\> \\>=\t比较运算符\n",
    "* <\\> == !=\t等于运算符\n",
    "* = %= /= //= \\-= \\+= \\*= \\*\\*=\t赋值运算符\n",
    "* is is not\t身份运算符\n",
    "* in not in\t成员运算符\n",
    "* and or not\t逻辑运算符"
   ]
  },
  {
   "cell_type": "code",
   "execution_count": null,
   "metadata": {
    "ExecuteTime": {
     "end_time": "2020-09-13T04:00:23.573665Z",
     "start_time": "2020-09-13T04:00:23.565687Z"
    }
   },
   "outputs": [],
   "source": [
    "a = 20\n",
    "b = 10\n",
    "c = 15\n",
    "d = 5\n",
    "e = 0\n",
    " \n",
    "e = (a + b) * c / d       #( 30 * 15 ) / 5\n",
    "print (\"(a + b) * c / d 运算结果为：\",  e)\n",
    " \n",
    "e = ((a + b) * c) / d     # (30 * 15 ) / 5\n",
    "print (\"((a + b) * c) / d 运算结果为：\",  e)\n",
    " \n",
    "e = (a + b) * (c / d);    # (30) * (15/5)\n",
    "print (\"(a + b) * (c / d) 运算结果为：\",  e)\n",
    " \n",
    "e = a + (b * c) / d;      #  20 + (150/5)\n",
    "print (\"a + (b * c) / d 运算结果为：\",  e)"
   ]
  },
  {
   "cell_type": "markdown",
   "metadata": {},
   "source": [
    "## String (字符串)\n",
    "字符串是 Python 中最常用的数据类型。可以使用单引号，双引号，3对双引号创建一个字符串。\n",
    "\n",
    "创建字符串很简单，只要为变量分配一个值即可。例如："
   ]
  },
  {
   "cell_type": "code",
   "execution_count": null,
   "metadata": {
    "ExecuteTime": {
     "end_time": "2020-09-13T04:00:23.643480Z",
     "start_time": "2020-09-13T04:00:23.639490Z"
    }
   },
   "outputs": [],
   "source": [
    "str_1 = 'hello, python'\n",
    "str_2 = \"hello, python\"\n",
    "str_3 = \"\"\"hello, python\"\"\""
   ]
  },
  {
   "cell_type": "markdown",
   "metadata": {},
   "source": [
    "可以打印字符串，查看变量的类型"
   ]
  },
  {
   "cell_type": "code",
   "execution_count": null,
   "metadata": {
    "ExecuteTime": {
     "end_time": "2020-09-13T04:00:23.695340Z",
     "start_time": "2020-09-13T04:00:23.689388Z"
    }
   },
   "outputs": [],
   "source": [
    "print(str_1, type(str_1))\n",
    "print(str_2, type(str_2))\n",
    "print(str_3, type(str_3))"
   ]
  },
  {
   "cell_type": "markdown",
   "metadata": {},
   "source": [
    "### 索引的概念"
   ]
  },
  {
   "cell_type": "markdown",
   "metadata": {},
   "source": [
    "Python中，字符串是字符的有序集合。也就是说，字符串中的字符在内存中是按照一定的顺序存放的。有序意味着，每一个字符都有自己的位置，或者叫索引，比如字符串'python'，这个字符串的第3个字符是什么？显然，从左向右数，是t， 这个就是索引。但在Python中，索引是从0开始的。"
   ]
  },
  {
   "cell_type": "markdown",
   "metadata": {},
   "source": [
    "#### 字符串的切片操作"
   ]
  },
  {
   "cell_type": "markdown",
   "metadata": {},
   "source": [
    "切片操作是使用频率非常高的操作，它的一般模式\\[start:end)，左闭右开，索引为end的元素不会被截取。\n",
    "- 指定开始和结束位置"
   ]
  },
  {
   "cell_type": "code",
   "execution_count": null,
   "metadata": {
    "ExecuteTime": {
     "end_time": "2020-09-13T04:00:23.863366Z",
     "start_time": "2020-09-13T04:00:23.858902Z"
    }
   },
   "outputs": [],
   "source": [
    "a = \"hello crash course\"\n",
    "print(a[6:11])\n",
    "print(a[6:-7])"
   ]
  },
  {
   "cell_type": "markdown",
   "metadata": {},
   "source": [
    "- 指定开始位置，不指定结束位置"
   ]
  },
  {
   "cell_type": "code",
   "execution_count": null,
   "metadata": {
    "ExecuteTime": {
     "end_time": "2020-09-13T04:00:23.912202Z",
     "start_time": "2020-09-13T04:00:23.907215Z"
    }
   },
   "outputs": [],
   "source": [
    "a = \"hello crash course\"\n",
    "print(a[6:])"
   ]
  },
  {
   "cell_type": "markdown",
   "metadata": {},
   "source": [
    "- 指定结束位置，不指定开始位置"
   ]
  },
  {
   "cell_type": "code",
   "execution_count": null,
   "metadata": {
    "ExecuteTime": {
     "end_time": "2020-09-13T04:00:23.960075Z",
     "start_time": "2020-09-13T04:00:23.956085Z"
    }
   },
   "outputs": [],
   "source": [
    "a = \"hello crash course\"\n",
    "print(a[:-7])"
   ]
  },
  {
   "cell_type": "markdown",
   "metadata": {},
   "source": [
    "- 切片操作允许索引越界"
   ]
  },
  {
   "cell_type": "code",
   "execution_count": null,
   "metadata": {
    "ExecuteTime": {
     "end_time": "2020-09-13T04:00:24.006956Z",
     "start_time": "2020-09-13T04:00:24.001976Z"
    }
   },
   "outputs": [],
   "source": [
    "a = \"hello crash course\"\n",
    "print(len(a))\n",
    "print(a[7:20])"
   ]
  },
  {
   "cell_type": "markdown",
   "metadata": {},
   "source": [
    " 字符串a的长度是18，索引从0开始，最大索引为12，20显然已经越界，但程序并没有报错，这是切片操作的一个特点，当索引越界时，切片操作将以最大索引作为结束位置。"
   ]
  },
  {
   "cell_type": "markdown",
   "metadata": {},
   "source": [
    "- 指定切片间隔"
   ]
  },
  {
   "cell_type": "code",
   "execution_count": null,
   "metadata": {
    "ExecuteTime": {
     "end_time": "2020-09-13T04:00:24.095733Z",
     "start_time": "2020-09-13T04:00:24.090731Z"
    }
   },
   "outputs": [],
   "source": [
    "a = '123456789'\n",
    "print(a[::2])\n",
    "print(a[1::2])\n",
    "print(a[::-2])\n",
    "print(a[::-1])"
   ]
  },
  {
   "cell_type": "markdown",
   "metadata": {},
   "source": [
    "\\[\\]操作符内有两个:， 这两个要分开理解，对于第一个，我们将其理解为设置索引，:左右两侧都没有明确写明索引，这就相当于既没有指定开始索引，也没有指定结束索引，因此等价于开始索引从0开始，结束索引就是字符串的末尾。"
   ]
  },
  {
   "cell_type": "markdown",
   "metadata": {},
   "source": [
    "综合应用例子"
   ]
  },
  {
   "cell_type": "code",
   "execution_count": null,
   "metadata": {
    "ExecuteTime": {
     "end_time": "2020-09-13T04:00:24.188468Z",
     "start_time": "2020-09-13T04:00:24.179511Z"
    }
   },
   "outputs": [],
   "source": [
    "str_1 = 'Ronaldo'\n",
    "print(len(str_1))\n",
    "print(str_1)\n",
    "print(str_1[-1])\n",
    "# -1等价于len(str) - 1\n",
    "print(str_1[0:-1])  #输出第一个到倒数第二个的所有字符\n",
    "print(str_1[0]) #输出第一个字符\n",
    "print(str_1[2:5]) #输出从第三个开始到第五个的字符\n",
    "print(str_1[2:]) #输出从第三个开始后的所有字符\n",
    "print((str_1+str_1[-1])*10)\n",
    "print(str_1 + 'TEST') #链接字符串\n",
    "print('g' + 'o'*100 + 'al')\n",
    "print(str_1[6:-1])\n",
    "print(str_1[2:])\n",
    "mystr = 'aa  b  c  d'\n",
    "print(mystr.split('  '))"
   ]
  },
  {
   "cell_type": "markdown",
   "metadata": {},
   "source": [
    "### Python转义字符\n",
    "在需要在字符中使用特殊字符时，python用反斜杠(\\\\)转义字符。如下表：\n"
   ]
  },
  {
   "cell_type": "markdown",
   "metadata": {},
   "source": [
    "\n",
    "|转义字符 | <p align=\"left\">描述 |\n",
    "|  ----  | ----  |\n",
    "|\\\\(在行尾时) | <p align=\"left\">续行符|\n",
    "|\\\\\t|  <p align=\"left\"> 反斜杠符号|\n",
    "|\\'\t|  <p align=\"left\"> 单引号|\n",
    "|\\\"\t| <p align=\"left\"> 双引号|\n",
    "|\\a\t| <p align=\"left\">响铃|\n",
    "|\\b\t| <p align=\"left\">退格(Backspace)|\n",
    "|\\000\t| <p align=\"left\">空|\n",
    "|\\n\t| <p align=\"left\">换行|\n",
    "|\\v\t| <p align=\"left\">纵向制表符|\n",
    "|\\t\t| <p align=\"left\">横向制表符|\n",
    "|\\r\t| <p align=\"left\">回车|\n",
    "|\\f\t| <p align=\"left\">换页|\n",
    "|\\oyy\t| <p align=\"left\">八进制数，yy 代表的字符，例如：\\o12 代表换行，其中 o 是字母，不是数字 0|\n",
    "|\\xyy\t| <p align=\"left\">十六进制数，yy代表的字符，例如：\\x0a代表换行|\n",
    "|\\other\t| <p align=\"left\">其它的字符以普通格式输出|"
   ]
  },
  {
   "cell_type": "code",
   "execution_count": null,
   "metadata": {
    "ExecuteTime": {
     "end_time": "2020-09-13T04:00:24.310180Z",
     "start_time": "2020-09-13T04:00:24.306190Z"
    }
   },
   "outputs": [],
   "source": [
    "print('Ro\\na\\tl\\d\\o')\n",
    "print(r'Ro\\na\\tldo')"
   ]
  },
  {
   "cell_type": "markdown",
   "metadata": {},
   "source": [
    "可以使用\"\"\"...\"\"\"或者'''...'''跨越多行"
   ]
  },
  {
   "cell_type": "code",
   "execution_count": null,
   "metadata": {
    "ExecuteTime": {
     "end_time": "2020-09-13T04:00:24.377554Z",
     "start_time": "2020-09-13T04:00:24.372567Z"
    }
   },
   "outputs": [],
   "source": [
    "sample = \"\"\"\n",
    "This is sample,\n",
    "it's very easy.\n",
    "\"\"\"\n",
    "print(sample)"
   ]
  },
  {
   "cell_type": "markdown",
   "metadata": {},
   "source": [
    "Python没有单独的字符类型 (char)，一个字符就是长度为1的字符串"
   ]
  },
  {
   "cell_type": "code",
   "execution_count": null,
   "metadata": {
    "ExecuteTime": {
     "end_time": "2020-09-13T04:00:24.453358Z",
     "start_time": "2020-09-13T04:00:24.448369Z"
    }
   },
   "outputs": [],
   "source": [
    "word = 'Python'\n",
    "print(word[0], word[5])\n",
    "print(word[-1], word[-6])\n",
    "print(word[0:3])"
   ]
  },
  {
   "cell_type": "markdown",
   "metadata": {},
   "source": [
    "与 C 字符串不同的是，Python 字符串不能被改变。向一个索引位置赋值，比如word[0] = 'm'会导致错误\n",
    "\n",
    "注意：\n",
    "* 1、反斜杠可以用来转义，使用r可以让反斜杠不发生转义。\n",
    "* 2、字符串可以用+运算符连接在一起，用*运算符重复。\n",
    "* 3、Python中的字符串有两种索引方式，从左往右以0开始，从右往左以-1开始。\n",
    "* 4、Python中的字符串不能改变。"
   ]
  },
  {
   "cell_type": "markdown",
   "metadata": {},
   "source": [
    "* 索引值是以0为开始值，-1为从末尾的开始位置\n",
    "* 加号(+)是列表连接运算符，星号(*)是重复操作"
   ]
  },
  {
   "cell_type": "markdown",
   "metadata": {},
   "source": [
    "### Python字符串格式化\n",
    "Python 支持格式化字符串的输出 。尽管这样可能会用到非常复杂的表达式，但最基本的用法是将一个值插入到一个有字符串格式符 %s 的字符串中。\n",
    "\n",
    "在 Python 中，字符串格式化使用与 C 中 sprintf 函数一样的语法。"
   ]
  },
  {
   "cell_type": "code",
   "execution_count": null,
   "metadata": {
    "ExecuteTime": {
     "end_time": "2020-09-13T04:00:24.593055Z",
     "start_time": "2020-09-13T04:00:24.590037Z"
    }
   },
   "outputs": [],
   "source": [
    "name = \"Jaspter\"\n",
    "age = 6\n",
    "print (\"My name is %s, and I'm %s year old!\" % (name, age))"
   ]
  },
  {
   "cell_type": "code",
   "execution_count": null,
   "metadata": {
    "ExecuteTime": {
     "end_time": "2020-09-08T03:38:35.756221Z",
     "start_time": "2020-09-08T03:38:35.744946Z"
    }
   },
   "outputs": [],
   "source": []
  },
  {
   "cell_type": "markdown",
   "metadata": {},
   "source": [
    "\n",
    "python字符串格式化符号:\n",
    "\n",
    "|符号|描述|\n",
    "|:---|:---|\n",
    "|%c\t| <p align=\"left\">格式化字符及其ASCII码|\n",
    "|%s\t| <p align=\"left\">格式化字符串|\n",
    "|%d\t| <p align=\"left\">格式化整数|\n",
    "|%u\t| <p align=\"left\">格式化无符号整型|\n",
    "|%o\t| <p align=\"left\">格式化无符号八进制数|\n",
    "|%x\t| <p align=\"left\">格式化无符号十六进制数|\n",
    "|%X\t| <p align=\"left\">格式化无符号十六进制数（大写）|\n",
    "|%f\t| <p align=\"left\">格式化浮点数字，可指定小数点后的精度|\n",
    "|%e\t| <p align=\"left\">用科学计数法格式化浮点数|\n",
    "|%E\t| <p align=\"left\">作用同%e，用科学计数法格式化浮点数|\n",
    "|%g\t| <p align=\"left\">%f和%e的简写|\n",
    "|%G\t| <p align=\"left\">%f 和 %E 的简写|\n",
    "|%p\t| <p align=\"left\">用十六进制数格式化变量的地址|"
   ]
  },
  {
   "cell_type": "markdown",
   "metadata": {},
   "source": [
    "### f-string\n",
    "f-string 是 python3.6 之后版本添加的，称之为字面量格式化字符串，是新的格式化字符串的语法。\n",
    "\n",
    "f-string 格式化字符串以 f 开头，后面跟着字符串，字符串中的表达式用大括号 {} 包起来，它会将变量或表达式计算后的值替换进去。"
   ]
  },
  {
   "cell_type": "code",
   "execution_count": 9,
   "metadata": {
    "ExecuteTime": {
     "end_time": "2020-09-13T04:00:24.694182Z",
     "start_time": "2020-09-13T04:00:24.689212Z"
    }
   },
   "outputs": [
    {
     "name": "stdout",
     "output_type": "stream",
     "text": [
      "My name is Jaspter, and I'm 6 year old!\n",
      "My name is Jaspter, and I'm 6 year old!\n",
      "My name is Jaspter, and I'm 6 year old!\n"
     ]
    }
   ],
   "source": [
    "name = \"Jaspter\"\n",
    "age = 6\n",
    "print(f\"My name is {name}, and I'm {age} year old!\" )\n",
    "print(\"My name is {0}, and I'm {1} year old!\".format(name, age))\n",
    "print(\"My name is {name}, and I'm {age} year old!\".format(name = name, age = age))"
   ]
  },
  {
   "cell_type": "markdown",
   "metadata": {},
   "source": [
    "### Python字符串操作\n",
    "Python 的字符串内建函数:"
   ]
  },
  {
   "cell_type": "markdown",
   "metadata": {},
   "source": [
    "<p align=\"left\">序号 | <p align=\"left\">方法及描述\n",
    "-|-\n",
    "1\t| <p align=\"left\">capitalize() <br> <br>将字符串的第一个字符转换为大写\n",
    "2\t| <p align=\"left\">center(width, fillchar) <br> <br>返回一个指定的宽度 width 居中的字符串，fillchar 为填充的字符，默认为空格。\n",
    "3\t| <p align=\"left\">count(str, beg= 0,end=len(string)) <br> <br>返回 str 在 string 里面出现的次数，如果 beg 或者 end 指定则返回指定范围内 str 出现的次数\n",
    "4\t| <p align=\"left\">bytes.decode(encoding=\"utf-8\", errors=\"strict\") <br> <br>Python3 中没有 decode 方法，但我们可以使用 bytes 对象的 decode() 方法来解码给定的 bytes 对象，这个 bytes 对象可以由 str.encode() 来编码返回。\n",
    "5\t| <p align=\"left\">encode(encoding='UTF-8',errors='strict') <br> <br>以 encoding 指定的编码格式编码字符串，如果出错默认报一个ValueError 的异常，除非 errors 指定的是'ignore'或者'replace'\n",
    "6\t| <p align=\"left\">endswith(suffix, beg=0, end=len(string)) <br> <br>检查字符串是否以 obj 结束，如果beg 或者 end 指定则检查指定的范围内是否以 obj 结束，如果是，返回 True,否则返回 False. \n",
    "7\t| <p align=\"left\">expandtabs(tabsize=8) <br> <br>把字符串 string 中的 tab 符号转为空格，tab 符号默认的空格数是 8 。\n",
    "8\t| <p align=\"left\">find(str, beg=0, end=len(string)) <br> <br>检测 str 是否包含在字符串中，如果指定范围 beg 和 end ，则检查是否包含在指定范围内，如果包含返回开始的索引值，否则返回-1\n",
    "9\t| <p align=\"left\">index(str, beg=0, end=len(string)) <br> <br>跟find()方法一样，只不过如果str不在字符串中会报一个异常。\n",
    "10\t| <p align=\"left\">isalnum() <br> <br>如果字符串至少有一个字符并且所有字符都是字母或数字则返 回 True，否则返回 False\n",
    "11\t| <p align=\"left\">isalpha() <br> <br>如果字符串至少有一个字符并且所有字符都是字母或中文字则返回 True, 否则返回 False\n",
    "12\t| <p align=\"left\">isdigit()<br> <br> 如果字符串只包含数字则返回 True 否则返回 False..\n",
    "13\t| <p align=\"left\">islower()<br> <br> 如果字符串中包含至少一个区分大小写的字符，并且所有这些(区分大小写的)字符都是小写，则返回 True，否则返回 False\n",
    "14\t| <p align=\"left\">isnumeric() <br> <br>如果字符串中只包含数字字符，则返回 True，否则返回 False\n",
    "15\t| <p align=\"left\">isspace()<br> <br>如果字符串中只包含空白，则返回 True，否则返回 False.\n",
    "16\t| <p align=\"left\">istitle()<br> <br>如果字符串是标题化的(见 title())则返回 True，否则返回 False\n",
    "17\t| <p align=\"left\">isupper() <br> <br>如果字符串中包含至少一个区分大小写的字符，并且所有这些(区分大小写的)字符都是大写，则返回 True，否则返回 False\n",
    "18\t| <p align=\"left\">join(seq) <br> <br>以指定字符串作为分隔符，将 seq 中所有的元素(的字符串表示)合并为一个新的字符串\n",
    "19\t| <p align=\"left\">len(string) <br> <br>返回字符串长度\n",
    "20\t| <p align=\"left\">ljust(width[, fillchar])<br> <br>返回一个原字符串左对齐,并使用 fillchar 填充至长度 width 的新字符串，fillchar 默认为空格。\n",
    "21\t| <p align=\"left\">lower() <br> <br>转换字符串中所有大写字符为小写.\n",
    "22\t| <p align=\"left\">lstrip() <br> <br>截掉字符串左边的空格或指定字符。\n",
    "23\t| <p align=\"left\">maketrans() <br> <br>创建字符映射的转换表，对于接受两个参数的最简单的调用方式，第一个参数是字符串，表示需要转换的字符，第二个参数也是字符串表示转换的目标。\n",
    "24\t| <p align=\"left\">max(str) 返回字符串 str 中最大的字母。\n",
    "25\t| <p align=\"left\">min(str) 返回字符串 str 中最小的字母。\n",
    "26\t| <p align=\"left\">replace(old, new [, max]) <br> <br>将字符串中的 str1 替换成 str2,如果 max 指定，则替换不超过 max 次。\n",
    "27\t| <p align=\"left\">rfind(str, beg=0,end=len(string)) <br> <br>类似于 find()函数，不过是从右边开始查找.\n",
    "28\t| <p align=\"left\">rindex( str, beg=0, end=len(string)) <br> <br>类似于 index()，不过是从右边开始.\n",
    "29\t| <p align=\"left\">rjust(width,[, fillchar]) <br> <br>返回一个原字符串右对齐,并使用fillchar(默认空格）填充至长度 width 的新字符串\n",
    "30\t| <p align=\"left\">rstrip() <br> <br>删除字符串字符串末尾的空格.\n",
    "31\t| <p align=\"left\">split(str=\"\", num=string.count(str)) <br> <br>以 str 为分隔符截取字符串，如果 num 有指定值，则仅截取 num+1 个子字符串\n",
    "32\t| <p align=\"left\">splitlines([keepends]) <br> <br>按照行('\\r', '\\r\\n', \\n')分隔，返回一个包含各行作为元素的列表，如果参数 keepends 为 False，不包含换行符，如果为 True，则保留换行符。\n",
    "33\t| <p align=\"left\">startswith(substr, beg=0,end=len(string)) <br> <br>检查字符串是否是以指定子字符串 substr 开头，是则返回 True，否则返回 False。如果beg 和 end 指定值，则在指定范围内检查。\n",
    "34\t| <p align=\"left\">strip([chars]) <br> <br>在字符串上执行 lstrip()和 rstrip()\n",
    "35\t| <p align=\"left\">swapcase() <br> <br>将字符串中大写转换为小写，小写转换为大写\n",
    "36\t| <p align=\"left\">title() <br> <br>返回\"标题化\"的字符串,就是说所有单词都是以大写开始，其余字母均为小写(见 istitle())\n",
    "37\t| <p align=\"left\">translate(table, deletechars=\"\") <br> <br>根据 str 给出的表(包含 256 个字符)转换 string 的字符, 要过滤掉的字符放到 deletechars 参数中\n",
    "38\t| <p align=\"left\">upper() <br> <br>转换字符串中的小写字母为大写\n",
    "39\t| <p align=\"left\">zfill (width) <br> <br>返回长度为 width 的字符串，原字符串右对齐，前面填充0\n",
    "40\t| <p align=\"left\">isdecimal() <br> <br>检查字符串是否只包含十进制字符，如果是返回 true，否则返回 false。"
   ]
  },
  {
   "cell_type": "markdown",
   "metadata": {},
   "source": [
    "例子"
   ]
  },
  {
   "cell_type": "code",
   "execution_count": null,
   "metadata": {
    "ExecuteTime": {
     "end_time": "2020-09-13T04:00:24.839792Z",
     "start_time": "2020-09-13T04:00:24.832809Z"
    }
   },
   "outputs": [],
   "source": [
    "first_name = 'jaspter'\n",
    "last_name = 'ye'\n",
    "print(name.title())\n",
    "print(name.upper())\n",
    "print(name.lower())\n",
    "\n",
    "print(first_name + last_name)\n",
    "print(first_name + ' ' + last_name)\n",
    "print(first_name + '\\t ' + last_name)\n",
    "\n",
    "str_list = ['j', 'a', 's', 'p', 'e', 'r']\n",
    "print(''.join(str_list))"
   ]
  },
  {
   "cell_type": "markdown",
   "metadata": {},
   "source": [
    "### Python的字符串与int,float,bool相互转换"
   ]
  },
  {
   "cell_type": "markdown",
   "metadata": {
    "ExecuteTime": {
     "end_time": "2020-09-13T03:30:12.243347Z",
     "start_time": "2020-09-13T03:30:12.237380Z"
    }
   },
   "source": [
    "在前面学习int,float,bool类型数据时，你已经掌握了这3种数据之间的相互转换。现在，你可以使用内置函数str将这3种类型的数据转换为字符串，同样的，也可以用之前学习过的int()，float()，bool()函数将字符串转换为对应的数据类型。"
   ]
  },
  {
   "cell_type": "code",
   "execution_count": null,
   "metadata": {
    "ExecuteTime": {
     "end_time": "2020-09-13T04:00:24.943391Z",
     "start_time": "2020-09-13T04:00:24.928399Z"
    }
   },
   "outputs": [],
   "source": [
    "a = 100\n",
    "print(str(a)) # int -> string\n",
    "b = 100.1\n",
    "print(str(b)) # float -> string\n",
    "c = True\n",
    "print(str(c)) # bool -> string\n",
    "print(bool('True')) # string -> bool\n",
    "print(bool('False')) # string -> bool \n",
    "print(bool(' '))     # string -> bool\n",
    "print(bool(''))      # string -> bool, 空字符串会转换成False，否则都是True\n",
    "print(int('123'))    # string -> int\n",
    "print(float('123'))  # string -> float\n",
    "print(float('123.4')) # string -> float\n",
    "print(int('123.4'))     # 小数字符串转换为整数会报错"
   ]
  },
  {
   "cell_type": "markdown",
   "metadata": {},
   "source": [
    "![](./image/str_transfer.jpg)"
   ]
  },
  {
   "cell_type": "markdown",
   "metadata": {},
   "source": [
    "## 进制转换"
   ]
  },
  {
   "cell_type": "markdown",
   "metadata": {},
   "source": [
    "我们平时使用的数字是十进制，逢10进1， 而计算机采用的是二进制，此外，有时你还会遇到八进制，十六进制。\n",
    "### 手动计算进制转换"
   ]
  },
  {
   "cell_type": "code",
   "execution_count": null,
   "metadata": {
    "ExecuteTime": {
     "end_time": "2020-09-13T04:00:25.085012Z",
     "start_time": "2020-09-13T04:00:25.079022Z"
    }
   },
   "outputs": [],
   "source": [
    "print(0b1101010)   # 106 二进制以0b开头\n",
    "print(0o125)  # 85 八进制以0o开头\n",
    "print(0x3f2a1)  # 258721 十六进制以0x开头"
   ]
  },
  {
   "cell_type": "markdown",
   "metadata": {},
   "source": [
    "### 使用函数进行进制转换"
   ]
  },
  {
   "cell_type": "code",
   "execution_count": null,
   "metadata": {
    "ExecuteTime": {
     "end_time": "2020-09-13T04:00:25.135844Z",
     "start_time": "2020-09-13T04:00:25.130857Z"
    }
   },
   "outputs": [],
   "source": [
    "value = int('1101010', 2)\n",
    "print(value)        # 106\n",
    "\n",
    "value = int('125', 8)\n",
    "print(value)        # 85\n",
    "\n",
    "value = int('3f2a1', 16)\n",
    "print(value)        # 258721\n"
   ]
  },
  {
   "cell_type": "code",
   "execution_count": null,
   "metadata": {
    "ExecuteTime": {
     "end_time": "2020-09-13T04:00:25.147819Z",
     "start_time": "2020-09-13T04:00:25.137839Z"
    }
   },
   "outputs": [],
   "source": [
    "print(bin(106))     # 0b1101010 十进制转二进制\n",
    "print(oct(85))      # 0o125     十进制转八进制\n",
    "print(hex(258721))  # 0x3f2a1   十进制转十六进制"
   ]
  },
  {
   "cell_type": "code",
   "execution_count": null,
   "metadata": {
    "ExecuteTime": {
     "end_time": "2020-09-13T04:00:25.161775Z",
     "start_time": "2020-09-13T04:00:25.149806Z"
    }
   },
   "outputs": [],
   "source": [
    "print(bin(int('125', 8)))   # 八进制转二进制\n",
    "print(bin(int('0x3f2a1', 16)))  # 十六进制转二进制"
   ]
  },
  {
   "cell_type": "code",
   "execution_count": null,
   "metadata": {
    "ExecuteTime": {
     "end_time": "2020-09-13T04:00:25.168755Z",
     "start_time": "2020-09-13T04:00:25.163769Z"
    }
   },
   "outputs": [],
   "source": [
    "print(oct(0b1101010))           # 二进制转八进制\n",
    "print(hex(int('1101010', 2)))   # 二进制转十六进制"
   ]
  },
  {
   "cell_type": "code",
   "execution_count": null,
   "metadata": {
    "ExecuteTime": {
     "end_time": "2020-09-13T04:03:02.303233Z",
     "start_time": "2020-09-13T04:03:02.297249Z"
    }
   },
   "outputs": [],
   "source": [
    "print(oct(0x3f2a1))     # 十六进制转八进制\n",
    "print(hex(int('125', 8)))   # 八进制转十六进制"
   ]
  },
  {
   "cell_type": "markdown",
   "metadata": {},
   "source": [
    "## 练习"
   ]
  },
  {
   "cell_type": "markdown",
   "metadata": {},
   "source": [
    "完成下列习题："
   ]
  },
  {
   "cell_type": "markdown",
   "metadata": {},
   "source": [
    "1. 将字符串 \"abcd\" 转成大写\n",
    "2. 计算字符串 \"cd\" 在 字符串 \"abcd\"中出现的位置\n",
    "3. 字符串 \"a,b,c,d\" ，请用逗号分割字符串，分割后的结果是什么类型的？\n",
    "5. string = \"Python is good\", 请将字符串里的Python替换成 python,并输出替换后的结果\n",
    "6. 有一个字符串 string =  \"python修炼第一期.html\"，请写程序从这个字符串里获得.html前面的部分，要用尽可能多的方式来做这个事情\n",
    "7. 如何获取字符串的长度？\n",
    "8. \"this is a book\",请将字符串里的book替换成apple\n",
    "9. \"this is a book\", 请用程序判断该字符串是否以this开头\n",
    "10. \"this is a book\", 请用程序判断该字符串是否以apple结尾\n",
    "11. \"This IS a book\"， 请将字符串里的大写字符转成小写字符\n",
    "12. \"This IS a book\"， 请将字符串里的小写字符，转成大写字符\n",
    "13. \"this is a book\\n\"， 字符串的末尾有一个回车符，请将其删除\n",
    "14. 统计字符串a=\"Krungthepmahanakhon Amonrattanakosin Mahintharayutthaya Mahadilokphop Noppharatratchathaniburirom Udomratchaniwetmahasathan Amonphimanawatansathit Sakkathattiyawitsanukamprasit\"中每个字符的次数。(忽略空格，不区分大小写，即A和a表示同一个。)"
   ]
  },
  {
   "cell_type": "code",
   "execution_count": 12,
   "metadata": {
    "ExecuteTime": {
     "end_time": "2020-09-14T17:24:02.969840Z",
     "start_time": "2020-09-14T17:24:02.963826Z"
    }
   },
   "outputs": [
    {
     "name": "stdout",
     "output_type": "stream",
     "text": [
      "ABCD\n",
      "2\n",
      "['a,b,c,d']\n",
      "python is good\n",
      "python修炼第一期\n",
      "True\n",
      "False\n",
      "this is a book\n",
      "{'K': 1, 'r': 9, 'u': 4, 'n': 14, 'g': 1, 't': 20, 'h': 17, 'e': 2, 'p': 7, 'm': 8, 'a': 36, 'k': 6, 'o': 9, ' ': 6, 'A': 2, 's': 5, 'i': 11, 'M': 2, 'y': 3, 'd': 2, 'l': 1, 'N': 1, 'c': 2, 'b': 1, 'U': 1, 'w': 3, 'S': 1}\n"
     ]
    }
   ],
   "source": [
    "print('abcd'.upper())\n",
    "print('abcd'.find('cd'))\n",
    "print('a,b,c,d'.split('n,'))\n",
    "print('Python is good'.replace(\"Python\",\"python\"))\n",
    "print('python修炼第一期.html'.split('.')[0])\n",
    "print(\"this is a book\".startswith('this'))\n",
    "print(\"this is a book\".endswith('apple'))\n",
    "print(\"this is a book\\n\".strip())\n",
    "a = \"Krungthepmahanakhon Amonrattanakosin Mahintharayutthaya Mahadilokphop \\\n",
    "Noppharatratchathaniburirom Udomratchaniwetmahasathan Amonphimanawatansathit\\\n",
    "Sakkathattiyawitsanukamprasit\"\n",
    "b = a.lower()\n",
    "print({i:a.count(i) for i in a})"
   ]
  }
 ],
 "metadata": {
  "kernelspec": {
   "display_name": "Python 3",
   "language": "python",
   "name": "python3"
  },
  "language_info": {
   "codemirror_mode": {
    "name": "ipython",
    "version": 3
   },
   "file_extension": ".py",
   "mimetype": "text/x-python",
   "name": "python",
   "nbconvert_exporter": "python",
   "pygments_lexer": "ipython3",
   "version": "3.7.3"
  },
  "latex_envs": {
   "LaTeX_envs_menu_present": true,
   "autoclose": false,
   "autocomplete": true,
   "bibliofile": "biblio.bib",
   "cite_by": "apalike",
   "current_citInitial": 1,
   "eqLabelWithNumbers": true,
   "eqNumInitial": 1,
   "hotkeys": {
    "equation": "Ctrl-E",
    "itemize": "Ctrl-I"
   },
   "labels_anchors": false,
   "latex_user_defs": false,
   "report_style_numbering": false,
   "user_envs_cfg": false
  },
  "toc": {
   "base_numbering": 1,
   "nav_menu": {},
   "number_sections": true,
   "sideBar": true,
   "skip_h1_title": false,
   "title_cell": "Table of Contents",
   "title_sidebar": "Contents",
   "toc_cell": false,
   "toc_position": {
    "height": "calc(100% - 180px)",
    "left": "10px",
    "top": "150px",
    "width": "409.6px"
   },
   "toc_section_display": true,
   "toc_window_display": true
  },
  "varInspector": {
   "cols": {
    "lenName": 16,
    "lenType": 16,
    "lenVar": 40
   },
   "kernels_config": {
    "python": {
     "delete_cmd_postfix": "",
     "delete_cmd_prefix": "del ",
     "library": "var_list.py",
     "varRefreshCmd": "print(var_dic_list())"
    },
    "r": {
     "delete_cmd_postfix": ") ",
     "delete_cmd_prefix": "rm(",
     "library": "var_list.r",
     "varRefreshCmd": "cat(var_dic_list()) "
    }
   },
   "types_to_exclude": [
    "module",
    "function",
    "builtin_function_or_method",
    "instance",
    "_Feature"
   ],
   "window_display": false
  }
 },
 "nbformat": 4,
 "nbformat_minor": 2
}
