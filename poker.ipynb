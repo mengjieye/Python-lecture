{
 "cells": [
  {
   "cell_type": "markdown",
   "metadata": {},
   "source": [
    "# 纸牌游戏"
   ]
  },
  {
   "cell_type": "markdown",
   "metadata": {},
   "source": [
    "## 21点(Blackjack Game)"
   ]
  },
  {
   "cell_type": "markdown",
   "metadata": {},
   "source": [
    "### 基本术语"
   ]
  },
  {
   "cell_type": "markdown",
   "metadata": {},
   "source": [
    "- 黑杰克(BLACK JACK)：一手牌内两张牌的点数相加合共达21点（如A牌和一张花牌或10点牌）。\n",
    "- 拿牌(HIT) ：再拿一张牌。闲家只要手上牌相加点数小于21点都可要牌。庄家视规则强制拿牌或选择拿牌。\n",
    "- 停牌(STAND) ：不再拿牌。在任何情况下，玩家可选择停止要牌。\n",
    "- 分牌(SPLIT)：玩家再下一注与原赌注相等的赌金，并将前两张牌分为两副单独的牌。这两张牌的点数必须相同（即一对8、一对K 或一对Q，某些玩法中两张10点的牌如一张10一张Q时也可分牌）。但一般分牌后的黑杰克，只能作普通21点计算，其赔率只是1赔1。分牌后，依次补齐2张，并分别依原规则计算\n",
    "- 双倍下注(DOUBLE) ：玩家在拿到前两张牌之后，可以再下一注与原赌注相等的赌金（如果觉得少可以加倍），然后只能再拿一张牌。如果拿到黑杰克，则不许双倍下注。（部分玩法中拿到3张或3张以上也可选择双倍下注，但同样只能再拿一张牌；部分玩法中分牌后仍可双倍下注）\n",
    "- 保险(INSURANCE) ：如果庄家牌面朝上的牌是A，玩家可以买保险，也就是相当于原赌注一半的额外赌金。如果玩家确信庄家下一张是10点牌，则可以买保险。如果庄家确实有黑杰克，玩家将赢得2倍的保险赌金；如果庄家没有黑杰克，玩家将输掉保险赌金，游戏照常继续。黑杰克要大于其它总点数为21点的牌。（部分玩法中不允许买保险）\n",
    "- 投降(SURRENDER)：如玩家手上只拥有两张牌，便有权选择投降，退回一半的投注金（庄家反开的牌不是A时才适用）（部分玩法中不允许投降）。\n",
    "- 赢局(WIN)：玩家将评定为赢如其牌面是黑杰克（庄家不是同时获得黑杰克）、玩家点数较庄家点数接近21点（但不超过21点）、或庄家点数超过21点（玩家点数不超过21点）。\n",
    "- 平局(PUSH)：即玩家手上牌的点数与庄家的点数相同，或同是黑杰克的时候，双方便没有输赢，投注金将退回给玩家。\n",
    "- 庄家赢局(LOSE)：庄家是黑杰克（但玩家不是同时获得黑杰克）、庄家点数较玩家点数接近21点（但不超过21点）、玩家点数已超过21点（无论庄家点数是否超过21点）。\n"
   ]
  },
  {
   "cell_type": "markdown",
   "metadata": {},
   "source": [
    "### 牌的面值"
   ]
  },
  {
   "cell_type": "markdown",
   "metadata": {},
   "source": [
    "1. K、Q、J 和 10 牌都算作 10 点。 \n",
    "2. A 算作1点或11点，由玩家自己决定。\n",
    "3. 2 至9 牌均按其原面值计算。"
   ]
  },
  {
   "cell_type": "markdown",
   "metadata": {},
   "source": [
    "### 玩法"
   ]
  },
  {
   "cell_type": "markdown",
   "metadata": {},
   "source": [
    "1. 开局时，庄家（Dealer/Banker）给每个玩家（又称闲家）牌面向上发两张牌（明牌），再给庄家自己发两张牌，一张明牌，一张暗牌（牌面朝下）。\n",
    "2. 首先玩家开始，可以选择拿牌（Hit）、停牌（Stand）。在拿牌的过程中，如果所有的牌加起来超过21点，玩家就直接输了，游戏结束(不需要看庄家的牌)——叫爆掉(Bust)。\n",
    "3. 如果玩家没有爆掉，则轮到庄家。这时庄家就把他的那张暗牌打开来： \n",
    "    - 如果牌面总和17点或17点以上则不能再拿牌。\n",
    "    - 如果牌面总和16点或16点以下则必须拿牌。 \n",
    "    假如庄家爆掉了，那庄家就输了，游戏结束。\n",
    "4. 庄家和玩家比点数大小，大为赢。一样的点数为平手(tie）。"
   ]
  },
  {
   "cell_type": "markdown",
   "metadata": {},
   "source": [
    "## 实现"
   ]
  },
  {
   "cell_type": "markdown",
   "metadata": {},
   "source": [
    "### 一张牌"
   ]
  },
  {
   "cell_type": "code",
   "execution_count": null,
   "metadata": {},
   "outputs": [],
   "source": []
  },
  {
   "cell_type": "markdown",
   "metadata": {},
   "source": [
    "### 一副牌"
   ]
  },
  {
   "cell_type": "code",
   "execution_count": null,
   "metadata": {},
   "outputs": [],
   "source": []
  },
  {
   "cell_type": "markdown",
   "metadata": {},
   "source": [
    "### 一手牌"
   ]
  },
  {
   "cell_type": "code",
   "execution_count": null,
   "metadata": {},
   "outputs": [],
   "source": []
  },
  {
   "cell_type": "markdown",
   "metadata": {},
   "source": [
    "### 筹码"
   ]
  },
  {
   "cell_type": "code",
   "execution_count": null,
   "metadata": {},
   "outputs": [],
   "source": []
  },
  {
   "cell_type": "markdown",
   "metadata": {},
   "source": [
    "### 参与者"
   ]
  },
  {
   "cell_type": "code",
   "execution_count": null,
   "metadata": {},
   "outputs": [],
   "source": []
  },
  {
   "cell_type": "markdown",
   "metadata": {},
   "source": [
    "### 游戏"
   ]
  },
  {
   "cell_type": "code",
   "execution_count": null,
   "metadata": {},
   "outputs": [],
   "source": []
  },
  {
   "cell_type": "code",
   "execution_count": null,
   "metadata": {},
   "outputs": [],
   "source": []
  },
  {
   "cell_type": "markdown",
   "metadata": {},
   "source": [
    "# 作业"
   ]
  },
  {
   "cell_type": "markdown",
   "metadata": {},
   "source": [
    "修改上述实现的类，完成纸牌游戏Five Card Stud（梭哈）。  \n",
    "- 游戏玩法：\n",
    "    1. 各家一张底牌，底牌要到决胜负时才可翻开。从发第二张牌开始，每发一张牌，以牌面大者为先，进行下注。 \n",
    "    2. 有人下注，想继续玩下去的人，选择跟(跟注后会下注到和上家相同的筹码)，或可选择加注，或选择放弃(先前跟过的筹码，亦无法取回)。\n",
    "    3. 最后一轮中，玩家可以进行梭哈，所谓梭哈是押上所有未放弃的玩家所能够跟的最大筹码。等到下注的人都对下注进行表态后，便掀开底牌一决胜负。这时，牌面最大的人可赢得桌面所有的筹码。\n",
    "\n",
    "- 牌面大小  \n",
    "    1. 牌型比较：同花顺>四条>满堂红>同花>顺子>三条>二对>单对>高牌。\n",
    "    2. 数字比较：A>K>Q>J>10>9>8 >7>6>5>4>3>2。\n",
    "    3. 花色比较：黑桃>红桃>草花>方块。\n",
    "    4. A、2、3、4、5，这手牌是算顺子，大小自定义(可以第二大顺子，也可以最小顺子)。"
   ]
  }
 ],
 "metadata": {
  "kernelspec": {
   "display_name": "Python 3",
   "language": "python",
   "name": "python3"
  },
  "language_info": {
   "codemirror_mode": {
    "name": "ipython",
    "version": 3
   },
   "file_extension": ".py",
   "mimetype": "text/x-python",
   "name": "python",
   "nbconvert_exporter": "python",
   "pygments_lexer": "ipython3",
   "version": "3.8.3"
  },
  "toc": {
   "base_numbering": 1,
   "nav_menu": {},
   "number_sections": true,
   "sideBar": true,
   "skip_h1_title": false,
   "title_cell": "Table of Contents",
   "title_sidebar": "Contents",
   "toc_cell": false,
   "toc_position": {},
   "toc_section_display": true,
   "toc_window_display": false
  }
 },
 "nbformat": 4,
 "nbformat_minor": 4
}
