{
 "cells": [
  {
   "cell_type": "markdown",
   "metadata": {},
   "source": [
    "# Jupyter Notebook转换成PDF"
   ]
  },
  {
   "cell_type": "markdown",
   "metadata": {},
   "source": [
    "1. 安装所需要的库\n",
    "\n",
    "我们需要做的第一件事是安装必要的包。在这里，我们将使用名为notebook-as-pdf的软件包来帮助我们将jupyter notebook 转换为PDF文件。只需要在命令行中运行下面代码："
   ]
  },
  {
   "cell_type": "markdown",
   "metadata": {},
   "source": [
    "> pip install -U notebook-as-pdf\n",
    "\n"
   ]
  },
  {
   "cell_type": "markdown",
   "metadata": {},
   "source": [
    "2. 安装Chromium\n",
    "\n",
    "Chromium主要用于执行HTML到PDF的转换。只需要在命令行中运行下面代码："
   ]
  },
  {
   "cell_type": "markdown",
   "metadata": {},
   "source": [
    "> pyppeteer-install"
   ]
  },
  {
   "cell_type": "markdown",
   "metadata": {},
   "source": [
    "注意：确认自己安装的pyppeteer-install的安装位置，如果命令提示找不到命令，那你需要将它的安装路径添加到环境变量中。"
   ]
  },
  {
   "cell_type": "markdown",
   "metadata": {},
   "source": [
    "3. 解决Chromium安装过慢的问题\n",
    "\n"
   ]
  },
  {
   "cell_type": "markdown",
   "metadata": {},
   "source": [
    "通过情况下，pyppeteer-install命令会直接安装Chromium，但是默认是通过Google服务器安装，由于有一些奇怪的原因，可能下载速度很慢，甚至中断。这种情况下，你可能需要更改安装源。\n",
    "\n",
    "\n",
    "首先在命令行中输入："
   ]
  },
  {
   "cell_type": "markdown",
   "metadata": {},
   "source": [
    "> pip3 install -i https://pypi.tuna.tsinghua.edu.cn/simple pyppeteer"
   ]
  },
  {
   "cell_type": "markdown",
   "metadata": {},
   "source": [
    "接下来，按照以下步骤完成：\n",
    "- 找到pyppeteer安装中chromium_downloader.py文件，通常位置在$python\\Lib\\site-packages\\pyppeteer\\chromium_downloader.py\n",
    "- 将chromium_downloader.py文件中DEFAULT_DOWNLOAD_HOST字段，字段的值默认为https://storage.googleapis.com, 我们改变它的值，设置为 DEFAULT_DOWNLOAD_HOST = 'https://npm.taobao.org/mirrors'\n",
    "- 在命令行中重新输入pyppeteer-install命令，通常速度都很快。"
   ]
  }
 ],
 "metadata": {
  "kernelspec": {
   "display_name": "Python 3",
   "language": "python",
   "name": "python3"
  },
  "language_info": {
   "codemirror_mode": {
    "name": "ipython",
    "version": 3
   },
   "file_extension": ".py",
   "mimetype": "text/x-python",
   "name": "python",
   "nbconvert_exporter": "python",
   "pygments_lexer": "ipython3",
   "version": "3.8.3"
  },
  "latex_envs": {
   "LaTeX_envs_menu_present": true,
   "autoclose": false,
   "autocomplete": true,
   "bibliofile": "biblio.bib",
   "cite_by": "apalike",
   "current_citInitial": 1,
   "eqLabelWithNumbers": true,
   "eqNumInitial": 1,
   "hotkeys": {
    "equation": "Ctrl-E",
    "itemize": "Ctrl-I"
   },
   "labels_anchors": false,
   "latex_user_defs": false,
   "report_style_numbering": false,
   "user_envs_cfg": false
  },
  "toc": {
   "base_numbering": 1,
   "nav_menu": {},
   "number_sections": false,
   "sideBar": true,
   "skip_h1_title": false,
   "title_cell": "Table of Contents",
   "title_sidebar": "Contents",
   "toc_cell": false,
   "toc_position": {},
   "toc_section_display": true,
   "toc_window_display": false
  },
  "varInspector": {
   "cols": {
    "lenName": 16,
    "lenType": 16,
    "lenVar": 40
   },
   "kernels_config": {
    "python": {
     "delete_cmd_postfix": "",
     "delete_cmd_prefix": "del ",
     "library": "var_list.py",
     "varRefreshCmd": "print(var_dic_list())"
    },
    "r": {
     "delete_cmd_postfix": ") ",
     "delete_cmd_prefix": "rm(",
     "library": "var_list.r",
     "varRefreshCmd": "cat(var_dic_list()) "
    }
   },
   "types_to_exclude": [
    "module",
    "function",
    "builtin_function_or_method",
    "instance",
    "_Feature"
   ],
   "window_display": false
  }
 },
 "nbformat": 4,
 "nbformat_minor": 4
}
