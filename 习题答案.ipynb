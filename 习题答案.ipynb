{
 "cells": [
  {
   "cell_type": "markdown",
   "metadata": {},
   "source": [
    "# 第1题  \n",
    "    1. 已知字符串 a = “aAsmr3idd4bgs7Dlsf9eAF”，完成下列各题：\n",
    "\n",
    "    2. 请将a字符串的大写改为小写，小写改为大写。\n",
    "\n",
    "    3. 请将a字符串的数字取出，并输出成一个新的字符串。\n",
    "\n",
    "    4. 请统计a字符串出现的每个字母的出现次数（忽略大小写，a与A是同一个字母）。\n",
    "\n",
    "    5. 请去除a字符串多次出现的字母，仅留最先出现的一个。例 ‘abcabb’，经过去除后，输出 ‘abc’。\n",
    "\n",
    "    6. 请将a字符串反转并输出。例：’abc’的反转是’cba’。\n",
    "\n",
    "    7. 去除a字符串内的数字。"
   ]
  },
  {
   "cell_type": "code",
   "execution_count": null,
   "metadata": {},
   "outputs": [],
   "source": [
    "a = \"aAsmr3idd4bgs7Dlsf9eAF\"\n",
    "# 1\n",
    "print(a.swapcase())\n",
    "# 2\n",
    "print(''.join([i for i in a if i.isdigit()]))\n",
    "#3\n",
    "b = a.lower()\n",
    "print({i:b.count(i) for i in b})\n",
    "#4 \n",
    "c = \"\"\n",
    "for i in a:\n",
    "    if i not in c:\n",
    "        c += i\n",
    "print(c)\n",
    "#5\n",
    "print(a[::-1])\n",
    "print(''.join([i for i in a if not i.isdigit()]))"
   ]
  },
  {
   "cell_type": "markdown",
   "metadata": {},
   "source": [
    "# 第2题  \n",
    "    1. 接收输入的一行字符，统计出字符串中包含数字的个数。\n",
    "\n",
    "    2. 根据下述要求，编写一个程序：用户输入一个字符串，将下标为偶数的字符提出来合并成一个新的字符串A，再将下标为奇数的字符提出来合并成一个新的字符串B，再将字符串A和B连接起来并输出。\n",
    "    \n",
    "    3. 请编写一个程序，请将字符串中所有字母全部向后移一位，最后一个字母放在字符串的开头，最后将新的字符串输出。\n",
    "\n",
    "    4. 回文数判断。设n是一任意自然数，如果n的各位数字反向排列所得自然数与n相等，则n被称为回文数。从键盘输入一个5位数字，请编写程序判断这个数字是不是回文数。\n"
   ]
  },
  {
   "cell_type": "code",
   "execution_count": 2,
   "metadata": {},
   "outputs": [
    {
     "name": "stdout",
     "output_type": "stream",
     "text": [
      "sfjkdsalk0202\n",
      "4\n",
      "4\n"
     ]
    }
   ],
   "source": [
    "string = input()\n",
    "digit_num = 0\n",
    "for i in string:\n",
    "    if i.isdigit():\n",
    "        digit_num += 1\n",
    "print(digit_num)\n",
    "print(len([i for i in string if i.isdigit()]))"
   ]
  },
  {
   "cell_type": "code",
   "execution_count": 4,
   "metadata": {},
   "outputs": [
    {
     "name": "stdout",
     "output_type": "stream",
     "text": [
      "2p\n",
      "2p\n"
     ]
    }
   ],
   "source": [
    "string = input()\n",
    "print(string[::2]+string[1::2])"
   ]
  },
  {
   "cell_type": "code",
   "execution_count": 10,
   "metadata": {},
   "outputs": [
    {
     "name": "stdout",
     "output_type": "stream",
     "text": [
      "23r23 \n",
      " 23r23\n"
     ]
    }
   ],
   "source": [
    "string = input()\n",
    "print(string[-1]+string[:-1])"
   ]
  },
  {
   "cell_type": "code",
   "execution_count": 11,
   "metadata": {},
   "outputs": [
    {
     "name": "stdout",
     "output_type": "stream",
     "text": [
      "123321\n",
      "True\n"
     ]
    }
   ],
   "source": [
    "string = input()\n",
    "print(string == string[::-1])"
   ]
  },
  {
   "cell_type": "markdown",
   "metadata": {},
   "source": [
    "# 第3题 \n",
    "    1. 创建一个空列表colors, 将元素red, blue, green添加到列表。\n",
    "    2. 找到元素blue的索引。\n",
    "    3. 在colors列表中的元素blue前面插入元素yellow。\n",
    "    4. 在元素green前面插入子列表[ 'purple', 'pink' ]。\n",
    "    5. 创建一个1~7的整数字列表，并添加到colors列表末尾。\n",
    "    6. 取出colors列表中索引4-7的元素。\n",
    "    7. 取出colors列表中最后3个元素。\n",
    "    8. 循环colors列表，打印每个元素的索引值和元素。\n",
    "    9. 循环colors表，打印每个元素的索引值和元素，当索引值为偶数时，把对应的元素改成整数0。"
   ]
  },
  {
   "cell_type": "code",
   "execution_count": 30,
   "metadata": {},
   "outputs": [
    {
     "name": "stdout",
     "output_type": "stream",
     "text": [
      "1\n",
      "['red', 'yellow', 'blue', 'green']\n",
      "['red', 'yellow', 'blue', 'purple', 'pink', 'green']\n",
      "['red', 'yellow', 'blue', 'purple', 'pink', 'green', 1, 2, 3, 4, 5, 6]\n",
      "[0, 'yellow', 0, 'purple', 0, 'green', 0, 2, 0, 4, 0, 6]\n"
     ]
    }
   ],
   "source": [
    "colors = ['red', 'blue', 'green']\n",
    "ind = colors.index('blue')\n",
    "print(ind)\n",
    "colors.insert(colors.index('blue'),'yellow')\n",
    "print(colors)\n",
    "#colors.insert(colors.index('green'),['purple','pink'])\n",
    "pos = colors.index('green')\n",
    "colors[pos:pos] = ['purple', 'pink']\n",
    "print(colors)\n",
    "colors.extend(list(range(1,7)))\n",
    "print(colors)\n",
    "for i, color in enumerate(colors):\n",
    "    if i % 2 == 0:\n",
    "        colors[i] = 0\n",
    "print(colors)\n"
   ]
  },
  {
   "cell_type": "markdown",
   "metadata": {},
   "source": [
    "# 第4题\n",
    "\n",
    "> **写一个程序，输入两个数a，b，找出区间[a, b]中所有可以被7整除，但不是5的倍数的数。逗号分隔输出所有满足条件的数。**\n",
    "\n",
    ">> 样例输入：1 100  \n",
    ">> 样例输出：7,14,21,28,42,49,56,63,77,84,91,98\n",
    "\n",
    "---\n",
    "\n"
   ]
  },
  {
   "cell_type": "code",
   "execution_count": 32,
   "metadata": {},
   "outputs": [
    {
     "name": "stdout",
     "output_type": "stream",
     "text": [
      "1 100\n",
      "7 14 21 28 42 49 56 63 77 84 91 98 "
     ]
    }
   ],
   "source": [
    "a,b = list(map(int,input().split()))\n",
    "for i in range(a, b):\n",
    "    if i % 7 == 0 and i % 5 != 0:\n",
    "        print(i, end=' ')"
   ]
  },
  {
   "cell_type": "markdown",
   "metadata": {
    "solution": "shown",
    "solution_first": true
   },
   "source": [
    "# 第5题\n",
    "\n",
    "> **写一个程序，可以计算给定一个数n(0<=n<=100)的阶乘。**\n",
    ">> 样例输入：8  \n",
    ">> 样例输出：40320\n",
    "\n",
    "----"
   ]
  },
  {
   "cell_type": "code",
   "execution_count": 35,
   "metadata": {},
   "outputs": [
    {
     "name": "stdout",
     "output_type": "stream",
     "text": [
      "8\n",
      "40320\n",
      "40320\n"
     ]
    }
   ],
   "source": [
    "n = int(input())\n",
    "f = 1\n",
    "for i in range(1,n+1):\n",
    "    f *= i\n",
    "print(f)\n",
    "f = 1\n",
    "while n:\n",
    "    f *= n\n",
    "    n -= 1\n",
    "print(f)"
   ]
  },
  {
   "cell_type": "markdown",
   "metadata": {
    "solution": "hidden",
    "solution_first": true
   },
   "source": [
    "# 第6题\n",
    "\n",
    "> **给定一个整数n，写一个程序来生成一个字典，包含1和n之间所有的(i,i\\*i)，然后打印字典。**\n",
    "\n",
    ">> 样例输入：8  \n",
    ">> 样例输出：{1: 1, 2: 4, 3: 9, 4: 16, 5: 25, 6: 36, 7: 49, 8: 64}\n",
    "\n",
    "---"
   ]
  },
  {
   "cell_type": "code",
   "execution_count": 37,
   "metadata": {},
   "outputs": [
    {
     "name": "stdout",
     "output_type": "stream",
     "text": [
      "{0: 0, 1: 1, 2: 4, 3: 9, 4: 16, 5: 25, 6: 36, 7: 49, 8: 64}\n"
     ]
    }
   ],
   "source": [
    "n = 8\n",
    "print({i:i*i for i in range(n+1)})"
   ]
  },
  {
   "cell_type": "markdown",
   "metadata": {},
   "source": [
    "# 第7题\n",
    "> 写一个程序，从控制台接收一个逗号分隔的数字序列，并生成一个列表和元组。\n",
    ">> 样例输入: 34,67,55,33,12,98  \n",
    "样例输出: ['34', '67', '55', '33', '12', '98'] ('34', '67', '55', '33', '12', '98')\n"
   ]
  },
  {
   "cell_type": "code",
   "execution_count": 38,
   "metadata": {},
   "outputs": [
    {
     "name": "stdout",
     "output_type": "stream",
     "text": [
      "34,67,55,33,12,98\n",
      "['34', '67', '55', '33', '12', '98'] ('34', '67', '55', '33', '12', '98')\n"
     ]
    }
   ],
   "source": [
    "lst = list(input().split(','))\n",
    "print(lst, tuple(lst))"
   ]
  },
  {
   "cell_type": "markdown",
   "metadata": {},
   "source": [
    "# 函数练习题"
   ]
  },
  {
   "cell_type": "markdown",
   "metadata": {
    "ExecuteTime": {
     "end_time": "2020-09-28T14:22:12.669728Z",
     "start_time": "2020-09-28T14:22:12.664571Z"
    }
   },
   "source": [
    "1. 编写一个函数，检查给定的数字num是否[a，b]区间, 返回True或False."
   ]
  },
  {
   "cell_type": "code",
   "execution_count": 39,
   "metadata": {
    "ExecuteTime": {
     "end_time": "2020-09-28T15:17:45.060495Z",
     "start_time": "2020-09-28T15:17:45.055506Z"
    }
   },
   "outputs": [],
   "source": [
    "def range_check(num, a, b):\n",
    "    return a <= num <= b"
   ]
  },
  {
   "cell_type": "code",
   "execution_count": 40,
   "metadata": {
    "ExecuteTime": {
     "end_time": "2020-09-28T15:17:45.077877Z",
     "start_time": "2020-09-28T15:17:45.063421Z"
    }
   },
   "outputs": [
    {
     "data": {
      "text/plain": [
       "True"
      ]
     },
     "execution_count": 40,
     "metadata": {},
     "output_type": "execute_result"
    }
   ],
   "source": [
    "range_check(2, 2, 3)"
   ]
  },
  {
   "cell_type": "markdown",
   "metadata": {},
   "source": [
    "2.  创建一个函数，该函数查找一个语句中每个单词的长度(以空格分隔)，以列表形式返回每个单词的长度。该函数输入一个字符串，输出一个整数列表。"
   ]
  },
  {
   "cell_type": "code",
   "execution_count": 41,
   "metadata": {
    "ExecuteTime": {
     "end_time": "2020-09-28T15:17:45.124747Z",
     "start_time": "2020-09-28T15:17:45.120758Z"
    }
   },
   "outputs": [],
   "source": [
    "def word_lengths(phrase):\n",
    "    return list(map(len, phrase.split()))"
   ]
  },
  {
   "cell_type": "code",
   "execution_count": 42,
   "metadata": {
    "ExecuteTime": {
     "end_time": "2020-09-28T15:17:45.137511Z",
     "start_time": "2020-09-28T15:17:45.126743Z"
    }
   },
   "outputs": [
    {
     "data": {
      "text/plain": [
       "[3, 4, 3, 3, 5, 2, 4, 6]"
      ]
     },
     "execution_count": 42,
     "metadata": {},
     "output_type": "execute_result"
    }
   ],
   "source": [
    "word_lengths('How long are the words in this phrase')"
   ]
  },
  {
   "cell_type": "markdown",
   "metadata": {
    "ExecuteTime": {
     "end_time": "2020-09-28T14:15:44.417221Z",
     "start_time": "2020-09-28T14:15:44.411242Z"
    }
   },
   "source": [
    "3. 将一个数字列表转换为由这些数字组成的整数。(不要将整数转换为字符串!)"
   ]
  },
  {
   "cell_type": "code",
   "execution_count": 49,
   "metadata": {
    "ExecuteTime": {
     "end_time": "2020-09-28T15:17:45.184353Z",
     "start_time": "2020-09-28T15:17:45.180390Z"
    }
   },
   "outputs": [],
   "source": [
    "from functools import reduce\n",
    "def digits_to_num(digits):\n",
    "    return reduce(lambda a,b: a*10 + b, digits)"
   ]
  },
  {
   "cell_type": "code",
   "execution_count": 50,
   "metadata": {
    "ExecuteTime": {
     "end_time": "2020-09-28T15:17:45.199313Z",
     "start_time": "2020-09-28T15:17:45.187346Z"
    }
   },
   "outputs": [
    {
     "data": {
      "text/plain": [
       "34321"
      ]
     },
     "execution_count": 50,
     "metadata": {},
     "output_type": "execute_result"
    }
   ],
   "source": [
    "digits_to_num([3,4,3,2,1])"
   ]
  },
  {
   "cell_type": "markdown",
   "metadata": {},
   "source": [
    "4. 写一个函数，统计一个字符串中大写字母和小写字母的数目。"
   ]
  },
  {
   "cell_type": "code",
   "execution_count": 56,
   "metadata": {
    "ExecuteTime": {
     "end_time": "2020-09-28T15:24:00.738447Z",
     "start_time": "2020-09-28T15:24:00.734457Z"
    }
   },
   "outputs": [],
   "source": [
    "def up_low_count(s):\n",
    "    up_counts = len([i for i in s if i.islower()])\n",
    "    low_counts = len([i for i in s if i.isupper()])\n",
    "    print(up_counts, low_counts)"
   ]
  },
  {
   "cell_type": "code",
   "execution_count": 57,
   "metadata": {
    "ExecuteTime": {
     "end_time": "2020-09-28T15:24:11.077116Z",
     "start_time": "2020-09-28T15:24:11.072159Z"
    }
   },
   "outputs": [
    {
     "name": "stdout",
     "output_type": "stream",
     "text": [
      "33 4\n"
     ]
    }
   ],
   "source": [
    "up_low_count('Hello Mr. Rogers, how are you this fine Tuesday?')"
   ]
  },
  {
   "cell_type": "markdown",
   "metadata": {},
   "source": [
    "5. 写一个函数，判断一个句子(只包含字母和空格)是否包含所有的26个字母(不区分大小写)，返回True或False."
   ]
  },
  {
   "cell_type": "code",
   "execution_count": 60,
   "metadata": {
    "ExecuteTime": {
     "end_time": "2020-09-28T15:34:40.956291Z",
     "start_time": "2020-09-28T15:34:40.951306Z"
    }
   },
   "outputs": [],
   "source": [
    "def ispangram(input_string):\n",
    "    print(len(set(input_string.lower().replace(\" \",\"\")))== 26)"
   ]
  },
  {
   "cell_type": "code",
   "execution_count": 61,
   "metadata": {
    "ExecuteTime": {
     "end_time": "2020-09-28T15:34:43.070878Z",
     "start_time": "2020-09-28T15:34:43.065891Z"
    },
    "scrolled": false
   },
   "outputs": [
    {
     "name": "stdout",
     "output_type": "stream",
     "text": [
      "True\n",
      "False\n"
     ]
    }
   ],
   "source": [
    "ispangram(\"The quick brown fox jumps over the lazy dog\")\n",
    "ispangram(\"Pangrams are words or sentences containing every letter of the alphabet at least once\")"
   ]
  },
  {
   "cell_type": "markdown",
   "metadata": {},
   "source": [
    "6. 写一个函数，去除数字列表中的重复数字(重复元素只保留一个)，返回去除重复后的列表."
   ]
  },
  {
   "cell_type": "code",
   "execution_count": 66,
   "metadata": {
    "ExecuteTime": {
     "end_time": "2020-09-28T15:39:22.509544Z",
     "start_time": "2020-09-28T15:39:22.504559Z"
    }
   },
   "outputs": [],
   "source": [
    "def unique_list(num_list):\n",
    "    print(list(set(num_list)))"
   ]
  },
  {
   "cell_type": "code",
   "execution_count": 65,
   "metadata": {
    "ExecuteTime": {
     "end_time": "2020-09-28T15:39:23.583423Z",
     "start_time": "2020-09-28T15:39:23.579335Z"
    }
   },
   "outputs": [
    {
     "name": "stdout",
     "output_type": "stream",
     "text": [
      "[1, 2, 3, 4, 5]\n"
     ]
    }
   ],
   "source": [
    "unique_list([1,1,1,1,2,2,3,3,3,3,4,5])"
   ]
  }
 ],
 "metadata": {
  "kernelspec": {
   "display_name": "Python 3",
   "language": "python",
   "name": "python3"
  },
  "language_info": {
   "codemirror_mode": {
    "name": "ipython",
    "version": 3
   },
   "file_extension": ".py",
   "mimetype": "text/x-python",
   "name": "python",
   "nbconvert_exporter": "python",
   "pygments_lexer": "ipython3",
   "version": "3.8.3"
  },
  "toc": {
   "base_numbering": 1,
   "nav_menu": {},
   "number_sections": true,
   "sideBar": true,
   "skip_h1_title": false,
   "title_cell": "Table of Contents",
   "title_sidebar": "Contents",
   "toc_cell": false,
   "toc_position": {},
   "toc_section_display": true,
   "toc_window_display": false
  }
 },
 "nbformat": 4,
 "nbformat_minor": 4
}
