{
 "cells": [
  {
   "cell_type": "markdown",
   "metadata": {},
   "source": [
    "# Numpy 入门及实践"
   ]
  },
  {
   "cell_type": "markdown",
   "metadata": {},
   "source": [
    "## Numpy 安装"
   ]
  },
  {
   "cell_type": "markdown",
   "metadata": {},
   "source": [
    "通过如下方式可以方便安装Numpy：\n",
    "```\n",
    "pip install numpy\n",
    "```"
   ]
  },
  {
   "cell_type": "markdown",
   "metadata": {},
   "source": [
    "## Numpy 介绍"
   ]
  },
  {
   "cell_type": "markdown",
   "metadata": {},
   "source": [
    "NumPy是一个开源的Python科学计算基础库，包含：\n",
    "\n",
    "1. 一个强大的N维数组对象Array；\n",
    "2. 比较成熟的（广播）函数库；\n",
    "3. 用于整合C/C++和Fortran代码的工具包；\n",
    "4. 实用的线性代数、傅里叶变换和随机数生成函数。\n",
    "NumPy是SciPy、Pandas、SciKit-learn等数据处理或科学计算库的基础。\n",
    "\n",
    "\n",
    "**Numpy的许多函数不仅是用C实现了，还使用了BLAS（一般Windows下link到MKL的，Linux下link到OpenBLAS）。基本上那些BLAS实现在每种操作上都进行了高度优化，例如使用AVX向量指令集，甚至能比你自己用C实现快上许多，更不要说和用Python实现的比。** \n"
   ]
  },
  {
   "cell_type": "markdown",
   "metadata": {},
   "source": [
    "## 数组(ndarray)部分"
   ]
  },
  {
   "cell_type": "markdown",
   "metadata": {},
   "source": [
    "### 数组对象：ndarray"
   ]
  },
  {
   "cell_type": "markdown",
   "metadata": {},
   "source": [
    "Python已有列表类型，为什么需要一个数组对象(类型)?\n",
    "\n",
    "   - 数组对象可以去掉元素间运算所需的循环，使一维向量更像单个数据\n",
    "   - 设置专门的数组对象，经过优化，可以提升这类应用的运算速度\n",
    "   - 观察:科学计算中，一个维度所有数据的类型往往相同\n",
    "   - 数组对象采用相同的数据类型，有助于节省运算和存储空间\n",
    "   \n",
    "   \n",
    "ndarray是一个多维数组对象，由两部分构成:\n",
    "\n",
    "\n",
    "   - 实际的数据\n",
    "   - 描述这些数据的元数据(数据维度、数据类型等)\n",
    "\n",
    "ndarray数组一般要求所有元素类型相同(同质)，数组下标从0开始"
   ]
  },
  {
   "cell_type": "markdown",
   "metadata": {},
   "source": [
    "### ndarray对象的属性"
   ]
  },
  {
   "cell_type": "markdown",
   "metadata": {},
   "source": [
    "属性 | 说明\n",
    ":---| :---\n",
    ".ndim  |   秩，即轴的数量或维度的数量\n",
    ".shape |   ndarray对象的尺度，对于矩阵，n行m列\n",
    ".size  |    ndarray对象元素的个数，相当于.shape中n\\*m的值\n",
    ".dtype  |    ndarray对象的元素类型\n",
    ".itemsize |    ndarray对象中每个元素的大小，以字节为单位\n"
   ]
  },
  {
   "cell_type": "markdown",
   "metadata": {},
   "source": [
    "### 如何创建numpy数组"
   ]
  },
  {
   "cell_type": "code",
   "execution_count": null,
   "metadata": {},
   "outputs": [],
   "source": [
    "import numpy as np\n",
    "#np是引入模块的别名\n",
    "#尽管别名可以省略或更改，建议使用上述约定的别名"
   ]
  },
  {
   "cell_type": "markdown",
   "metadata": {},
   "source": [
    "#### 从列表或元组导入\n",
    "最常见的一种方法是传递一个列表或如同列表的对象，并以此通过```np.array```函数创建numpy数组。"
   ]
  },
  {
   "cell_type": "markdown",
   "metadata": {
    "ExecuteTime": {
     "end_time": "2020-11-09T11:10:48.265213Z",
     "start_time": "2020-11-09T11:10:48.260228Z"
    }
   },
   "source": [
    "```\n",
    "x = np.array(list/tuple)\n",
    "x = np.array(list/tuple, dtype=np.float32)\n",
    "```"
   ]
  },
  {
   "cell_type": "code",
   "execution_count": null,
   "metadata": {},
   "outputs": [],
   "source": [
    "#list to ndarray\n",
    "x = np.array([1,2,3,4,5])\n",
    "print(x)\n",
    "\n",
    "#tuple to ndarray\n",
    "x = np.array((1,2,3,4,5))\n",
    "print(x)\n",
    "\n",
    "#mix \n",
    "x = np.array([ [1, 2], [3, 4], (5, 6)])\n",
    "print(x)"
   ]
  },
  {
   "cell_type": "markdown",
   "metadata": {},
   "source": [
    "#### NumPy函数创建"
   ]
  },
  {
   "cell_type": "markdown",
   "metadata": {},
   "source": [
    "函数|说明\n",
    ":---|:---\n",
    "np.arange(n)\t|类似range()函数，返回ndarray类型，元素从0到n‐1\n",
    "np.ones(shape)\t|根据shape生成一个全1数组，shape是元组类型\n",
    "np.zeros(shape)\t|根据shape生成一个全0数组，shape是元组类型\n",
    "np.full(shape,val)\t|根据shape生成一个数组，每个元素值都是val\n",
    "np.eye(n)\t|创建一个正方的n*n单位矩阵，对角线为1，其余为0\n",
    "np.ones_like(a)\t|根据数组a的形状生成一个全1数组\n",
    "np.zeros_like(a)|\t根据数组a的形状生成一个全0数组\n",
    "np.full_like(a,val)|\t根据数组a的形状生成一个数组，每个元素值都是val\n",
    "np.linspace() | 根据起止数据等间距地填充数据，形成数组"
   ]
  },
  {
   "cell_type": "code",
   "execution_count": null,
   "metadata": {
    "scrolled": true
   },
   "outputs": [],
   "source": [
    "x = np.arange(1,11, dtype = 'float')\n",
    "x = np.ones((1,2,3))\n",
    "print(x.ndim)\n",
    "print(x.shape)\n",
    "print(x)"
   ]
  },
  {
   "cell_type": "markdown",
   "metadata": {},
   "source": [
    "#### 其他方法"
   ]
  },
  {
   "cell_type": "markdown",
   "metadata": {},
   "source": [
    "```np.tile```将整个列表或数组重复n遍。<br>\n",
    "然而，```np.repeat```的用途是重复每个item n遍。"
   ]
  },
  {
   "cell_type": "code",
   "execution_count": null,
   "metadata": {},
   "outputs": [],
   "source": [
    "a = [1, 2, 3]\n",
    "# Repeat whole of 'a' two times\n",
    "# 单位是矩阵本身\n",
    "print('Tile:   ', np.tile(a, 3))\n",
    "\n",
    "# Repeat each element of 'a' two times\n",
    "# 单位是矩阵中的每个item\n",
    "print('Repeat: ', np.repeat(a, 3))"
   ]
  },
  {
   "cell_type": "markdown",
   "metadata": {},
   "source": [
    "```random``` 模块提供了很好的方法，可以生成任意给定shape的随机数（包括统计学中的随机分布）"
   ]
  },
  {
   "cell_type": "code",
   "execution_count": null,
   "metadata": {},
   "outputs": [],
   "source": [
    "# Random numbers between [0,1) of shape 2,2\n",
    "print('随机2x2数组：\\n')\n",
    "print(np.random.rand(2,2))\n",
    "print('\\n')\n",
    "# the Normal distribution with mean=0 and variance=1 of shape 2,2\n",
    "print('随机2x2正态分布数组：\\n')\n",
    "print(np.random.randn(2,2))\n",
    "print('\\n')\n",
    "# Random integers between [0, 10) of shape 2,2\n",
    "print('随机2x2，位于0-10之间的整数数组：\\n')\n",
    "print(np.random.randint(0, 10, size=[2,2]))\n",
    "print('\\n')\n",
    "# One random number between [0,1)\n",
    "print('随机数，位于0~1之间的浮点数：\\n')\n",
    "print(np.random.random())\n",
    "print('\\n')\n",
    "# Random numbers between [0,1) of shape 2,2\n",
    "print('随机2x2，位于0~1之间的浮点数：\\n')\n",
    "print(np.random.random(size=[2,2]))\n",
    "print('\\n')\n",
    "# Pick 10 items from a given list, with equal probability\n",
    "print('随机10个字母，且范围为a, e, i, o, u：\\n')\n",
    "print(np.random.choice(['a', 'e', 'i', 'o', 'u'], size=10))  \n",
    "print('\\n')\n",
    "# Pick 10 items from a given list with a predefined probability 'p'\n",
    "print('随机10个字母，范围为a, e, i, o, u, 且每个字母的出现概率已经给定（p参数的和应该为1）：\\n')\n",
    "print(np.random.choice(['a', 'e', 'i', 'o', 'u'], \n",
    "                       size=100, p=[0.3, 0.1, 0.1, 0.4, 0.1])) "
   ]
  },
  {
   "cell_type": "markdown",
   "metadata": {},
   "source": [
    "### 数组变换"
   ]
  },
  {
   "cell_type": "markdown",
   "metadata": {},
   "source": [
    "#### 维度变换"
   ]
  },
  {
   "cell_type": "markdown",
   "metadata": {},
   "source": [
    "方法 |说明\n",
    ":---|:---\n",
    ".reshape(shape)\t|不改变数组元素，返回一个shape形状的数组，原数组不变\n",
    ".resize(shape)\t|与.reshape()功能一样，但修改原数组\n",
    ".swapaxes(ax1,ax2)\t|将数组n个维度中两个维度进行调换\n",
    ".flatten()\t|对数组进行降维，返回折叠后的一维数组，原数组不变"
   ]
  },
  {
   "cell_type": "code",
   "execution_count": null,
   "metadata": {},
   "outputs": [],
   "source": [
    "a = np.arange(24)\n",
    "print(a)\n",
    "b = a.reshape(2,3,4)\n",
    "print(b)\n",
    "print(a)\n",
    "a.resize(2,3,4)\n",
    "print(a)\n",
    "b = a.swapaxes(0,1)\n",
    "print(b)"
   ]
  },
  {
   "cell_type": "markdown",
   "metadata": {},
   "source": [
    "#### 类型变换"
   ]
  },
  {
   "cell_type": "markdown",
   "metadata": {},
   "source": [
    "你也可以通过设置dtype参数来指定数据类型。一些最常用的numpy dtype是：“float”、“int”、“bool”、“str”和“object”。<br>\n",
    "为了控制内存分配，你可以选择使用“float32”、“float64”、“int8”、“int16”或“int32”。"
   ]
  },
  {
   "cell_type": "code",
   "execution_count": null,
   "metadata": {
    "ExecuteTime": {
     "end_time": "2020-11-09T11:10:42.532556Z",
     "start_time": "2020-11-09T11:10:42.525579Z"
    }
   },
   "outputs": [],
   "source": [
    "# Create a float 2d array\n",
    "list2d = [[0,1,2],[3,4,5],[6,7,8]]\n",
    "arr2d_f = np.array(list2d, dtype='float32')\n",
    "print(arr2d_f)\n",
    "print(arr2d_f.dtype)"
   ]
  },
  {
   "cell_type": "markdown",
   "metadata": {},
   "source": [
    "每个数字后面的小数点表示浮点数据类型，还可以使用astype方法将其转换为不同的数据类型。"
   ]
  },
  {
   "cell_type": "code",
   "execution_count": null,
   "metadata": {},
   "outputs": [],
   "source": [
    "# Convert to 'int' datatype\n",
    "print(arr2d_f)\n",
    "arr2d_i = arr2d_f.astype('int')\n",
    "\n",
    "print(arr2d_i)\n",
    "print(arr2d_i.dtype)"
   ]
  },
  {
   "cell_type": "code",
   "execution_count": null,
   "metadata": {},
   "outputs": [],
   "source": [
    "# Convert to int then to str datatype\n",
    "arr2d_s = arr2d_f.astype('int').astype('str')\n",
    "print(arr2d_s)\n"
   ]
  },
  {
   "cell_type": "markdown",
   "metadata": {},
   "source": [
    "一个numpy数组必须具有相同数据类型的所有条目，这是与列表相比，另一个显著的区别。<br>\n",
    "但是，如果不确定数组将持有何种数据类型，或者想要在同一个数组中共存字符和数字，可以将dtype设置为“object”。"
   ]
  },
  {
   "cell_type": "code",
   "execution_count": null,
   "metadata": {},
   "outputs": [],
   "source": [
    "# Create a boolean array\n",
    "arr2d_b = np.array([1, 0, 10, -1], dtype='bool')\n",
    "print(arr2d_b)\n"
   ]
  },
  {
   "cell_type": "code",
   "execution_count": null,
   "metadata": {},
   "outputs": [],
   "source": [
    "arr1d_obj = np.array([1, 'a'], dtype='object')\n",
    "print(type(arr1d_obj))\n",
    "print(arr1d_obj)"
   ]
  },
  {
   "cell_type": "markdown",
   "metadata": {},
   "source": [
    "最终，可以通过```tolist()```方法，将numpy的ndarray对象，转换回python的list对象"
   ]
  },
  {
   "cell_type": "code",
   "execution_count": null,
   "metadata": {},
   "outputs": [],
   "source": [
    "print(type(arr1d_obj.tolist()))"
   ]
  },
  {
   "cell_type": "markdown",
   "metadata": {},
   "source": [
    "### ndarray数组的操作"
   ]
  },
  {
   "cell_type": "markdown",
   "metadata": {},
   "source": [
    "#### 数组的索引和切片"
   ]
  },
  {
   "cell_type": "markdown",
   "metadata": {},
   "source": [
    "索引:获取数组中特定位置元素的过程  \n",
    "切片:获取数组元素子集的过程   "
   ]
  },
  {
   "cell_type": "code",
   "execution_count": null,
   "metadata": {},
   "outputs": [],
   "source": [
    "# 一维数组的索引和切片:与Python的列表类似 \n",
    "a = np.array([9, 4, 3, 8, 5, 1])\n",
    "print(a[2])\n",
    "print(a[ 1 : 4 : 2 ]) # 起始到结束位置，最后一个是步长"
   ]
  },
  {
   "cell_type": "code",
   "execution_count": null,
   "metadata": {},
   "outputs": [],
   "source": [
    "# 多维数组的索引\n",
    "a = np.arange(24).reshape((2,3,4))\n",
    "print(a)\n",
    "print(a[1,2,3])\n",
    "print(a[0,1,2])\n",
    "print(a[-1,-2,-3])"
   ]
  },
  {
   "cell_type": "code",
   "execution_count": null,
   "metadata": {},
   "outputs": [],
   "source": [
    "# 多维数组的切片\n",
    "a = np.arange(24).reshape((2,3,4))\n",
    "print(a)\n",
    "print(a[:, 1, 3]) # 选取一个维度使用 :\n",
    "print(a[:, 1:3, :]) # 每个维度切片与一维一样\n",
    "print(a[:, :, ::2]) # 每个维度可以使用步长跳跃切片"
   ]
  },
  {
   "cell_type": "markdown",
   "metadata": {},
   "source": [
    "#### 数组的运算"
   ]
  },
  {
   "cell_type": "markdown",
   "metadata": {},
   "source": [
    "数组与标量之间的运算作用于数组的每一个元素"
   ]
  },
  {
   "cell_type": "code",
   "execution_count": null,
   "metadata": {},
   "outputs": [],
   "source": [
    "a = np.arange(24).reshape((2,3,4))\n",
    "print(a)\n",
    "\n",
    "print(a + 1)"
   ]
  },
  {
   "cell_type": "markdown",
   "metadata": {},
   "source": [
    "对ndarray中的数据执行元素级运算的函数"
   ]
  },
  {
   "cell_type": "markdown",
   "metadata": {},
   "source": [
    "函数 | 说明\n",
    ":--- | :---\n",
    "np.abs(x) | np.fabs(x)\t计算数组各元素的绝对值\n",
    "np.sqrt(x)|\t计算数组各元素的平方根\n",
    "np.square(x)|\t计算数组各元素的平方\n",
    "np.log(x) np.log10(x) np.log2(x)\t|计算数组各元素的自然对数、10底对数和2底对数\n",
    "np.ceil(x) np.floor(x)\t|计算数组各元素的ceiling值 或 floor值\n",
    "np.rint(x)\t|计算数组各元素的四舍五入值\n",
    "np.modf(x)\t|将数组各元素的小数和整数部分以两个独立数组形式返回\n",
    "np.cos(x) np.cosh(x) np.sin(x) np.sinh(x) np.tan(x) np.tanh(x)\t|计算数组各元素的普通型和双曲型三角函数\n",
    "np.exp(x)\t|计算数组各元素的指数值\n",
    "np.sign(x)\t|计算数组各元素的符号值，1(+), 0, ‐1(‐)"
   ]
  },
  {
   "cell_type": "code",
   "execution_count": null,
   "metadata": {},
   "outputs": [],
   "source": [
    "x = np.array([3,1,-3],dtype=np.float32)\n",
    "print(x)\n",
    "print(np.exp(x))\n",
    "print(np.exp(x)/sum(np.exp(x)))"
   ]
  },
  {
   "cell_type": "markdown",
   "metadata": {},
   "source": [
    "例子：计算神经元网络中softmax层输出。假设z = [3,1,-3]\n",
    "![](img/softmax.png)"
   ]
  },
  {
   "cell_type": "markdown",
   "metadata": {},
   "source": [
    "### Numpy中的数组拼接、合并操作"
   ]
  },
  {
   "cell_type": "markdown",
   "metadata": {},
   "source": [
    "Numpy中提供了concatenate,append, stack类(包括hsatck、vstack、dstack、row_stack、column_stack),r_和c_等类和函数用于数组拼接的操作。\n",
    "各种函数的特点和区别如下标：\n",
    "\n"
   ]
  },
  {
   "cell_type": "markdown",
   "metadata": {},
   "source": [
    "方法 | 说明\n",
    ":--- | :---\n",
    "concatenate |提供了axis参数，用于指定拼接方向\n",
    "append\t| 默认先ravel再拼接成一维数组，也可指定axis\n",
    "stack  |\t提供了axis参数，用于生成新的维度\n",
    "hstack\t|水平拼接，沿着行的方向，对列进行拼接\n",
    "vstack\t|垂直拼接，沿着列的方向，对行进行拼接\n",
    "dstack\t|沿着第三个轴（深度方向）进行拼接\n",
    "column_stack\t|水平拼接，沿着行的方向，对列进行拼接\n",
    "row_stack\t|垂直拼接，沿着列的方向，对行进行拼接\n",
    "r_\t|垂直拼接，沿着列的方向，对行进行拼接\n",
    "c_\t|水平拼接，沿着行的方向，对列进行拼接"
   ]
  },
  {
   "cell_type": "markdown",
   "metadata": {},
   "source": [
    "ndarray(多维数组)是Numpy处理的数据类型。多维数组的维度即为对应数据所在的空间维度，1维可以理解为直线空间，2维可以理解为平面空间，3维可以理解为立方体空间。"
   ]
  },
  {
   "cell_type": "markdown",
   "metadata": {},
   "source": [
    "轴是用来对多维数组所在空间进行定义、描述的一组正交化的直线，根据数学惯例可以用i , j , k来表示。  \n",
    "在一维空间中，用一个轴就可以表示清楚，numpy中规定为axis0，空间内的数可以理解为直线空间上的离散点$x_i$。  \n",
    "在二维空间中，需要用两个轴表示，numpy中规定为axis 0和axis 1，空间内的数可以理解为平面空间上的离散点$(x_i, y_j)$。  \n",
    "在三维空间中，需要用三个轴才能表示清楚，在二维空间的基础上numpy中又增加了axis 2，空间内的数可以理解为立方体空间上的离散点$(x_i,y_j,z_k)$。  \n",
    "\n",
    "Python中可以用numpy中的ndim和shape来分别查看维度，以及在对应维度上的长度。直观上可以根据符号“[ ]”的层数来判断，有m层即为m维，最外面1层对应axis0， 依次为axis1，axis2…"
   ]
  },
  {
   "cell_type": "code",
   "execution_count": null,
   "metadata": {},
   "outputs": [],
   "source": [
    "a = np.array([1,2,3])\n",
    "print(a.ndim)      # 一维数组\n",
    "print(a.shape)     # 在这个维度上的长度为3\n",
    "\n",
    "\n",
    "b = np.array([[1,2,3], [4,5,6]])\n",
    "print(b.ndim)     # 二维数组\n",
    "print(b.shape)      # 在axis 0 上的长度为2， 在axis 1上的长度为3.或者可以感性的理解为2行3列\n",
    "\n",
    "c = np.array([[[1,2,3], [4,5,6]]])\n",
    "print(c.ndim)     # 三维数组\n",
    "print(c.shape)      # 在axis 0 上的长度为1，在axis 1上的长度为2, 在axis 2上的长度为3. 或者可以感性的理解为1层2行3列\n"
   ]
  },
  {
   "cell_type": "markdown",
   "metadata": {},
   "source": [
    "1. concatenate(a_tuple, axis=0, out=None)  \n",
    "\"\"\"  \n",
    "参数说明：  \n",
    "a_tuple:对需要合并的数组用元组的形式给出  \n",
    "axis: 沿指定的轴进行拼接，默认0，即第一个轴  \n",
    "\"\"\" \n"
   ]
  },
  {
   "cell_type": "code",
   "execution_count": null,
   "metadata": {},
   "outputs": [],
   "source": [
    "ar1 = np.array([[1,2,3], [4,5,6]])\n",
    "ar2 = np.array([[7,8,9], [11,12,13]])\n",
    "ar3 = np.array([[14,15,16]])\n",
    "ar4 = np.array([[17],[18]])\n",
    "\n",
    "print(\"ar1 + ar2: \\n \", np.concatenate((ar1, ar2), axis= 0 ))\n",
    "print(\"ar1 + ar2: \\n \", np.concatenate((ar1, ar2), axis= 1 ))"
   ]
  },
  {
   "cell_type": "markdown",
   "metadata": {},
   "source": [
    "2. append(arr, values, axis=None)  \n",
    "\"\"\"  \n",
    "参数说明：  \n",
    "arr：array_like的数据  \n",
    "values: array_like的数据，若axis为None，则先将arr和values进行ravel扁平化,再拼接；否则values应当与arr的shape一致，或至多在拼接axis的方向不一致  \n",
    "axis：进行append操作的axis的方向，默认无  \n",
    "\"\"\"  "
   ]
  },
  {
   "cell_type": "code",
   "execution_count": null,
   "metadata": {},
   "outputs": [],
   "source": [
    "print(np.append(ar1, ar2))    # 先ravel扁平化再拼接，所以返回值为一个1维数组\n",
    "print(np.append(ar1, ar2, axis=0))     # 沿第一个轴拼接，这里为行的方向 \n",
    "print(np.append(ar1, ar2, axis=1))     # 沿第二个轴拼接，这里为列的方向 "
   ]
  },
  {
   "cell_type": "markdown",
   "metadata": {},
   "source": [
    "3. stack(arrays, axis=0, out=None)  \n",
    "\"\"\"  \n",
    "沿着指定的axis对arrays(每个array的shape必须一样)进行拼接，返回值的维度比原arrays的维度高1  \n",
    "axis：默认为0，即第一个轴，若为-1即为第二个轴  \n",
    "\"\"\"  "
   ]
  },
  {
   "cell_type": "code",
   "execution_count": null,
   "metadata": {},
   "outputs": [],
   "source": [
    "print(np.stack((ar1, ar2)))     # 增加第一个维度（axis0，之后的axis向后顺延：0—>1, 1—>2）\n",
    "print()\n",
    "print(np.stack((ar1, ar2), axis=1))     # 增加第二个维度（axis1，之后的axis向后顺延, 1—>2）\n",
    "print()\n",
    "print(np.stack((ar1, ar2), axis=2))     # 增加第三个维度（axis2，和axis=-1的效果一样，原来的axis0和axis1保持不变）"
   ]
  },
  {
   "cell_type": "code",
   "execution_count": null,
   "metadata": {},
   "outputs": [],
   "source": [
    "print(np.hstack((ar1,ar2)))    # 水平拼接，沿着行的方向，对列进行拼接\n",
    "print(np.vstack((ar1,ar2)))    # 垂直拼接，沿着列的方向，对行进行拼接\n",
    "print(np.dstack((ar1,ar2)))    # 对于2维数组来说，沿着第三轴（深度方向）进行拼接, 效果相当于stack(axis=-1)"
   ]
  },
  {
   "cell_type": "code",
   "execution_count": null,
   "metadata": {},
   "outputs": [],
   "source": [
    "print(np.column_stack((ar1,ar2)))   # 水平拼接，沿着行的方向，对列进行拼接\n",
    "print(np.row_stack((ar1,ar2)))    # 垂直拼接，沿着列的方向，对行进行拼接"
   ]
  },
  {
   "cell_type": "code",
   "execution_count": null,
   "metadata": {},
   "outputs": [],
   "source": [
    "np.r_[ar1,ar2]     # 垂直拼接，沿着列的方向，对行进行拼接\n",
    "np.c_[ar1,ar2]   # 水平拼接，沿着行的方向，对列进行拼接"
   ]
  },
  {
   "cell_type": "markdown",
   "metadata": {},
   "source": [
    "### 如何表示缺失的值，以及无穷大？"
   ]
  },
  {
   "cell_type": "markdown",
   "metadata": {},
   "source": [
    "缺失的值，可以通过```np.nan```对象表示，而无穷大可以用```np.inf```对象表示。如例："
   ]
  },
  {
   "cell_type": "code",
   "execution_count": null,
   "metadata": {},
   "outputs": [],
   "source": [
    "print(arr2)\n",
    "# insert a nan and an inf\n",
    "arr2[1, 1] = np.nan # not a number\n",
    "arr2[1, 2] = np.inf # ininite\n",
    "print(arr2)"
   ]
  },
  {
   "cell_type": "code",
   "execution_count": null,
   "metadata": {},
   "outputs": [],
   "source": [
    "# replace nan and inf with -1. Don't use arr2 == np.nan\n",
    "missing_bool = np.isnan(arr2) | np.isinf(arr2)\n",
    "print('missing_bool\\n', missing_bool)\n",
    "arr2[missing_bool] = -1\n",
    "print(arr2)"
   ]
  },
  {
   "cell_type": "markdown",
   "metadata": {},
   "source": [
    "### Numpy中array和matrix用于矩阵乘法及其区别"
   ]
  },
  {
   "cell_type": "markdown",
   "metadata": {},
   "source": [
    "在NumPy中，array用于表示通用的N维数组，matrix则特定用于线性代数计算。<br>\n",
    "array和matrix都可以用来表示矩阵，二者在进行乘法操作时，有一些不同之处。"
   ]
  },
  {
   "cell_type": "markdown",
   "metadata": {},
   "source": [
    "使用array时，运算\\*用于计算数量积（点乘），函数```dot()```用于计算[矢量积（叉乘）](https://baike.baidu.com/item/%E7%9F%A9%E9%98%B5%E4%B9%98%E6%B3%95)，例子如下："
   ]
  },
  {
   "cell_type": "code",
   "execution_count": null,
   "metadata": {},
   "outputs": [],
   "source": [
    "import numpy as np\n",
    "a = np.array([[1, 2], \n",
    "              [3, 4]])\n",
    "b = np.array([[5, 6], \n",
    "              [7, 8]])\n",
    "print('矩阵a与b点乘的计算方法: \\n')\n",
    "print('1x5=5  2x6=12')\n",
    "print('3x7=21 4x8=32')\n",
    "print('a * b = \\n', a * b)\n",
    "print()\n",
    "print('矩阵a与b叉乘的计算方法: \\n')\n",
    "print('1x5+2x7=19  1x4+2x8=22')\n",
    "print('3x5+4x7=43  3x6+4x8=50')\n",
    "print(a)\n",
    "print(b)\n",
    "print('np.dot(a, b) = \\n', np.dot(a, b))"
   ]
  },
  {
   "cell_type": "markdown",
   "metadata": {},
   "source": [
    "可见，当a和b为array时， ```a * b``` 计算了a和b的数量积（对应Matlab的 ```a .* b``` ）， ```dot(a, b)``` 计算了a和b的矢量积（对应Matlab的 ```a * b``` ）"
   ]
  },
  {
   "cell_type": "markdown",
   "metadata": {},
   "source": [
    "与array不同的是，使用matrix时，运算符 \\* 用于计算矢量积，函数 ```multiply()``` 用于计算数量积，例子如："
   ]
  },
  {
   "cell_type": "code",
   "execution_count": null,
   "metadata": {
    "scrolled": true
   },
   "outputs": [],
   "source": [
    "a = np.mat('1 2; 3 4')\n",
    "b = np.mat('5 6; 7 8')\n",
    "\n",
    "print(a)\n",
    "print(b)"
   ]
  },
  {
   "cell_type": "markdown",
   "metadata": {},
   "source": [
    "## Numpy中重要的函数"
   ]
  },
  {
   "cell_type": "markdown",
   "metadata": {},
   "source": [
    "上一节中，重点介绍ndarray的使用，这篇着重介绍Numpy中重要的函数"
   ]
  },
  {
   "cell_type": "markdown",
   "metadata": {},
   "source": [
    "### 如何使用np.where获得满足给定条件的索引位置？"
   ]
  },
  {
   "cell_type": "markdown",
   "metadata": {},
   "source": [
    "在此之前，已经介绍了如何从满足给定条件的矩阵中提取item, 即布尔检索。<br>\n",
    "但有时我们想知道项目的索引位置（满足某条件），并做任何想做的事情。<br>\n",
    "```np.where```可以定位矩阵中一个给定条件为True的位置。"
   ]
  },
  {
   "cell_type": "code",
   "execution_count": null,
   "metadata": {},
   "outputs": [],
   "source": [
    "# Create an array\n",
    "import numpy as np\n",
    "np.random.seed(55)\n",
    "arr_rand = np.random.randint(0, 10, size=10)\n",
    "print(\"Array: \", arr_rand)\n",
    "\n",
    "# Positions where value > 5\n",
    "index_gt5 = np.where(arr_rand > 5)\n",
    "print(\"Positions where value > 5: \", index_gt5)"
   ]
  },
  {
   "cell_type": "markdown",
   "metadata": {},
   "source": [
    "通过np.where获取的是满足条件的item的索引数组，一旦获取到这个索引数组，就可以通过```take```方法，获取对应矩阵的值"
   ]
  },
  {
   "cell_type": "code",
   "execution_count": null,
   "metadata": {},
   "outputs": [],
   "source": [
    "print(arr_rand.take(index_gt5))"
   ]
  },
  {
   "cell_type": "markdown",
   "metadata": {},
   "source": [
    "此外，```np.where```也接受额外的可选参数：x与y。<br>\n",
    "只要条件为真，即得到x，否则得到y<br>\n",
    "下面的例子中，将尝试创建一个数组：大于5的位置将设置为1；否则设置为0"
   ]
  },
  {
   "cell_type": "code",
   "execution_count": null,
   "metadata": {},
   "outputs": [],
   "source": [
    "print(np.where(arr_rand > 5, 1, 0))"
   ]
  },
  {
   "cell_type": "markdown",
   "metadata": {},
   "source": [
    "此外，可以通过```np.argmax```获得最大值所在的索引；```np.argmin```获得最小值所在的索引"
   ]
  },
  {
   "cell_type": "code",
   "execution_count": null,
   "metadata": {},
   "outputs": [],
   "source": [
    "print(arr_rand)\n",
    "# Location of the max\n",
    "print('Position of max value: ', np.argmax(arr_rand))  \n",
    "print('Max value is: ', arr_rand[np.argmax(arr_rand)])\n",
    "\n",
    "# Location of the min\n",
    "print('Position of min value: ', np.argmin(arr_rand)) \n",
    "print('Min value is: ', arr_rand[np.argmin(arr_rand)])"
   ]
  },
  {
   "cell_type": "markdown",
   "metadata": {},
   "source": [
    "### 如何从csv文件导入与导出数据？"
   ]
  },
  {
   "cell_type": "markdown",
   "metadata": {},
   "source": [
    "导入数据集的标准方法是使用```np.genfromtxt```函数。它可以从本地文件或者web url导入数据集。<br>\n",
    "该函数可以处理csv中缺失的值（事实上，对于csv中非数值型的单元值，其都会用缺失值进行填充），多个分隔符，处理不规则的列数等。<br>\n",
    "一个不太通用的版本是```np.loadtxt```，它假设数据集没有丢失的值。<br>\n",
    "下面试着读取一个.csv文件。由于numpy数组中的所有元素都应该是相同的数据类型，所以最后一列是文本，而设置的dtype是float，所以文本在默认情况下被作为“nan”识别。<br>\n",
    "设定fillingvalues参数，即可替代nan，当然也可以用其他数值替换缺失的值，比如0或-1。"
   ]
  },
  {
   "cell_type": "markdown",
   "metadata": {},
   "source": [
    "CSV的数据大致如下（这里用了pandas进行较美观格式输出，就不用贴截图图片了哈~~~）："
   ]
  },
  {
   "cell_type": "code",
   "execution_count": null,
   "metadata": {},
   "outputs": [],
   "source": [
    "import pandas as pd\n",
    "from IPython.display import display, HTML \n",
    "df = pd.read_csv('./csv/Auto.csv', encoding='utf-8')\n",
    "display(HTML(df[:10].to_html()))"
   ]
  },
  {
   "cell_type": "code",
   "execution_count": null,
   "metadata": {},
   "outputs": [],
   "source": [
    "# Turn off scientific notation\n",
    "np.set_printoptions(suppress=True)  \n",
    "\n",
    "# Import data from csv file url\n",
    "path = './csv/Auto.csv'\n",
    "data = np.genfromtxt(path, delimiter=',', skip_header=1, filling_values=-999, dtype='float')\n",
    "# see first 10 rows\n",
    "print(data[:10])"
   ]
  },
  {
   "cell_type": "markdown",
   "metadata": {},
   "source": [
    "看起来很整洁，但是有没有注意到最后一列的所有值都有相同的值'-999'？<br>\n",
    "这是因为，之前提到过```dtype='float'```。<br>\n",
    "而文件的最后一列包含文本值，因为numpy数组中的所有值都必须是相同的'dtype'，所以```np.genfromtxt```不知道如何将其转换为浮点数，只能讲其转为'nan'，此时filling_values就起作用了。"
   ]
  },
  {
   "cell_type": "markdown",
   "metadata": {},
   "source": [
    "### 如何处理既有数字又有文本列的数据集(datasets)?"
   ]
  },
  {
   "cell_type": "markdown",
   "metadata": {},
   "source": [
    "如果必须处理文本列，而不是使用占位符替代文本，那么可以使用```object```或者```None```这种dtype"
   ]
  },
  {
   "cell_type": "code",
   "execution_count": null,
   "metadata": {},
   "outputs": [],
   "source": [
    "datawithobject = np.genfromtxt(path, delimiter=',', \n",
    "                               skip_header=1, \n",
    "                               dtype='object', \n",
    "                               encoding='utf-8')\n",
    "print(datawithobject[:10])"
   ]
  },
  {
   "cell_type": "code",
   "execution_count": null,
   "metadata": {},
   "outputs": [],
   "source": [
    "datawithNone = np.genfromtxt(path, delimiter=',', skip_header=1, dtype=None, encoding='utf-8')\n",
    "print(datawithNone[:10])"
   ]
  },
  {
   "cell_type": "markdown",
   "metadata": {},
   "source": [
    "处理完数据之后，可以通过```savetxt```方法，将ndarray对象导出为csv文件"
   ]
  },
  {
   "cell_type": "code",
   "execution_count": null,
   "metadata": {},
   "outputs": [],
   "source": [
    "np.savetxt('./csv/out.csv', data, delimiter=',', encoding='utf-8')"
   ]
  },
  {
   "cell_type": "markdown",
   "metadata": {},
   "source": [
    "## 如何save与load numpy对象？"
   ]
  },
  {
   "cell_type": "markdown",
   "metadata": {},
   "source": [
    "在某种程度上，我们将希望把numpy array对象保存到磁盘，并在不重新运行数据转换代码的情况下直接将其加载回控制台。<br>\n",
    "Numpy为这个目的提供了.npy和.npz文件类型。\n",
    "如果你想存储一个ndarray对象，那么使用```np.save```将它存储为.npy文件。这可以通过```np.load```返回。\n",
    "如果您想在一个文件中存储多于1个ndarray对象，那么使用```np.savez```将其保存为.npz文件。（类似于压缩的方式）"
   ]
  },
  {
   "cell_type": "code",
   "execution_count": null,
   "metadata": {},
   "outputs": [],
   "source": [
    "list2d = [[0, 1, 2], [3, 4, 5], [6, 7, 8]]\n",
    "arr2d = np.array(list2d)\n",
    "print('arr2d is \\n')\n",
    "print(arr2d)"
   ]
  },
  {
   "cell_type": "code",
   "execution_count": null,
   "metadata": {},
   "outputs": [],
   "source": [
    "# Create a float 2d array\n",
    "arr2d_f = np.array(list2d, dtype='float')\n",
    "print(arr2d_f)\n",
    "# Create a boolean array\n",
    "arr2d_b = np.array([1, 0, -1], dtype='bool')\n",
    "print(arr2d_b)"
   ]
  },
  {
   "cell_type": "markdown",
   "metadata": {},
   "source": [
    "将numpy数据保存到本地磁盘的方法："
   ]
  },
  {
   "cell_type": "code",
   "execution_count": null,
   "metadata": {},
   "outputs": [],
   "source": [
    "# Save single numpy array object as .npy file\n",
    "np.save('myarray.npy', arr2d)  \n",
    "np.save('myarray1.npy', arr2d) \n",
    "# Save multile numy arrays as a .npz file\n",
    "np.savez('array.npz', arr2d_f, arr2d_b)"
   ]
  },
  {
   "cell_type": "markdown",
   "metadata": {},
   "source": [
    "将.npy文件加载到numpy："
   ]
  },
  {
   "cell_type": "code",
   "execution_count": null,
   "metadata": {},
   "outputs": [],
   "source": [
    "myarray = np.load('myarray.npy')\n",
    "print(myarray)"
   ]
  },
  {
   "cell_type": "markdown",
   "metadata": {},
   "source": [
    "将.npz文件加载到numpy："
   ]
  },
  {
   "cell_type": "code",
   "execution_count": null,
   "metadata": {},
   "outputs": [],
   "source": [
    "dataunzip = np.load('array.npz')\n",
    "print(dataunzip.files)"
   ]
  },
  {
   "cell_type": "code",
   "execution_count": null,
   "metadata": {},
   "outputs": [],
   "source": [
    "print('arr_0: \\n')\n",
    "print(dataunzip['arr_0'])\n",
    "print('arr_1: \\n')\n",
    "print(dataunzip['arr_1'])"
   ]
  },
  {
   "cell_type": "markdown",
   "metadata": {},
   "source": [
    "## 如何基于一列或更多列，对numpy的数组排序？"
   ]
  },
  {
   "cell_type": "markdown",
   "metadata": {},
   "source": [
    "首先，基于第一列对一个2维数组排序, 这里我们设置了种子数88，目的是为了随机数是固定的，方便演示："
   ]
  },
  {
   "cell_type": "code",
   "execution_count": null,
   "metadata": {},
   "outputs": [],
   "source": [
    "np.random.seed(88)\n",
    "arr = np.random.randint(1, 6, size=[8, 4])\n",
    "print(arr)"
   ]
  },
  {
   "cell_type": "markdown",
   "metadata": {},
   "source": [
    "通过上面的做法，创建了一个8行4列的随机数组。"
   ]
  },
  {
   "cell_type": "markdown",
   "metadata": {},
   "source": [
    "如果你使用```np.sort```函数与```axis=0```的参数，所有的列都将按升序排序，独立于彼此。<br>\n",
    "但相应的，每行的数据将完全被重构，与原始数据将不再有任何联系。"
   ]
  },
  {
   "cell_type": "code",
   "execution_count": null,
   "metadata": {},
   "outputs": [],
   "source": [
    "print(np.sort(arr, axis=0))"
   ]
  },
  {
   "cell_type": "markdown",
   "metadata": {},
   "source": [
    "如果不希望破坏原有数据中行数据，建议使用间接的排序方法：```np.argsort```，请参见下方的内容："
   ]
  },
  {
   "cell_type": "markdown",
   "metadata": {},
   "source": [
    "### 如何使用argsort方法，基于第1列对numpy的数组进行排序? （即保留每行数据）"
   ]
  },
  {
   "cell_type": "markdown",
   "metadata": {},
   "source": [
    "首先需要理解```np.argsort```是如何运作的。"
   ]
  },
  {
   "cell_type": "markdown",
   "metadata": {},
   "source": [
    "```np.argsort```返回作为已排序之后的1维数组的各个数据项的索引，如："
   ]
  },
  {
   "cell_type": "code",
   "execution_count": null,
   "metadata": {},
   "outputs": [],
   "source": [
    "x = np.array([1, 10, 5, 2, 8, 9])\n",
    "sort_index = np.argsort(x)\n",
    "print('index positions of sorted array: \\n')\n",
    "print(sort_index)\n",
    "print()\n",
    "print('sorted array: \\n')\n",
    "print(x[sort_index])"
   ]
  },
  {
   "cell_type": "markdown",
   "metadata": {},
   "source": [
    "现在，为了对初始数组:arr排序，将要对第一列做一次```argsort```，并且将获得的索引结果，尝试对arr进行排序："
   ]
  },
  {
   "cell_type": "code",
   "execution_count": null,
   "metadata": {},
   "outputs": [],
   "source": [
    "print(arr)\n",
    "print('The 1st column data of arr: \\n')\n",
    "print(arr[:, 0])\n",
    "print()\n",
    "sorted_index_1stcol = arr[:, 0].argsort()\n",
    "print('The sorted index of 1st column: \\n')\n",
    "print(sorted_index_1stcol)"
   ]
  },
  {
   "cell_type": "code",
   "execution_count": null,
   "metadata": {},
   "outputs": [],
   "source": [
    "print('original arr is: \\n')\n",
    "print(arr)\n",
    "print()\n",
    "print('Sort arr by the result of sorted index of 1st column: \\n')\n",
    "print(arr[sorted_index_1stcol])"
   ]
  },
  {
   "cell_type": "markdown",
   "metadata": {},
   "source": [
    "这是升序排列，那么如何降序排列呢？简单来说，仅仅翻转sorted_index_1stcol就可以了："
   ]
  },
  {
   "cell_type": "code",
   "execution_count": null,
   "metadata": {},
   "outputs": [],
   "source": [
    "print(arr[sorted_index_1stcol[::-1]])"
   ]
  },
  {
   "cell_type": "markdown",
   "metadata": {},
   "source": [
    "###  如何基于2列甚至更多列对numpy的数组进行排序?"
   ]
  },
  {
   "cell_type": "markdown",
   "metadata": {},
   "source": [
    "可以使用```np.lexsort```方法，通过基于该数组所应的排序，传递一个列的元组。<br>\n",
    "<b>需要记住的是，将列首先在元组内的最右边进行排序</b>"
   ]
  },
  {
   "cell_type": "code",
   "execution_count": null,
   "metadata": {},
   "outputs": [],
   "source": [
    "print('arr \\n')\n",
    "print(arr)\n",
    "print()\n",
    "print('arr[:, 1] \\n')\n",
    "print(arr[:, 1])\n",
    "print()\n",
    "print('arr[:, 0] \\n')\n",
    "print(arr[:, 0])\n",
    "print()\n",
    "lexsorted_index = np.lexsort((arr[:,0], arr[:, 1], arr[:, 3]))\n",
    "print('lexsorted_index \\n')\n",
    "print(lexsorted_index)\n",
    "print()\n",
    "print('sort arr by lextsorted_index: \\n')\n",
    "print(arr[lexsorted_index])\n",
    "print()\n",
    "print(arr[lexsorted_index[::-1]])"
   ]
  },
  {
   "cell_type": "markdown",
   "metadata": {},
   "source": [
    "具体意思，就是先按照第一列进行排序，然后按照第二列进行排序。"
   ]
  },
  {
   "cell_type": "markdown",
   "metadata": {},
   "source": [
    "## 处理日期"
   ]
  },
  {
   "cell_type": "markdown",
   "metadata": {},
   "source": [
    "Numpy通过```np.datetime64```对象实现日期，它支持的精度可以到纳秒。<br>\n",
    "可以使用标准YYYY-MM-DD格式化的日期字符串来创建一个日期对象。"
   ]
  },
  {
   "cell_type": "code",
   "execution_count": null,
   "metadata": {},
   "outputs": [],
   "source": [
    "# Create a datetime64 object\n",
    "date64 = np.datetime64('2018-10-06 23:10:10')\n",
    "print(date64)"
   ]
  },
  {
   "cell_type": "markdown",
   "metadata": {},
   "source": [
    "当然，也可以传递hours, minutes, seconds一直到nanoseconds (纳秒)。<br>\n",
    "下面的例子，是如何只显示日期，而不显示时间部分："
   ]
  },
  {
   "cell_type": "code",
   "execution_count": null,
   "metadata": {},
   "outputs": [],
   "source": [
    "dt64 = np.datetime64(date64, 'D')\n",
    "print(dt64)"
   ]
  },
  {
   "cell_type": "markdown",
   "metadata": {},
   "source": [
    "默认情况下，如果你添加一个数字，就会增加天数。<br>\n",
    "但是如果你需要增加其他时间单位比如月、小时、秒等，那么```timedelta64```对象就很方便了。"
   ]
  },
  {
   "cell_type": "code",
   "execution_count": null,
   "metadata": {},
   "outputs": [],
   "source": [
    "# Create the timedeltas (individual units of time)\n",
    "tenminutes = np.timedelta64(10, 'm')  # 10 minutes\n",
    "tenseconds = np.timedelta64(10, 's')  # 10 seconds\n",
    "tennanoseconds = np.timedelta64(10, 'ns')  # 10 nanoseconds\n",
    "\n",
    "print('Add 10 days: ', dt64 + 10)\n",
    "print('Add 10 minutes: ', dt64 + tenminutes)\n",
    "print('Add 10 seconds: ', dt64 + tenseconds)\n",
    "print('Add 10 nanoseconds: ', dt64 + tennanoseconds)"
   ]
  },
  {
   "cell_type": "markdown",
   "metadata": {},
   "source": [
    "下面的例子，是如何将dt64转换为字符串："
   ]
  },
  {
   "cell_type": "code",
   "execution_count": null,
   "metadata": {},
   "outputs": [],
   "source": [
    "# Convert np.datetime64 back to a string\n",
    "print(np.datetime_as_string(dt64))"
   ]
  },
  {
   "cell_type": "code",
   "execution_count": null,
   "metadata": {},
   "outputs": [],
   "source": []
  },
  {
   "cell_type": "markdown",
   "metadata": {},
   "source": [
    "在处理日期时，通常需要从数据中过滤出业务时间。可以通过使用```np.is_busday```方法，知道给定的日期是否为business day"
   ]
  },
  {
   "cell_type": "code",
   "execution_count": null,
   "metadata": {},
   "outputs": [],
   "source": [
    "dt64 = np.datetime64('2018-01-01', 'D')\n",
    "print('Date: ', dt64)\n",
    "print(\"Is it a business day?: \", np.is_busday(dt64))  \n",
    "# 'forward' and 'following' mean to take the first valid day later in time.\n",
    "print(\"Add 2 business days, rolling forward to nearest biz day: \", \n",
    "      np.busday_offset(dt64, 2, roll='forward')) \n",
    "# 'backward' and 'preceding' mean to take the first valid day earlier in time.\n",
    "print(\"Add 2 business days, rolling backward to nearest biz day: \", \n",
    "      np.busday_offset(dt64, 2, roll='backward')) "
   ]
  },
  {
   "cell_type": "markdown",
   "metadata": {},
   "source": [
    "### 如何创建一个日期序列?"
   ]
  },
  {
   "cell_type": "markdown",
   "metadata": {},
   "source": [
    "这个需求可以简单的通过```np.arange```方法实现："
   ]
  },
  {
   "cell_type": "code",
   "execution_count": null,
   "metadata": {},
   "outputs": [],
   "source": [
    "# Create date sequence\n",
    "dates = np.arange(np.datetime64('2018-10-01'), np.datetime64('2018-10-10'))\n",
    "print(dates)\n",
    "\n",
    "# Check if its a business day\n",
    "print(np.is_busday(dates))"
   ]
  },
  {
   "cell_type": "markdown",
   "metadata": {},
   "source": [
    "### 如何将numpy.datetime64转换为datetime.datetime对象?"
   ]
  },
  {
   "cell_type": "code",
   "execution_count": null,
   "metadata": {},
   "outputs": [],
   "source": [
    "# Convert np.datetime64 to datetime.datetime\n",
    "import datetime\n",
    "dt = dt64.tolist()\n",
    "print(type(dt))\n",
    "print(dt)"
   ]
  },
  {
   "cell_type": "markdown",
   "metadata": {},
   "source": [
    "一旦你把它转换成一个```datetime.date```对象，您有更多的工具来提取各种日期相关的数据："
   ]
  },
  {
   "cell_type": "code",
   "execution_count": null,
   "metadata": {},
   "outputs": [],
   "source": [
    "print('Year: ', dt.year)  \n",
    "print('Day of month: ', dt.day)\n",
    "print('Month of year: ', dt.month)  \n",
    "print('Day of Week: ', dt.weekday())"
   ]
  },
  {
   "cell_type": "markdown",
   "metadata": {},
   "source": [
    "## 更多numpy的函数"
   ]
  },
  {
   "cell_type": "markdown",
   "metadata": {},
   "source": [
    "###  向量化(Vectorize) - 使用一个标量(Scalar)函数作用于向量(Vector)"
   ]
  },
  {
   "cell_type": "markdown",
   "metadata": {},
   "source": [
    "通过使用vectorize()的函数，可以创建一个用于处理单个数字的函数，以便处理数组。"
   ]
  },
  {
   "cell_type": "markdown",
   "metadata": {},
   "source": [
    "如同这个简单的例子：\n",
    "函数foo（参见下面的代码）接受一个数字：如果这个数字是“奇数”，则将其平方；否则则将其除以2。<br>\n",
    "当在一个标量（单独的数字）上应用这个函数时，它可以很好的运作，但是在应用于数组时却失败了。<br>\n",
    "使用numpy的vectorize()，即可以令其在数组中工作。"
   ]
  },
  {
   "cell_type": "code",
   "execution_count": null,
   "metadata": {},
   "outputs": [],
   "source": [
    "# Define a scalar function\n",
    "def foo(x):\n",
    "    if x % 2 == 1:\n",
    "        return x**2\n",
    "    else:\n",
    "        return x/2\n",
    "\n",
    "# On a scalar\n",
    "print('x = 10 returns ', foo(10))\n",
    "print('x = 11 returns ', foo(11))\n"
   ]
  },
  {
   "cell_type": "code",
   "execution_count": null,
   "metadata": {},
   "outputs": [],
   "source": [
    "# On a vector, doesn't work\n",
    "print('x = [10, 11, 12] returns ', foo([10, 11, 12]))  # Error "
   ]
  },
  {
   "cell_type": "markdown",
   "metadata": {},
   "source": [
    "下面，将函数foo()向量化，使其可以运行数组参数："
   ]
  },
  {
   "cell_type": "code",
   "execution_count": null,
   "metadata": {},
   "outputs": [],
   "source": [
    "# Vectorize foo(). Make it work on vectors.\n",
    "foo_v = np.vectorize(foo, otypes=[float])\n",
    "\n",
    "print('x = [10, 11, 12] returns ', foo_v([10, 11, 12]))\n",
    "print('x = [[10, 11, 12], [1, 2, 3]] returns ', foo_v([[10, 11, 12], [1, 2, 3]]))"
   ]
  },
  {
   "cell_type": "markdown",
   "metadata": {},
   "source": [
    "当我们需要将作用于标量的函数，也适用于数组，vectorize方法就非常有用了。"
   ]
  },
  {
   "cell_type": "markdown",
   "metadata": {},
   "source": [
    "```vectorize```方法也接受可选的参数：otypes，这个参数将告诉输出的结果应该是什么类型。<br>\n",
    "显式的声明输出结果的数据类型，也会令```vectorize```方法，运行的更快。"
   ]
  },
  {
   "cell_type": "markdown",
   "metadata": {},
   "source": [
    "### apply_along_axis – 使得某个函数作用于列或行"
   ]
  },
  {
   "cell_type": "markdown",
   "metadata": {},
   "source": [
    "首先创建一个2维数组："
   ]
  },
  {
   "cell_type": "code",
   "execution_count": null,
   "metadata": {},
   "outputs": [],
   "source": [
    "# Create a 4x10 random array\n",
    "np.random.seed(100)\n",
    "arr_x = np.random.randint(1,10,size=[4,10])\n",
    "print(arr_x)"
   ]
  },
  {
   "cell_type": "markdown",
   "metadata": {},
   "source": [
    "先理解如何解决下述问题："
   ]
  },
  {
   "cell_type": "markdown",
   "metadata": {},
   "source": [
    "<font color='red'><b>如何在每一行发现最大值与最小值的差异？</b></font>"
   ]
  },
  {
   "cell_type": "markdown",
   "metadata": {},
   "source": [
    "通常的方法是写一个for循环，遍历每一行，然后在每次迭代中计算max-min。<br>\n",
    "这个方法看起来还行，但是如果想要基于列做同样的事情，或者想要实现一个更复杂的计算，它可能会变得很麻烦。<br>\n",
    "你可以用```numpy.apply_along_axis```来优雅地做这件事。"
   ]
  },
  {
   "cell_type": "markdown",
   "metadata": {},
   "source": [
    "此方法接受如下参数：<br>\n",
    "* 作用于一维向量（fund1d）的函数 (下面的例子是max_minus_min函数)\n",
    "* Axis的作用是应用: func1d。对于2D数组，1是行，0是列。\n",
    "* 作用于参数: func1d的数组，应该被适用。\n",
    "\n",
    "这种描述看起来太费解，直接看例子好了："
   ]
  },
  {
   "cell_type": "code",
   "execution_count": null,
   "metadata": {},
   "outputs": [],
   "source": [
    "print(arr_x)\n",
    "print()\n",
    "# Define func1d\n",
    "def max_minus_min(x):\n",
    "    print(x)\n",
    "    return np.max(x) - np.min(x)\n",
    "\n",
    "# Apply along the rows\n",
    "print('基于行轴，所以数组成员为4个: ', \n",
    "      np.apply_along_axis(max_minus_min, 1, arr=arr_x))\n",
    "\n",
    "# Apply along the columns\n",
    "print('基于列轴，所以数组成员为10个: ', \n",
    "      np.apply_along_axis(max_minus_min, 0, arr=arr_x))"
   ]
  },
  {
   "cell_type": "markdown",
   "metadata": {},
   "source": [
    "### 如何向一个numpy的数组添加新的Axis?"
   ]
  },
  {
   "cell_type": "markdown",
   "metadata": {},
   "source": [
    "有时，可能想要将1D数组转换成2D数组（如电子表格），而不需要添加任何额外的数据?<br>\n",
    "为了达到这个目的，可能会这样做，以便将1D数组作为csv文件中的单个列，或者可能想要将它与另一个类似形状的数组连接起来。<br>\n",
    "不管原因是什么，都可以通过使用np.newaxis插入一个新的轴来做到这一点。<br>\n",
    "实际上，使用这个可以将一个较低维度的数组提升到一个更高的维度（升维）"
   ]
  },
  {
   "cell_type": "code",
   "execution_count": null,
   "metadata": {},
   "outputs": [],
   "source": [
    "# Create a 1D array\n",
    "x = np.arange(5)\n",
    "print('Original array: ', x)\n",
    "\n",
    "# Introduce a new column axis\n",
    "x_col = x[:, np.newaxis]\n",
    "print('x_col shape: ', x_col.shape)\n",
    "print(x_col)\n",
    "\n",
    "# Introduce a new row axis\n",
    "x_row = x[np.newaxis, :]\n",
    "print('x_row shape: ', x_row.shape)\n",
    "print(x_row)"
   ]
  },
  {
   "cell_type": "markdown",
   "metadata": {},
   "source": [
    "### 更多有用的numpy函数"
   ]
  },
  {
   "cell_type": "markdown",
   "metadata": {},
   "source": [
    "#### Digitize"
   ]
  },
  {
   "cell_type": "markdown",
   "metadata": {},
   "source": [
    "使用```np.digitize```方法，可以返回每个元素所属的bin的索引位置。"
   ]
  },
  {
   "cell_type": "code",
   "execution_count": null,
   "metadata": {},
   "outputs": [],
   "source": [
    "# Create the array and bins\n",
    "x = np.arange(10)\n",
    "print(x)\n",
    "bins = np.array([2, 5, 11])\n",
    "print(bins)\n",
    "print('''注意：bins事实上成为digitize函数对应的01234，\n",
    "      原数组：012都是0，34对应1，56对应2，78对应3，9对应4''')\n",
    "# Get bin allotments\n",
    "print(np.digitize(x, bins))"
   ]
  },
  {
   "cell_type": "markdown",
   "metadata": {},
   "source": [
    "#### Clip"
   ]
  },
  {
   "cell_type": "markdown",
   "metadata": {},
   "source": [
    "通过```np.clip```方法，在给定的截止范围内限制数字。<br>\n",
    "所有小于下限的数字将被下限所取代。同样的道理也适用于上限。"
   ]
  },
  {
   "cell_type": "code",
   "execution_count": null,
   "metadata": {},
   "outputs": [],
   "source": [
    "print(x)\n",
    "# Cap all elements of x to lie between 3 and 8\n",
    "print(np.clip(x, 3, 8))"
   ]
  },
  {
   "cell_type": "markdown",
   "metadata": {},
   "source": [
    "## 8. Numpy不能做什么？"
   ]
  },
  {
   "cell_type": "markdown",
   "metadata": {},
   "source": [
    "到目前为止，我们已经介绍了大量使用numpy进行数据操作的技术。<br>\n",
    "但是有很多事情是不能直接用numpy做的。<br>\n",
    "基于有限的知识，这里列举一些：<br>\n",
    "* 1. 没有直接的功能来合并两个基于普通列的2维数组。\n",
    "* 2. 直接创建透视表\n",
    "* 3. 没有直接的方法来做二维交叉表。\n",
    "* 4. 没有直接的方法根据数组中的某个唯一值计算统计数据（如平均值）。\n",
    "* 5. 其他。。。\n",
    "\n",
    "但是这些numpy中无法做到的事情，pandas可以很方便的做到。。。<br>"
   ]
  },
  {
   "cell_type": "code",
   "execution_count": null,
   "metadata": {},
   "outputs": [],
   "source": []
  },
  {
   "cell_type": "markdown",
   "metadata": {},
   "source": [
    "可见，当a和b为matrix时， ```a * b``` 计算了a和b的矢量积， ```multiply(a, b)``` 计算了a和b的数量积。当使用matrix时，无论是生成矩阵还是计算，Numpy的风格和Matlab更加贴近，降低了语言切换时的负担。"
   ]
  }
 ],
 "metadata": {
  "kernelspec": {
   "display_name": "Python 3",
   "language": "python",
   "name": "python3"
  },
  "language_info": {
   "codemirror_mode": {
    "name": "ipython",
    "version": 3
   },
   "file_extension": ".py",
   "mimetype": "text/x-python",
   "name": "python",
   "nbconvert_exporter": "python",
   "pygments_lexer": "ipython3",
   "version": "3.8.3"
  },
  "toc": {
   "base_numbering": 1,
   "nav_menu": {},
   "number_sections": true,
   "sideBar": true,
   "skip_h1_title": false,
   "title_cell": "Table of Contents",
   "title_sidebar": "Contents",
   "toc_cell": false,
   "toc_position": {},
   "toc_section_display": true,
   "toc_window_display": false
  }
 },
 "nbformat": 4,
 "nbformat_minor": 4
}
